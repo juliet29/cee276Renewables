{
 "cells": [
  {
   "cell_type": "code",
   "execution_count": 1,
   "metadata": {},
   "outputs": [],
   "source": [
    "import units as u\n",
    "import numpy as np"
   ]
  },
  {
   "attachments": {},
   "cell_type": "markdown",
   "metadata": {},
   "source": [
    "## 3.4 opportunity cost emissions"
   ]
  },
  {
   "cell_type": "code",
   "execution_count": 2,
   "metadata": {},
   "outputs": [],
   "source": [
    "class Plant:\n",
    "    def __init__(self, t_po, l, t_r):\n",
    "        self.t_po = t_po * u.year # planning_to_op\n",
    "        self.l = l * u.year # plant operating lifetime\n",
    "        self.t_r = t_r * u.year # time to refurbish\n",
    "    # def __str__(self):\n",
    "    #     return f\"{self.lhv}, {self.eff}, {self.density}\""
   ]
  },
  {
   "cell_type": "code",
   "execution_count": 3,
   "metadata": {},
   "outputs": [],
   "source": [
    "def calc_background_emissions(plant, _e_g=550, _y=100):\n",
    "    e_g = _e_g * u.g / u.kwh # background grid emissions -(grams of CO2)\n",
    "    y = _y * u.year # years for comparsion \n",
    "    numerator = plant.t_po + (y - plant.t_po) * (plant.t_r/(plant.l + plant.t_r))\n",
    "    e_br = e_g * (numerator)/y\n",
    "    return e_br \n"
   ]
  },
  {
   "cell_type": "code",
   "execution_count": 9,
   "metadata": {},
   "outputs": [
    {
     "name": "stdout",
     "output_type": "stream",
     "text": [
      "A:  19.836 gram / hour / kilowatt \n",
      " B: 125.349 gram / hour / kilowatt\n",
      "Opportunity Cost: 105.513 gram / hour / kilowatt\n"
     ]
    }
   ],
   "source": [
    "a = Plant(t_po=2, l=30, t_r=0.5)\n",
    "b = Plant(t_po=17, l=40, t_r=3)\n",
    "e_br_a = calc_background_emissions(a, _e_g=550, _y=100)\n",
    "e_br_b = calc_background_emissions(b, _e_g=550, _y=100)\n",
    "print(\"A: \", e_br_a, \"\\n B:\", e_br_b)\n",
    "e_oc = e_br_b - e_br_a\n",
    "print(f\"Opportunity Cost: {e_oc}\")"
   ]
  },
  {
   "attachments": {},
   "cell_type": "markdown",
   "metadata": {},
   "source": [
    "## 3.5 anthropogenic heat flux"
   ]
  },
  {
   "cell_type": "code",
   "execution_count": 6,
   "metadata": {},
   "outputs": [
    {
     "name": "stdout",
     "output_type": "stream",
     "text": [
      "E_co2 :18092430000000000.000 gram / year\n",
      "H :1.657 gram / hour / kilowatt\n"
     ]
    }
   ],
   "source": [
    "chi_co2 = 113 # mixing ratio -> ppmv (parts per million by volume)\n",
    "C = 8.0055e15 * u.g # grams of CO2/ppmv-CO2 \n",
    "tau_co2 = 50 * u.year\n",
    "E_co2 = chi_co2 * C / tau_co2\n",
    "print(f\"E_co2 :{E_co2}\")\n",
    "\n",
    "A_h = 0.0015 * u.watt / u.m**2\n",
    "F_co2 = 1.82 * u.watt / u.m**2\n",
    "G_elec = 9e12 * u.kwh / u.year\n",
    "\n",
    "H = (E_co2 * A_h)/(F_co2 * G_elec) # grams-CO2/kwh \n",
    "\n",
    "print(f\"H :{H}\")"
   ]
  },
  {
   "attachments": {},
   "cell_type": "markdown",
   "metadata": {},
   "source": [
    "## 3.12 carbon capture"
   ]
  },
  {
   "cell_type": "code",
   "execution_count": 32,
   "metadata": {},
   "outputs": [],
   "source": [
    "class Chemical:\n",
    "    def __init__(self, mw, gwp20, gwp100):\n",
    "        self.MW = mw/1000 *  u.ureg('g/mol') # planning_to_op\n",
    "        self.GWP20 = gwp20 * u.g / u.g # kg-C02/kg-(chemical)\n",
    "        self.GWP100= gwp100 * u.g / u.g # kg-C02/kg-(chemical)"
   ]
  },
  {
   "cell_type": "code",
   "execution_count": 33,
   "metadata": {},
   "outputs": [
    {
     "data": {
      "text/html": [
       "0.0440098 gram/mole"
      ],
      "text/latex": [
       "$0.0440098\\ \\frac{\\mathrm{gram}}{\\mathrm{mole}}$"
      ],
      "text/plain": [
       "0.0440098 <Unit('gram / mole')>"
      ]
     },
     "execution_count": 33,
     "metadata": {},
     "output_type": "execute_result"
    }
   ],
   "source": [
    "CH4 = Chemical(16.04276, 86, 34)\n",
    "CO2 = Chemical(44.0098, 1, 1)\n",
    "CO2.MW"
   ]
  },
  {
   "cell_type": "code",
   "execution_count": 44,
   "metadata": {},
   "outputs": [],
   "source": [
    "# coal plant emissions \n",
    "ER_co2_coal_stack = 950 * u.g / u.mwh # emission rate from combustion of coal at stack (g-co2/mwh) \n",
    "EC_co2 = 750 * u.g / u.mwh # emissions captured with carbon capture equipment(g-co2/mwh) "
   ]
  },
  {
   "cell_type": "code",
   "execution_count": 37,
   "metadata": {},
   "outputs": [],
   "source": [
    "# emissions rate at natural gas plant \n",
    "ER_co2_ng = 300 * u.g / u.mwh # emission rate from combustion of natural gas in natural gas plant ~ stack emissions  (g-co2/mwh) \n",
    "UER_co2_ng = 30 * u.g / u.mwh # upstream emissions due to mining and transport of ng (g-co2/mwh) "
   ]
  },
  {
   "cell_type": "code",
   "execution_count": 46,
   "metadata": {},
   "outputs": [
    {
     "name": "stdout",
     "output_type": "stream",
     "text": [
      "6816.664 mole / hour / megawatt\n",
      "102.687 gram / hour / megawatt\n",
      "2.417 gram / hour / megawatt\n",
      "207.897 gram / hour / megawatt 82.192 gram / hour / megawatt\n"
     ]
    }
   ],
   "source": [
    "# determine how much emissions result from leaked methane in upstream processes \n",
    "\n",
    "mb_co2_ng = ER_co2_ng / CO2.MW # moles of co2 due to upstream emissions (mol-C02/mwh)\n",
    "print(mb_co2_ng)\n",
    "\n",
    "\n",
    "FM_ch4 = 93.9/100 # fraction of moles of ng burned that are ch4  \n",
    "i_ch4_ng = mb_co2_ng * FM_ch4 * CH4.MW # mass intensity* of methane burned in upstream process (kg-ch4/mwh)\n",
    "print(i_ch4_ng) \n",
    "\n",
    "\n",
    "LR_ng = 2.3/100  # upstream leakage rate of ng\n",
    "ul_ch4 = (i_ch4_ng * LR_ng) / (1 - LR_ng) # upstream leakage amount of ng, and is emitted as ch4 (kg-ch4/mwh)\n",
    "print(ul_ch4)\n",
    "\n",
    "# 20 and 100 year co2 emissions due to upstream leakage of methane \n",
    "ul_co2e_ch4_20 = ul_ch4 * CH4.GWP20 \n",
    "ul_co2e_ch4_100 = ul_ch4 * CH4.GWP100 # kg-co2e/mwh \n",
    "\n",
    "print(ul_co2e_ch4_20, ul_co2e_ch4_100)\n"
   ]
  },
  {
   "cell_type": "code",
   "execution_count": 42,
   "metadata": {},
   "outputs": [
    {
     "name": "stdout",
     "output_type": "stream",
     "text": [
      "29.310 gram / hour / megawatt\n"
     ]
    }
   ],
   "source": [
    "# remaining upstream emissions are emitted as co2 directly \n",
    "unl_co2 = UER_co2_ng # * (1 - LR_ng) #TODO check this!!\n",
    "print(unl_co2)"
   ]
  },
  {
   "cell_type": "code",
   "execution_count": 43,
   "metadata": {},
   "outputs": [
    {
     "data": {
      "text/plain": [
       "(350.0997018990834 <Unit('gram / hour / megawatt')>,\n",
       " 337.5291844717307 <Unit('gram / hour / megawatt')>)"
      ]
     },
     "execution_count": 43,
     "metadata": {},
     "output_type": "execute_result"
    }
   ],
   "source": [
    "# total emissions from ng plant = upstream leakage due to ch4 + upstream emissions due to co2 + plant emissions as co2 \n",
    "co2e_ng_20 = ul_co2e_ch4_20  + ER_co2_ng + unl_co2\n",
    "co2e_ng_100 = ul_co2e_ch4_100 + ER_co2_ng  + unl_co2 \n",
    "co2e_ng_20, co2e_ng_100"
   ]
  },
  {
   "cell_type": "code",
   "execution_count": 45,
   "metadata": {},
   "outputs": [
    {
     "data": {
      "text/plain": [
       "(0.5768788339113216 <Unit('dimensionless')>,\n",
       " 0.5825110677454062 <Unit('dimensionless')>)"
      ]
     },
     "execution_count": 45,
     "metadata": {},
     "output_type": "execute_result"
    }
   ],
   "source": [
    "# percent emissions effectively captured = captured emissions/ total emissions \n",
    "p_EC_20 = EC_co2 / (ER_co2_coal_stack + co2e_ng_20) \n",
    "p_EC_100 = EC_co2 / (ER_co2_coal_stack + co2e_ng_100) \n",
    "\n",
    "p_EC_20, p_EC_100"
   ]
  },
  {
   "cell_type": "code",
   "execution_count": null,
   "metadata": {},
   "outputs": [],
   "source": []
  }
 ],
 "metadata": {
  "kernelspec": {
   "display_name": "classenv",
   "language": "python",
   "name": "python3"
  },
  "language_info": {
   "codemirror_mode": {
    "name": "ipython",
    "version": 3
   },
   "file_extension": ".py",
   "mimetype": "text/x-python",
   "name": "python",
   "nbconvert_exporter": "python",
   "pygments_lexer": "ipython3",
   "version": "3.9.15"
  },
  "orig_nbformat": 4
 },
 "nbformat": 4,
 "nbformat_minor": 2
}
