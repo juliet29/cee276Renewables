{
 "cells": [
  {
   "cell_type": "code",
   "execution_count": 1,
   "metadata": {},
   "outputs": [],
   "source": [
    "import units as u\n",
    "import numpy as np"
   ]
  },
  {
   "attachments": {},
   "cell_type": "markdown",
   "metadata": {},
   "source": [
    "## 3.4 opportunity cost emissions"
   ]
  },
  {
   "cell_type": "code",
   "execution_count": 10,
   "metadata": {},
   "outputs": [],
   "source": [
    "class Plant:\n",
    "    def __init__(self, t_po, l, t_r):\n",
    "        self.t_po = t_po * u.year # planning_to_op\n",
    "        self.l = l * u.year # plant operating lifetime\n",
    "        self.t_r = t_r * u.year # time to refurbish\n",
    "    # def __str__(self):\n",
    "    #     return f\"{self.lhv}, {self.eff}, {self.density}\""
   ]
  },
  {
   "cell_type": "code",
   "execution_count": 11,
   "metadata": {},
   "outputs": [],
   "source": [
    "def calc_background_emissions(plant, e_g=550, y=100):\n",
    "    e_g = e_g * u.g / u.kwh # background grid emissions -(grams of CO2)\n",
    "    y = y * u.year # years for comparsion \n",
    "    numerator = plant.t_po + (y - plant.t_po) * (plant.t_r/(plant.l + plant.t_r))\n",
    "    e_br = e_g * (numerator)/y\n",
    "    return e_br \n"
   ]
  },
  {
   "cell_type": "code",
   "execution_count": 15,
   "metadata": {},
   "outputs": [
    {
     "name": "stdout",
     "output_type": "stream",
     "text": [
      "19.836 gram / hour / kilowatt \n",
      " 125.349 gram / hour / kilowatt\n",
      "Opportunity Cost: 105.513 gram / hour / kilowatt\n"
     ]
    }
   ],
   "source": [
    "a = Plant(t_po=2, l=30, t_r=0.5)\n",
    "b = Plant(t_po=17, l=40, t_r=3)\n",
    "e_br_a = calc_background_emissions(a, e_g=550, y=100)\n",
    "e_br_b = calc_background_emissions(b, e_g=550, y=100)\n",
    "print(e_br_a, \"\\n\", e_br_b)\n",
    "e_oc = e_br_b - e_br_a\n",
    "print(f\"Opportunity Cost: {e_oc}\")"
   ]
  },
  {
   "attachments": {},
   "cell_type": "markdown",
   "metadata": {},
   "source": [
    "## 3.5 anthropogenic heat flux"
   ]
  },
  {
   "cell_type": "code",
   "execution_count": null,
   "metadata": {},
   "outputs": [],
   "source": []
  }
 ],
 "metadata": {
  "kernelspec": {
   "display_name": "classenv",
   "language": "python",
   "name": "python3"
  },
  "language_info": {
   "codemirror_mode": {
    "name": "ipython",
    "version": 3
   },
   "file_extension": ".py",
   "mimetype": "text/x-python",
   "name": "python",
   "nbconvert_exporter": "python",
   "pygments_lexer": "ipython3",
   "version": "3.9.15"
  },
  "orig_nbformat": 4
 },
 "nbformat": 4,
 "nbformat_minor": 2
}
