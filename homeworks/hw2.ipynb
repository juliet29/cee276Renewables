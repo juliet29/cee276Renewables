{
 "cells": [
  {
   "cell_type": "code",
   "execution_count": 1,
   "metadata": {},
   "outputs": [],
   "source": [
    "import units as u\n",
    "import numpy as np\n",
    "import pylatex"
   ]
  },
  {
   "attachments": {},
   "cell_type": "markdown",
   "metadata": {},
   "source": [
    "# chapter 3: technologies that wont work "
   ]
  },
  {
   "attachments": {},
   "cell_type": "markdown",
   "metadata": {},
   "source": [
    "## 3.4 opportunity cost emissions"
   ]
  },
  {
   "cell_type": "code",
   "execution_count": 2,
   "metadata": {},
   "outputs": [],
   "source": [
    "class Plant:\n",
    "    def __init__(self, t_po, l, t_r):\n",
    "        self.t_po = t_po * u.year # planning_to_op\n",
    "        self.l = l * u.year # plant operating lifetime\n",
    "        self.t_r = t_r * u.year # time to refurbish"
   ]
  },
  {
   "cell_type": "code",
   "execution_count": 3,
   "metadata": {},
   "outputs": [],
   "source": [
    "def calc_background_emissions(plant, _e_g=550, _y=100, refurbish=False):\n",
    "    e_g = _e_g * u.g / u.kwh # background grid emissions (grams of CO2)\n",
    "    y = _y * u.year # years for comparsion \n",
    "    if refurbish == True:\n",
    "        r = (plant.t_r/(plant.l + plant.t_r))\n",
    "    else:\n",
    "        r = 0\n",
    "    numerator = plant.t_po + (y - plant.t_po) * r\n",
    "    print(plant.t_po, y, r, numerator)\n",
    "    e_br = e_g * (numerator)/y\n",
    "    return e_br \n"
   ]
  },
  {
   "cell_type": "code",
   "execution_count": 4,
   "metadata": {},
   "outputs": [
    {
     "name": "stdout",
     "output_type": "stream",
     "text": [
      "2.000 year 100.000 year 0.016 dimensionless 3.607 year\n",
      "17.000 year 100.000 year 0.070 dimensionless 22.791 year\n",
      "A:  19.836 gram / hour / kilowatt \n",
      " B: 125.349 gram / hour / kilowatt\n",
      "Opportunity Cost: 105.513 gram / hour / kilowatt\n"
     ]
    }
   ],
   "source": [
    "a = Plant(t_po=2, l=30, t_r=0.5)\n",
    "b = Plant(t_po=17, l=40, t_r=3)\n",
    "e_br_a = calc_background_emissions(a, _e_g=550, _y=100, refurbish=True)\n",
    "e_br_b = calc_background_emissions(b, _e_g=550, _y=100, refurbish=True)\n",
    "print(\"A: \", e_br_a, \"\\n B:\", e_br_b)\n",
    "e_oc = e_br_b - e_br_a\n",
    "print(f\"Opportunity Cost: {e_oc}\")"
   ]
  },
  {
   "attachments": {},
   "cell_type": "markdown",
   "metadata": {},
   "source": [
    "## 3.5 anthropogenic heat flux"
   ]
  },
  {
   "cell_type": "code",
   "execution_count": 5,
   "metadata": {},
   "outputs": [
    {
     "name": "stdout",
     "output_type": "stream",
     "text": [
      "E_co2 :18092430000000000.000 gram / year\n",
      "H :1.657 gram / hour / kilowatt\n"
     ]
    }
   ],
   "source": [
    "chi_co2 = 113 # mixing ratio -> ppmv (parts per million by volume)\n",
    "C = 8.0055e15 * u.g # grams of CO2/ppmv-CO2 \n",
    "tau_co2 = 50 * u.year\n",
    "E_co2 = chi_co2 * C / tau_co2\n",
    "print(f\"E_co2 :{E_co2}\")\n",
    "\n",
    "A_h = 0.0015 * u.watt / u.m**2\n",
    "F_co2 = 1.82 * u.watt / u.m**2\n",
    "G_elec = 9e12 * u.kwh / u.year\n",
    "\n",
    "H = (E_co2 * A_h)/(F_co2 * G_elec) # grams-CO2/kwh \n",
    "\n",
    "print(f\"H :{H}\")"
   ]
  },
  {
   "attachments": {},
   "cell_type": "markdown",
   "metadata": {},
   "source": [
    "## 3.12 carbon capture"
   ]
  },
  {
   "cell_type": "code",
   "execution_count": 6,
   "metadata": {},
   "outputs": [],
   "source": [
    "class Chemical:\n",
    "    def __init__(self, mw, gwp20, gwp100):\n",
    "        self.MW = mw/1000 *  u.ureg('g/mol') # molecular weight in kg/mol \n",
    "        self.GWP20 = gwp20 * u.g / u.g\n",
    "        self.GWP100= gwp100 * u.g / u.g "
   ]
  },
  {
   "cell_type": "code",
   "execution_count": 7,
   "metadata": {},
   "outputs": [
    {
     "data": {
      "text/html": [
       "0.0440098 gram/mole"
      ],
      "text/latex": [
       "$0.0440098\\ \\frac{\\mathrm{gram}}{\\mathrm{mole}}$"
      ],
      "text/plain": [
       "0.0440098 <Unit('gram / mole')>"
      ]
     },
     "execution_count": 7,
     "metadata": {},
     "output_type": "execute_result"
    }
   ],
   "source": [
    "CH4 = Chemical(16.04276, 86, 34)\n",
    "CO2 = Chemical(44.0098, 1, 1)\n",
    "CO2.MW"
   ]
  },
  {
   "cell_type": "code",
   "execution_count": 8,
   "metadata": {},
   "outputs": [],
   "source": [
    "# coal plant emissions \n",
    "ER_co2_coal_stack = 950 * u.g / u.mwh # emission rate from combustion of coal at stack (g-co2/mwh) \n",
    "EC_co2 = 750 * u.g / u.mwh # emissions captured with carbon capture equipment(g-co2/mwh) "
   ]
  },
  {
   "cell_type": "code",
   "execution_count": 9,
   "metadata": {},
   "outputs": [],
   "source": [
    "# emissions rate at natural gas plant \n",
    "ER_co2_ng = 300 * u.g / u.mwh # emission rate from combustion of natural gas in natural gas plant ~ stack emissions  (g-co2/mwh) \n",
    "UER_co2_ng = 30 * u.g / u.mwh # upstream emissions due to mining and transport of ng (g-co2/mwh) "
   ]
  },
  {
   "cell_type": "code",
   "execution_count": 10,
   "metadata": {},
   "outputs": [
    {
     "name": "stdout",
     "output_type": "stream",
     "text": [
      "moles of co2 due to stack emissions:  6816.664 mole / hour / megawatt\n",
      "mass intensity of methane burned:  102.687 gram / hour / megawatt\n",
      "leakage amount of ng, and is emitted as ch4:  2.417 gram / hour / megawatt\n",
      "20 and 100 year co2 emissions due to methane leakage  207.897 gram / hour / megawatt 82.192 gram / hour / megawatt\n"
     ]
    }
   ],
   "source": [
    "# determine how much emissions result from leaked methane that is being transferred to plant \n",
    "\n",
    "mb_co2_ng = ER_co2_ng / CO2.MW # moles burned of co2 due to stack emissions (mol-C02/mwh)\n",
    "print(\"moles of co2 due to stack emissions: \", mb_co2_ng)\n",
    "\n",
    "\n",
    "FM_ch4 = 93.9/100 # fraction of moles of ng burned that are ch4  \n",
    "i_ch4_ng = mb_co2_ng * FM_ch4 * CH4.MW # mass intensity* of methane burned (kg-ch4/mwh)\n",
    "print(\"mass intensity of methane burned: \", i_ch4_ng) \n",
    "\n",
    "\n",
    "LR_ng = 2.3/100  # leakage rate of ng\n",
    "ul_ch4 = (i_ch4_ng * LR_ng) / (1 - LR_ng) # leakage amount of ng, and is emitted as ch4 (kg-ch4/mwh)\n",
    "print(\"leakage amount of ng, and is emitted as ch4: \",  ul_ch4)\n",
    "\n",
    "# 20 and 100 year co2 emissions due to  leakage of methane \n",
    "ul_co2e_ch4_20 = ul_ch4 * CH4.GWP20 \n",
    "ul_co2e_ch4_100 = ul_ch4 * CH4.GWP100 # kg-co2e/mwh \n",
    "\n",
    "print(\"20 and 100 year co2 emissions due to methane leakage \",  ul_co2e_ch4_20, ul_co2e_ch4_100)\n"
   ]
  },
  {
   "cell_type": "code",
   "execution_count": 11,
   "metadata": {},
   "outputs": [
    {
     "name": "stdout",
     "output_type": "stream",
     "text": [
      "30.000 gram / hour / megawatt\n"
     ]
    }
   ],
   "source": [
    "# remaining upstream emissions are emitted as co2 directly \n",
    "unl_co2 = UER_co2_ng \n",
    "print(unl_co2)"
   ]
  },
  {
   "cell_type": "code",
   "execution_count": 12,
   "metadata": {},
   "outputs": [
    {
     "data": {
      "text/plain": [
       "(537.8970189908339 <Unit('gram / hour / megawatt')>,\n",
       " 412.1918447173065 <Unit('gram / hour / megawatt')>)"
      ]
     },
     "execution_count": 12,
     "metadata": {},
     "output_type": "execute_result"
    }
   ],
   "source": [
    "# total emissions from ng plant = upstream leakage due to ch4 + upstream emissions due to co2 + plant emissions as co2 \n",
    "co2e_ng_20 = ul_co2e_ch4_20  + ER_co2_ng + UER_co2_ng\n",
    "co2e_ng_100 = ul_co2e_ch4_100 + ER_co2_ng  + UER_co2_ng\n",
    "co2e_ng_20, co2e_ng_100"
   ]
  },
  {
   "cell_type": "code",
   "execution_count": 13,
   "metadata": {},
   "outputs": [
    {
     "data": {
      "text/plain": [
       "(0.5040671433757475 <Unit('dimensionless')>,\n",
       " 0.5505832404654032 <Unit('dimensionless')>)"
      ]
     },
     "execution_count": 13,
     "metadata": {},
     "output_type": "execute_result"
    }
   ],
   "source": [
    "# percent emissions effectively captured = captured emissions/ total emissions \n",
    "p_EC_20 = EC_co2 / (ER_co2_coal_stack + co2e_ng_20) \n",
    "p_EC_100 = EC_co2 / (ER_co2_coal_stack + co2e_ng_100) \n",
    "\n",
    "p_EC_20, p_EC_100"
   ]
  },
  {
   "attachments": {},
   "cell_type": "markdown",
   "metadata": {},
   "source": [
    "## 3.13 social cost "
   ]
  },
  {
   "cell_type": "code",
   "execution_count": 14,
   "metadata": {},
   "outputs": [
    {
     "data": {
      "text/html": [
       "0.045 1/(hour kilowatt)"
      ],
      "text/latex": [
       "$0.045\\ \\frac{1}{\\left(\\mathrm{hour} \\cdot \\mathrm{kilowatt}\\right)}$"
      ],
      "text/plain": [
       "0.045 <Unit('1 / hour / kilowatt')>"
      ]
     },
     "execution_count": 14,
     "metadata": {},
     "output_type": "execute_result"
    }
   ],
   "source": [
    "solar = 0.04 / u.kwh # USD/kwh \n",
    "natural_gas = 0.06 / u.kwh  # USD/kwh \n",
    "\n",
    "ccs_cost_ratio = 0.75 \n",
    "ccs_energy_ratio = 1.25\n",
    "ccs_emissions_increase = 1.25\n",
    "ccs_emissions_reduction = 0.8\n",
    "\n",
    "health_costs_ng = 0.07 / u.kwh  # USD/kwh \n",
    "climate_costs_ng =  0.16 / u.kwh # USD/kwh \n",
    "\n",
    "ccs_cost = ccs_cost_ratio * natural_gas\n",
    "ccs_cost\n"
   ]
  },
  {
   "cell_type": "code",
   "execution_count": 15,
   "metadata": {},
   "outputs": [
    {
     "data": {
      "text/html": [
       "0.3205 1/(hour kilowatt)"
      ],
      "text/latex": [
       "$0.3205\\ \\frac{1}{\\left(\\mathrm{hour} \\cdot \\mathrm{kilowatt}\\right)}$"
      ],
      "text/plain": [
       "0.3205 <Unit('1 / hour / kilowatt')>"
      ]
     },
     "execution_count": 15,
     "metadata": {},
     "output_type": "execute_result"
    }
   ],
   "source": [
    "# social costs natural gas =  energy + health + climate \n",
    "\n",
    "energy_cost_ng_and_css = natural_gas + ccs_cost\n",
    "health_cost_ng_and_css = ccs_emissions_increase * health_costs_ng\n",
    "climate_cost_ng_and_css = ccs_emissions_reduction * climate_costs_ng\n",
    "\n",
    "total_cost_ng_and_ccs = energy_cost_ng_and_css + health_cost_ng_and_css + climate_cost_ng_and_css\n",
    "\n",
    "total_cost_ng_and_ccs # USD/kwh \n"
   ]
  },
  {
   "cell_type": "code",
   "execution_count": 16,
   "metadata": {},
   "outputs": [
    {
     "data": {
      "text/html": [
       "8.0125 dimensionless"
      ],
      "text/latex": [
       "$8.0125\\ dimensionless$"
      ],
      "text/plain": [
       "8.0125 <Unit('dimensionless')>"
      ]
     },
     "execution_count": 16,
     "metadata": {},
     "output_type": "execute_result"
    }
   ],
   "source": [
    "comparison = total_cost_ng_and_ccs/ solar\n",
    "comparison"
   ]
  },
  {
   "attachments": {},
   "cell_type": "markdown",
   "metadata": {},
   "source": [
    "## 3.14 nuke vs wind opportunity cost"
   ]
  },
  {
   "cell_type": "code",
   "execution_count": 17,
   "metadata": {},
   "outputs": [
    {
     "name": "stdout",
     "output_type": "stream",
     "text": [
      "nuclear vs wind tim to operation : 15.000 year 2.000 year\n",
      "opportunity cost emissions simple: 11050.000 gram * year / hour / kilowatt\n",
      "15.000 year 100.000 year 0 15.000 year\n",
      "2.000 year 100.000 year 0 2.000 year\n",
      "127.500 gram / hour / kilowatt 17.000 gram / hour / kilowatt\n",
      "opportunity cost emissions: 110.500 gram / hour / kilowatt\n"
     ]
    }
   ],
   "source": [
    "# # determine the opportunity cost of background emissions, assuming a 100 year operating life \n",
    "\n",
    "# class Plant:\n",
    "#     def __init__(self, t_po, l, t_r):\n",
    "#         self.t_po = t_po * u.year # planning_to_operating time \n",
    "#         self.l = l * u.year # plant operating lifetime\n",
    "#         self.t_r = t_r * u.year # time to refurbish\n",
    "\n",
    "nuclear = Plant(2034 - 2019, 1, 1)\n",
    "wind = Plant(2021 - 2019, 1, 1)\n",
    "print(\"nuclear vs wind tim to operation :\",nuclear.t_po, wind.t_po)\n",
    "\n",
    "# simpler background grid opportunity cost calculations since assuming same lifetime and no refurbishments \n",
    "grid_emit = 850 * u.g / u.kwh \n",
    "e_oc_simple = grid_emit*(nuclear.t_po - wind.t_po)\n",
    "print(f\"opportunity cost emissions simple: {e_oc_simple}\") # 11,050 g/kwh/year => pretty high, in example, have: 850 - 900 g/kwh\n",
    "\n",
    "# using standard background emissions calculation \n",
    "\n",
    "# def calc_background_emissions(plant, _e_g=550, _y=100, refurbish=False):\n",
    "#     e_g = _e_g * u.g / u.kwh # background grid emissions (grams of CO2)\n",
    "#     y = _y * u.year # years for comparsion \n",
    "#     if refurbish == True:\n",
    "#         r = (plant.t_r/(plant.l + plant.t_r))\n",
    "#     else:\n",
    "#         r = 0\n",
    "#     numerator = plant.t_po + (y - plant.t_po) * r\n",
    "#     print(plant.t_po, y, r, numerator)\n",
    "#     e_br = e_g * (numerator)/y\n",
    "#     return e_br \n",
    "\n",
    "e_br_nuclear = calc_background_emissions(nuclear, _e_g= 850, _y=100)\n",
    "e_br_wind = calc_background_emissions(wind, _e_g= 850, _y=100)\n",
    "print(e_br_nuclear, e_br_wind)\n",
    "e_oc = e_br_nuclear - e_br_wind\n",
    "print(f\"opportunity cost emissions: {e_oc}\") # edited  to remover refurbishment, now 110 g/kwh, still seems low"
   ]
  },
  {
   "cell_type": "code",
   "execution_count": 18,
   "metadata": {},
   "outputs": [],
   "source": [
    "nuclear.operating_cost = 10000 * u.USD / u.kwh\n",
    "nuclear.capacity = 1 * u.ureg.gigawatt\n",
    "wind.operating_cost = 1200 * u.USD / u.kwh\n",
    "wind.capacity_factor = 0.35"
   ]
  },
  {
   "cell_type": "code",
   "execution_count": 19,
   "metadata": {},
   "outputs": [
    {
     "data": {
      "text/html": [
       "8.333333333333334 gigawatt"
      ],
      "text/latex": [
       "$8.333333333333334\\ \\mathrm{gigawatt}$"
      ],
      "text/plain": [
       "8.333333333333334 <Unit('gigawatt')>"
      ]
     },
     "execution_count": 19,
     "metadata": {},
     "output_type": "execute_result"
    }
   ],
   "source": [
    "# additional cost for nuclear facility over wind \n",
    "beta = nuclear.operating_cost/ wind.operating_cost * nuclear.capacity\n",
    "beta # for each beta (8.3) gw of wind, get 1 gw of nuclear at this price ratio"
   ]
  },
  {
   "cell_type": "code",
   "execution_count": 20,
   "metadata": {},
   "outputs": [
    {
     "data": {
      "text/html": [
       "25550.0 gigawatt hour/year"
      ],
      "text/latex": [
       "$25550.0\\ \\frac{\\mathrm{gigawatt} \\cdot \\mathrm{hour}}{\\mathrm{year}}$"
      ],
      "text/plain": [
       "25550.0 <Unit('gigawatt * hour / year')>"
      ]
     },
     "execution_count": 20,
     "metadata": {},
     "output_type": "execute_result"
    }
   ],
   "source": [
    "# determine the amount of wind that could be produced at this cost rartio \n",
    "possible_wind_energy = beta *  wind.capacity_factor * 8760 * u.hour / u.year # (gwh/year)\n",
    "possible_wind_energy "
   ]
  },
  {
   "cell_type": "code",
   "execution_count": 21,
   "metadata": {},
   "outputs": [
    {
     "data": {
      "text/html": [
       "28.232750000000003 teragram/year"
      ],
      "text/latex": [
       "$28.232750000000003\\ \\frac{\\mathrm{teragram}}{\\mathrm{year}}$"
      ],
      "text/plain": [
       "28.232750000000003 <Unit('teragram / year')>"
      ]
     },
     "execution_count": 21,
     "metadata": {},
     "output_type": "execute_result"
    }
   ],
   "source": [
    "# simple opportunity cost emissions \n",
    "possible_emit_avoid = possible_wind_energy * (10e9 * u.kwh/ (u.ureg.terawatt*u.hour)) * e_oc\n",
    " \n",
    "possible_emit_avoid = (possible_emit_avoid).to(\"teragram/year\")\n",
    "possible_emit_avoid"
   ]
  },
  {
   "cell_type": "code",
   "execution_count": 22,
   "metadata": {},
   "outputs": [
    {
     "data": {
      "text/html": [
       "2823.275 teragram"
      ],
      "text/latex": [
       "$2823.275\\ \\mathrm{teragram}$"
      ],
      "text/plain": [
       "2823.275 <Unit('teragram')>"
      ]
     },
     "execution_count": 22,
     "metadata": {},
     "output_type": "execute_result"
    }
   ],
   "source": [
    "# textbook opportunity cost emissions calculatation \n",
    "possible_emit_avoid = possible_wind_energy * (10e9 * u.kwh/ (u.ureg.terawatt*u.hour)) * e_oc_simple\n",
    " \n",
    "possible_emit_avoid = (possible_emit_avoid).to(\"teragram\")\n",
    "possible_emit_avoid"
   ]
  },
  {
   "attachments": {},
   "cell_type": "markdown",
   "metadata": {},
   "source": [
    "# chapter 4: electricity basics "
   ]
  },
  {
   "attachments": {},
   "cell_type": "markdown",
   "metadata": {},
   "source": [
    "## 4.1 area to achieve drift velocity "
   ]
  },
  {
   "cell_type": "code",
   "execution_count": 23,
   "metadata": {},
   "outputs": [
    {
     "data": {
      "text/plain": [
       "(65.33 <Unit('gram / mole')>, 8960000.0 <Unit('gram / meter ** 3')>)"
      ]
     },
     "execution_count": 23,
     "metadata": {},
     "output_type": "execute_result"
    }
   ],
   "source": [
    "CU = Chemical(65.33*1000, 0, 0 )\n",
    "CU.RHO = (8960 * u.kg / u.m**3).to(\"g/m**3\")\n",
    "CU.MW, CU.RHO "
   ]
  },
  {
   "cell_type": "code",
   "execution_count": 24,
   "metadata": {},
   "outputs": [
    {
     "data": {
      "text/html": [
       "19850067387.111588 coulomb/(hour meter<sup>2</sup>)"
      ],
      "text/latex": [
       "$19850067387.111588\\ \\frac{\\mathrm{coulomb}}{\\left(\\mathrm{hour} \\cdot \\mathrm{meter}^{2}\\right)}$"
      ],
      "text/plain": [
       "19850067387.111588 <Unit('coulomb / hour / meter ** 2')>"
      ]
     },
     "execution_count": 24,
     "metadata": {},
     "output_type": "execute_result"
    }
   ],
   "source": [
    "# calculate current density \n",
    "v_drift  = (1.5 * u.m / u.hour) \n",
    "q = 1.602e-19 *  u.ureg.coulomb # / electron \n",
    "\n",
    "\n",
    "n_atoms_per_mole = 6.023e23 / u.ureg.mole\n",
    "n_electrons_per_atom = 1 # copper => 1 valent electron \n",
    "n = n_atoms_per_mole * n_electrons_per_atom * 1/CU.MW * CU.RHO # density of charge carriers, (number of e-/m3)\n",
    "\n",
    "\n",
    "j = v_drift * n * q\n",
    "j # current density (coulomb/ m2-second)\n"
   ]
  },
  {
   "cell_type": "code",
   "execution_count": 25,
   "metadata": {},
   "outputs": [
    {
     "data": {
      "text/html": [
       "9.067979291439175×10<sup>-6</sup> meter<sup>2</sup>"
      ],
      "text/latex": [
       "$9.067979291439175\\times 10^{-6}\\ \\mathrm{meter}^{2}$"
      ],
      "text/plain": [
       "9.067979291439175e-06 <Unit('meter ** 2')>"
      ]
     },
     "execution_count": 25,
     "metadata": {},
     "output_type": "execute_result"
    }
   ],
   "source": [
    "i = 50 * u.ureg.ampere\n",
    "a = (i/j).to(\"m**2\")\n",
    "a"
   ]
  },
  {
   "attachments": {},
   "cell_type": "markdown",
   "metadata": {},
   "source": [
    "## 4.2 voltage across circuit of lightbulbs in series"
   ]
  },
  {
   "cell_type": "code",
   "execution_count": 26,
   "metadata": {},
   "outputs": [
    {
     "data": {
      "text/html": [
       "12.0 volt"
      ],
      "text/latex": [
       "$12.0\\ \\mathrm{volt}$"
      ],
      "text/plain": [
       "12.0 <Unit('volt')>"
      ]
     },
     "execution_count": 26,
     "metadata": {},
     "output_type": "execute_result"
    }
   ],
   "source": [
    "i =  0.3 * u.amp\n",
    "r1 = 15 * u.ohm \n",
    "r2 = 12 * u.ohm\n",
    "r3 = 13 * u.ohm\n",
    "\n",
    "v  = i* (r1 + r2 + r3)\n",
    "v.to(\"volt\")"
   ]
  },
  {
   "attachments": {},
   "cell_type": "markdown",
   "metadata": {},
   "source": [
    "## 4.3 power and energy of lightbulb"
   ]
  },
  {
   "cell_type": "code",
   "execution_count": 27,
   "metadata": {},
   "outputs": [
    {
     "data": {
      "text/plain": [
       "(0.4 <Unit('ampere')>, 51.839999999999996 <Unit('megajoule')>)"
      ]
     },
     "execution_count": 27,
     "metadata": {},
     "output_type": "execute_result"
    }
   ],
   "source": [
    "v = 120 * u.volt\n",
    "r0 = 300 * u.ohm \n",
    "\n",
    "# calculate current \n",
    "i = (v/r0).to(\"ampere\")\n",
    "\n",
    "# calculate power \n",
    "power = (i*v).to(\"watt\")\n",
    "\n",
    "# calculate energy over 1000 hrs\n",
    "time = 300 * u.hour\n",
    "energy = (power * time).to(\"megajoule\")\n",
    "i, energy\n"
   ]
  },
  {
   "attachments": {},
   "cell_type": "markdown",
   "metadata": {},
   "source": [
    "## 4.5 resistors in series"
   ]
  },
  {
   "cell_type": "code",
   "execution_count": 28,
   "metadata": {},
   "outputs": [
    {
     "data": {
      "text/html": [
       "0.25 ampere"
      ],
      "text/latex": [
       "$0.25\\ \\mathrm{ampere}$"
      ],
      "text/plain": [
       "0.25 <Unit('ampere')>"
      ]
     },
     "execution_count": 28,
     "metadata": {},
     "output_type": "execute_result"
    }
   ],
   "source": [
    "v =  10 * u.volt\n",
    "r1 = 20 * u.ohm \n",
    "r2 = 15 * u.ohm\n",
    "r3 = 5 * u.ohm\n",
    "\n",
    "# v  = i* (r1 + r2 + r3)\n",
    "r_s = r1 + r2 + r3\n",
    "i = v/ r_s\n",
    "i.to(\"ampere\")"
   ]
  },
  {
   "attachments": {},
   "cell_type": "markdown",
   "metadata": {},
   "source": [
    "## 4.6 resistors in parallel "
   ]
  },
  {
   "cell_type": "code",
   "execution_count": 29,
   "metadata": {},
   "outputs": [
    {
     "data": {
      "text/html": [
       "0.4 ampere"
      ],
      "text/latex": [
       "$0.4\\ \\mathrm{ampere}$"
      ],
      "text/plain": [
       "0.4 <Unit('ampere')>"
      ]
     },
     "execution_count": 29,
     "metadata": {},
     "output_type": "execute_result"
    }
   ],
   "source": [
    "v =  15 * u.volt\n",
    "r1 = 150 * u.ohm \n",
    "r2 = 50 * u.ohm\n",
    "\n",
    "r_p = 1/(1/r1 + 1/r2)\n",
    "\n",
    "i = v/ r_p\n",
    "i.to(\"ampere\")"
   ]
  },
  {
   "attachments": {},
   "cell_type": "markdown",
   "metadata": {},
   "source": [
    "## transmission loss"
   ]
  },
  {
   "cell_type": "code",
   "execution_count": 30,
   "metadata": {},
   "outputs": [
    {
     "data": {
      "text/html": [
       "1.25 ampere"
      ],
      "text/latex": [
       "$1.25\\ \\mathrm{ampere}$"
      ],
      "text/plain": [
       "1.25 <Unit('ampere')>"
      ]
     },
     "execution_count": 30,
     "metadata": {},
     "output_type": "execute_result"
    }
   ],
   "source": [
    "r_w = 100 * u.ohm\n",
    "v_load = 240 * u.volt\n",
    "p_load = 300 * u.watt\n",
    "\n",
    "i = (p_load / v_load).to(\"ampere\")\n",
    "i"
   ]
  },
  {
   "cell_type": "code",
   "execution_count": 31,
   "metadata": {},
   "outputs": [
    {
     "data": {
      "text/plain": [
       "(156.25 <Unit('watt')>, 125.0 <Unit('volt')>)"
      ]
     },
     "execution_count": 31,
     "metadata": {},
     "output_type": "execute_result"
    }
   ],
   "source": [
    "p_w = (i**2 * r_w).to(\"watt\")\n",
    "v_w = (p_w / i).to(\"volt\")\n",
    "p_w, v_w"
   ]
  },
  {
   "cell_type": "code",
   "execution_count": 32,
   "metadata": {},
   "outputs": [
    {
     "name": "stdout",
     "output_type": "stream",
     "text": [
      "456.250 watt 0.342 dimensionless\n",
      "365.000 volt 0.342 dimensionless\n"
     ]
    }
   ],
   "source": [
    "p_gen = p_w + p_load\n",
    "v_gen = v_w + v_load\n",
    "\n",
    "p_loss = p_w/p_gen\n",
    "v_loss = v_w/v_gen\n",
    "\n",
    "print(p_gen, p_loss)\n",
    "print(v_gen, v_loss)"
   ]
  },
  {
   "attachments": {},
   "cell_type": "markdown",
   "metadata": {},
   "source": [
    "# ch 5 photovoltaics"
   ]
  },
  {
   "attachments": {},
   "cell_type": "markdown",
   "metadata": {},
   "source": [
    "## 5.2 pv array "
   ]
  },
  {
   "cell_type": "code",
   "execution_count": 33,
   "metadata": {},
   "outputs": [
    {
     "name": "stdout",
     "output_type": "stream",
     "text": [
      "480.000 volt 15.000 ampere 7200.000 watt\n"
     ]
    }
   ],
   "source": [
    "v_panel = 40 * u.volt \n",
    "n_panels = 12\n",
    "v_tot = v_panel * n_panels\n",
    "\n",
    "i_string = 5 * u.amp\n",
    "n_strings = 3\n",
    "i_tot = i_string * n_strings\n",
    "\n",
    "p_array = (v_tot * i_tot).to(\"watt\")\n",
    "\n",
    "print(v_tot, i_tot, p_array)"
   ]
  },
  {
   "cell_type": "code",
   "execution_count": null,
   "metadata": {},
   "outputs": [],
   "source": []
  },
  {
   "cell_type": "code",
   "execution_count": 34,
   "metadata": {},
   "outputs": [],
   "source": [
    "from pylatex import Document, Section, Subsection, Math, Quantity\n",
    "import quantities as pq"
   ]
  },
  {
   "cell_type": "code",
   "execution_count": 35,
   "metadata": {},
   "outputs": [],
   "source": [
    "section = Section('Quantity tests')\n",
    "\n",
    "subsection = Subsection('Scalars with units')\n",
    "G = 1 #pq.constants.Newtonian_constant_of_gravitation\n",
    "moon_earth_distance = 384400 * pq.m\n",
    "moon_mass = 7.34767309e22 * pq.kg\n",
    "earth_mass = 5.972e24 * pq.kg\n",
    "moon_earth_force = G * moon_mass * earth_mass / moon_earth_distance**2\n",
    "q1 = Quantity(moon_earth_force,\n",
    "                options={'round-precision': 4, 'round-mode': 'figures'})\n",
    "math = Math(data=['F=', q1])\n",
    "subsection.append(math)\n",
    "section.append(subsection)"
   ]
  },
  {
   "cell_type": "code",
   "execution_count": 36,
   "metadata": {},
   "outputs": [
    {
     "data": {
      "text/plain": [
       "Section('Quantity tests', True, [Subsection('Scalars with units', True, [Math(['F=', Quantity(array(2.96963359e+36) * kg**2/m**2)])])])"
      ]
     },
     "execution_count": 36,
     "metadata": {},
     "output_type": "execute_result"
    }
   ],
   "source": [
    "section"
   ]
  },
  {
   "attachments": {},
   "cell_type": "markdown",
   "metadata": {},
   "source": [
    "## 5.3 nameplate capacity "
   ]
  },
  {
   "cell_type": "code",
   "execution_count": 37,
   "metadata": {},
   "outputs": [
    {
     "data": {
      "text/html": [
       "330.0 watt"
      ],
      "text/latex": [
       "$330.0\\ \\mathrm{watt}$"
      ],
      "text/plain": [
       "330.0 <Unit('watt')>"
      ]
     },
     "execution_count": 37,
     "metadata": {},
     "output_type": "execute_result"
    }
   ],
   "source": [
    "E_panel = 0.22\n",
    "F1000 = 1000 * u.watt / u.m**2\n",
    "A = 1.5 * u.m**2\n",
    "\n",
    "capacity = E_panel * F1000 * A\n",
    "capacity "
   ]
  },
  {
   "cell_type": "markdown",
   "metadata": {},
   "source": []
  }
 ],
 "metadata": {
  "kernelspec": {
   "display_name": "classenv",
   "language": "python",
   "name": "python3"
  },
  "language_info": {
   "codemirror_mode": {
    "name": "ipython",
    "version": 3
   },
   "file_extension": ".py",
   "mimetype": "text/x-python",
   "name": "python",
   "nbconvert_exporter": "python",
   "pygments_lexer": "ipython3",
   "version": "3.9.15"
  },
  "orig_nbformat": 4
 },
 "nbformat": 4,
 "nbformat_minor": 2
}
