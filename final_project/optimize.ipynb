{
 "cells": [
  {
   "cell_type": "code",
   "execution_count": 1,
   "metadata": {},
   "outputs": [],
   "source": [
    "import helpers as h\n",
    "\n",
    "import numpy as np\n",
    "import pandas as pd\n",
    "from scipy.optimize import minimize, NonlinearConstraint, BFGS\n",
    "\n",
    "from icecream import ic"
   ]
  },
  {
   "cell_type": "code",
   "execution_count": 2,
   "metadata": {},
   "outputs": [
    {
     "name": "stdout",
     "output_type": "stream",
     "text": [
      "Optimization terminated successfully.\n",
      "         Current function value: 0.000000\n",
      "         Iterations: 339\n",
      "         Function evaluations: 571\n"
     ]
    }
   ],
   "source": [
    "# example \n",
    "def rosen(x):\n",
    "    \"\"\"The Rosenbrock function\"\"\"\n",
    "    return sum(100.0*(x[1:]-x[:-1]**2.0)**2.0 + (1-x[:-1])**2.0)\n",
    "\n",
    "x0 = np.array([1.3, 0.7, 0.8, 1.9, 1.2])\n",
    "\n",
    "res = minimize(rosen, x0, method='nelder-mead',\n",
    "               options={'xatol': 1e-8, 'disp': True})"
   ]
  },
  {
   "cell_type": "code",
   "execution_count": 3,
   "metadata": {},
   "outputs": [],
   "source": [
    "# constants \n",
    "# states_path = \"data/states/nga_admbnda_adm1_osgof_20161215.shp\"\n",
    "# states = gpd.read_file(states_path)\n",
    "\n",
    "data_path_names = [\"wind_speed\", \"temperature\", \"solar_flux\"]\n",
    "\n",
    "data_averages = {}\n",
    "for name in data_path_names:\n",
    "    data_averages[name] = pd.read_csv(f\"clean_data/{name}.csv\", index_col=0)\n",
    "\n",
    "avg_vals = {n: i[\"value\"] for n, i in data_averages.items()}"
   ]
  },
  {
   "cell_type": "code",
   "execution_count": 4,
   "metadata": {},
   "outputs": [],
   "source": [
    "state_areas = pd.read_csv(f\"clean_data/state_areas.csv\")"
   ]
  },
  {
   "cell_type": "code",
   "execution_count": 22,
   "metadata": {},
   "outputs": [
    {
     "data": {
      "text/plain": [
       "911689252976.8823"
      ]
     },
     "execution_count": 22,
     "metadata": {},
     "output_type": "execute_result"
    }
   ],
   "source": [
    "state_areas[\"area (m2)\"].sum()"
   ]
  },
  {
   "cell_type": "code",
   "execution_count": 5,
   "metadata": {},
   "outputs": [],
   "source": [
    "def get_constants():\n",
    "    data_path_names = [\"wind_speed\", \"temperature\", \"solar_flux\"]\n",
    "\n",
    "    data_averages = {}\n",
    "    for name in data_path_names:\n",
    "        data_averages[name] = pd.read_csv(f\"clean_data/{name}.csv\", index_col=0)\n",
    "\n",
    "    avg_vals = {n: i[\"value\"] for n, i in data_averages.items()}\n",
    "\n",
    "    state_areas = pd.read_csv(f\"clean_data/state_areas.csv\")\n",
    "\n",
    "    F_cur=avg_vals[\"solar_flux\"]\n",
    "    T_a=avg_vals[\"temperature\"]\n",
    "    w=avg_vals[\"wind_speed\"]\n",
    "\n",
    "    return (F_cur, T_a, w, state_areas)\n",
    "\n",
    "    "
   ]
  },
  {
   "cell_type": "code",
   "execution_count": 6,
   "metadata": {},
   "outputs": [],
   "source": [
    "# F_cur, T_a, w, state_areas = get_constants()\n"
   ]
  },
  {
   "cell_type": "code",
   "execution_count": null,
   "metadata": {},
   "outputs": [],
   "source": []
  },
  {
   "cell_type": "code",
   "execution_count": 7,
   "metadata": {},
   "outputs": [],
   "source": [
    "def do_calc(x, constants):\n",
    "    \"\"\" \n",
    "    - pl_solar, pl_wind ~ percent of land \n",
    "    - ns_solar, ns_wind ~ number of states \n",
    "    \"\"\"\n",
    "\n",
    "    pl_solar, pl_wind, ns_solar, ns_wind = x\n",
    "    # ic(pl_solar, pl_wind, ns_solar, ns_wind )\n",
    "    \n",
    "\n",
    "    # constant values \n",
    "    F_cur, T_a, w, state_areas = constants[0]\n",
    "    \n",
    "    # solar capacity for each state \n",
    "    P_ac = h.calculate_power_panel(F_cur, T_a, w)\n",
    "\n",
    "    # return P_ac\n",
    "\n",
    "    # wind capacity for each state \n",
    "    P_m, P_t, CF, P_t_after_losses, P_r = h.calculate_power_turbine(V_m=w)\n",
    "\n",
    "    # panel distribution \n",
    "    solar_res = h.calc_num_panels(pl_solar, \n",
    "        ns_wind, \n",
    "        state_areas, \n",
    "        P_ac)\n",
    "\n",
    "    # turbine distribution \n",
    "    wind_res = h.calc_num_turbines(pl_wind, \n",
    "        ns_wind, \n",
    "        state_areas, \n",
    "        P_t_after_losses, \n",
    "        P_r)\n",
    "\n",
    "    return solar_res, wind_res"
   ]
  },
  {
   "cell_type": "code",
   "execution_count": 8,
   "metadata": {},
   "outputs": [
    {
     "data": {
      "text/plain": [
       "4"
      ]
     },
     "execution_count": 8,
     "metadata": {},
     "output_type": "execute_result"
    }
   ],
   "source": [
    "int(4.0)"
   ]
  },
  {
   "cell_type": "code",
   "execution_count": null,
   "metadata": {},
   "outputs": [],
   "source": [
    "class optimize_energy():\n",
    "    def __init__(self):\n",
    "        c = get_constants()\n",
    "        self.F_cur = c[0]\n",
    "        self.T_a = c[1]\n",
    "        self.w = c[2] \n",
    "        self.state_areas = c[3]\n",
    "\n",
    "    def do_calc(self, x):\n",
    "        \"\"\" \n",
    "        - pl_solar, pl_wind ~ percent of land \n",
    "        - ns_solar, ns_wind ~ number of states \n",
    "        \"\"\"\n",
    "        self.pl_solar, self.pl_wind, self.ns_solar, self.ns_wind = x\n",
    "\n",
    "        # capacities for each state \n",
    "        P_ac = h.calculate_power_panel(self.F_cur, self.T_a, self.w)\n",
    "        P_m, P_t, CF, P_t_after_losses, P_r = h.calculate_power_turbine(V_m=self.w)\n",
    "        self.P_ac = P_ac\n",
    "        self.P_t_after_losses =  P_t_after_losses\n",
    "\n",
    "        # distributions\n",
    "        solar_res = h.calc_num_panels(self.pl_solar, \n",
    "            self.ns_wind, \n",
    "            self.state_areas, \n",
    "            P_ac)\n",
    "        wind_res = h.calc_num_turbines(self.pl_wind, \n",
    "            self.ns_wind, \n",
    "            self.state_areas, \n",
    "            P_t_after_losses, \n",
    "            P_r)\n",
    "\n",
    "        self.solar_res = solar_res\n",
    "        self.wind_res = wind_res \n",
    "        \n",
    "\n",
    "        return solar_res, wind_res\n",
    "\n",
    "    def min_devices(self, x):\n",
    "        solar_res, wind_res = self.do_calc(x)\n",
    "        self.num_devices = solar_res[\"n_panels\"].sum() + wind_res[\"n_turbines\"].sum()\n",
    "\n",
    "        return self.num_devices\n",
    "\n",
    "    def meet_energy(self, x):\n",
    "        solar_res, wind_res = self.do_calc(x)\n",
    "        self.total_energy = solar_res[\"total_energy (mwh)\"] + wind_res[\"total_energy (mwh)\"]\n",
    "        self.energy_need = 26_5337_353 # 27 million MWh \n",
    "        self.dif = self.total_energy - self.energy_need # > 0 \n",
    "\n",
    "        return self.dif \n",
    "\n",
    "    def show_results(self):\n",
    "        wind_diam = 5 # m \n",
    "        solar_area = 1.5 # m\n",
    "        wind_data = {\n",
    "            \"num_devices\": self.wind_res[\"n_turbines\"].sum(),\n",
    "            \"installed_power\": self.wind_res[\"installed_power\"].sum(),\n",
    "            \"num_states\": self.ns_wind,\n",
    "            \"spacing\": self.wind_res[\"land_avail\"].sum(),\n",
    "            \"footprint\": self.wind_res[\"n_turbines\"].sum()*wind_diam\n",
    "        }\n",
    "        solar_data = {\n",
    "            \"num_devices\": self.solar_res[\"n_panels\"].sum(),\n",
    "            \"installed_power\": self.solar_res[\"true_power\"].sum(),\n",
    "            \"num_states\": self.ns_solar,\n",
    "            \"spacing\": self.solar_res[\"land_avail\"].sum(),\n",
    "            \"footprint\": self.solar_res[\"n_panels\"].sum()*solar_area\n",
    "\n",
    "        }\n",
    "\n",
    "        sum_data = {\n",
    "            \"total_energy\": self.solar_res[\"total_energy (mwh)\"] + self.wind_res[\"total_energy (mwh)\"],\n",
    "            \"total_footprint\": wind_data[\"footprint\"] + solar_data[\"footprint\"],\n",
    "            \"percentage land\": 100*(wind_data[\"footprint\"] + solar_data[\"footprint\"]) / state_areas[\"area (m2)\"].sum()\n",
    "        }\n",
    "\n",
    "        self.devices_df  = pd.DataFrame([solar_data,wind_data], index=[\"Solar\",\"Wind\"], )\n",
    "        self.devices_df.columns = [\"N. Devices\", \"Possible Power (MW)\", \"N. States\", \"Spacing (m2)\", \"Footprint (m2)\"]\n",
    "\n",
    "\n",
    "        self.total_df =  pd.DataFrame(sum_data, index=[0])\n",
    "        self.total_df.columns = [\"Total Energy (MWh)\", \"Total Footprint (m2)\", \"% Land\"]\n",
    "\n",
    "        return self.total_df\n",
    "    "
   ]
  },
  {
   "cell_type": "code",
   "execution_count": 60,
   "metadata": {},
   "outputs": [
    {
     "data": {
      "text/plain": [
       "19582530264.701317"
      ]
     },
     "execution_count": 60,
     "metadata": {},
     "output_type": "execute_result"
    }
   ],
   "source": [
    "x0 = [0.02, 0.02, 4, 4]\n",
    "o = optimize_energy()\n",
    "o.min_devices(x0)\n",
    "o.meet_energy(x0)"
   ]
  },
  {
   "cell_type": "code",
   "execution_count": 61,
   "metadata": {},
   "outputs": [],
   "source": [
    "o.show_results()"
   ]
  },
  {
   "cell_type": "code",
   "execution_count": 62,
   "metadata": {},
   "outputs": [
    {
     "data": {
      "text/html": [
       "<div>\n",
       "<style scoped>\n",
       "    .dataframe tbody tr th:only-of-type {\n",
       "        vertical-align: middle;\n",
       "    }\n",
       "\n",
       "    .dataframe tbody tr th {\n",
       "        vertical-align: top;\n",
       "    }\n",
       "\n",
       "    .dataframe thead th {\n",
       "        text-align: right;\n",
       "    }\n",
       "</style>\n",
       "<table border=\"1\" class=\"dataframe\">\n",
       "  <thead>\n",
       "    <tr style=\"text-align: right;\">\n",
       "      <th></th>\n",
       "      <th>N. Devices</th>\n",
       "      <th>Possible Power (MW)</th>\n",
       "      <th>N. States</th>\n",
       "      <th>Spacing (m2)</th>\n",
       "      <th>Footprint (m2)</th>\n",
       "    </tr>\n",
       "  </thead>\n",
       "  <tbody>\n",
       "    <tr>\n",
       "      <th>Solar</th>\n",
       "      <td>2.193651e+09</td>\n",
       "      <td>2.253846e+12</td>\n",
       "      <td>4</td>\n",
       "      <td>3.290476e+09</td>\n",
       "      <td>3.290476e+09</td>\n",
       "    </tr>\n",
       "    <tr>\n",
       "      <th>Wind</th>\n",
       "      <td>1.437500e+04</td>\n",
       "      <td>5.333035e+10</td>\n",
       "      <td>4</td>\n",
       "      <td>2.693342e+09</td>\n",
       "      <td>7.187500e+04</td>\n",
       "    </tr>\n",
       "  </tbody>\n",
       "</table>\n",
       "</div>"
      ],
      "text/plain": [
       "         N. Devices  Possible Power (MW)  N. States  Spacing (m2)  \\\n",
       "Solar  2.193651e+09         2.253846e+12          4  3.290476e+09   \n",
       "Wind   1.437500e+04         5.333035e+10          4  2.693342e+09   \n",
       "\n",
       "       Footprint (m2)  \n",
       "Solar    3.290476e+09  \n",
       "Wind     7.187500e+04  "
      ]
     },
     "execution_count": 62,
     "metadata": {},
     "output_type": "execute_result"
    }
   ],
   "source": [
    "o.devices_df"
   ]
  },
  {
   "cell_type": "code",
   "execution_count": 64,
   "metadata": {},
   "outputs": [
    {
     "data": {
      "text/html": [
       "<div>\n",
       "<style scoped>\n",
       "    .dataframe tbody tr th:only-of-type {\n",
       "        vertical-align: middle;\n",
       "    }\n",
       "\n",
       "    .dataframe tbody tr th {\n",
       "        vertical-align: top;\n",
       "    }\n",
       "\n",
       "    .dataframe thead th {\n",
       "        text-align: right;\n",
       "    }\n",
       "</style>\n",
       "<table border=\"1\" class=\"dataframe\">\n",
       "  <thead>\n",
       "    <tr style=\"text-align: right;\">\n",
       "      <th></th>\n",
       "      <th>Total Energy (MWh)</th>\n",
       "      <th>Total Footprint (m2)</th>\n",
       "      <th>% Land</th>\n",
       "    </tr>\n",
       "  </thead>\n",
       "  <tbody>\n",
       "    <tr>\n",
       "      <th>0</th>\n",
       "      <td>1.984787e+10</td>\n",
       "      <td>3.290548e+09</td>\n",
       "      <td>0.360929</td>\n",
       "    </tr>\n",
       "  </tbody>\n",
       "</table>\n",
       "</div>"
      ],
      "text/plain": [
       "   Total Energy (MWh)  Total Footprint (m2)    % Land\n",
       "0        1.984787e+10          3.290548e+09  0.360929"
      ]
     },
     "execution_count": 64,
     "metadata": {},
     "output_type": "execute_result"
    }
   ],
   "source": [
    "o.total_df"
   ]
  },
  {
   "cell_type": "code",
   "execution_count": 12,
   "metadata": {},
   "outputs": [
    {
     "data": {
      "text/plain": [
       "14375.0"
      ]
     },
     "execution_count": 12,
     "metadata": {},
     "output_type": "execute_result"
    }
   ],
   "source": [
    "self.wind_res[\"n_turbines\"].sum()"
   ]
  },
  {
   "cell_type": "code",
   "execution_count": null,
   "metadata": {},
   "outputs": [],
   "source": [
    "wind_diam = 5 # m \n",
    "solar_area = 1.5 # m\n",
    "wind_data = {\n",
    "    \"num_devices\": self.wind_res[\"n_turbines\"].sum(),\n",
    "    \"installed_power\": self.wind_res[\"installed_power\"].sum(),\n",
    "    \"num_states\": o.ns_wind,\n",
    "    \"spacing\": self.wind_res[\"land_avail\"].sum(),\n",
    "    \"footprint\": self.wind_res[\"n_turbines\"].sum()*wind_diam\n",
    "}\n",
    "solar_data = {\n",
    "    \"num_devices\": o.solar_res[\"n_panels\"].sum(),\n",
    "    \"installed_power\": self.solar_res[\"true_power\"].sum(),\n",
    "    \"num_states\": o.ns_solar,\n",
    "    \"spacing\": self.solar_res[\"land_avail\"].sum(),\n",
    "    \"footprint\": self.solar_res[\"n_panels\"].sum()*solar_area\n",
    "\n",
    "}\n",
    "\n",
    "sum_data = {\n",
    "    \"total_energy\": self.solar_res[\"total_energy (mwh)\"] + self.wind_res[\"total_energy (mwh)\"],\n",
    "    \"total_footprint\": wind_data[\"footprint\"] + solar_data[\"footprint\"],\n",
    "    \"percentage land\": 100*(wind_data[\"footprint\"] + solar_data[\"footprint\"]) / state_areas[\"area (m2)\"].sum()\n",
    "}\n",
    "\n",
    "devices_df  = pd.DataFrame([solar_data,wind_data], index=[\"Solar\",\"Wind\"], )\n",
    "devices_df.columns = [\"N. Devices\", \"Possible Power (MW)\", \"N. States\", \"Spacing (m2)\", \"Footprint (m2)\"]\n",
    "\n",
    "total_df =  pd.DataFrame(sum_data, index=[0])\n",
    "total_df.columns = [\"Total Energy (MWh)\", \"Total Footprint (m2)\", \"% Land\"]"
   ]
  },
  {
   "cell_type": "code",
   "execution_count": 52,
   "metadata": {},
   "outputs": [],
   "source": [
    "wind_diam = 5 # m \n",
    "solar_area = 1.5 # m\n",
    "wind_data = {\n",
    "    \"num_devices\": o.wind_res[\"n_turbines\"].sum(),\n",
    "    \"installed_power\": o.wind_res[\"installed_power\"].sum(),\n",
    "    \"num_states\": o.ns_wind,\n",
    "    \"spacing\": o.wind_res[\"land_avail\"].sum(),\n",
    "    \"footprint\": o.wind_res[\"n_turbines\"].sum()*wind_diam\n",
    "}\n",
    "solar_data = {\n",
    "    \"num_devices\": o.solar_res[\"n_panels\"].sum(),\n",
    "    \"installed_power\": o.solar_res[\"true_power\"].sum(),\n",
    "    \"num_states\": o.ns_solar,\n",
    "    \"spacing\": o.solar_res[\"land_avail\"].sum(),\n",
    "    \"footprint\": o.solar_res[\"n_panels\"].sum()*solar_area\n",
    "\n",
    "}\n",
    "\n",
    "sum_data = {\n",
    "    \"total_energy\": o.solar_res[\"total_energy (mwh)\"] + o.wind_res[\"total_energy (mwh)\"],\n",
    "    \"total_footprint\": wind_data[\"footprint\"] + solar_data[\"footprint\"],\n",
    "    \"percentage land\": 100*(wind_data[\"footprint\"] + solar_data[\"footprint\"]) / state_areas[\"area (m2)\"].sum()\n",
    "}\n",
    "\n",
    "devices_df  = pd.DataFrame([solar_data,wind_data], index=[\"Solar\",\"Wind\"], )\n",
    "devices_df.columns = [\"N. Devices\", \"Possible Power (MW)\", \"N. States\", \"Spacing (m2)\", \"Footprint (m2)\"]\n",
    "\n",
    "total_df =  pd.DataFrame(sum_data, index=[0])\n",
    "total_df.columns = [\"Total Energy (MWh)\", \"Total Footprint (m2)\", \"% Land\"]"
   ]
  },
  {
   "cell_type": "code",
   "execution_count": 55,
   "metadata": {},
   "outputs": [
    {
     "data": {
      "text/plain": [
       "{'total_energy': 19847867617.701317,\n",
       " 'total_footprint': 3290547781.0,\n",
       " 'percentage land': 0.3609286574625706}"
      ]
     },
     "execution_count": 55,
     "metadata": {},
     "output_type": "execute_result"
    }
   ],
   "source": [
    "sum_data = {\n",
    "    \"total_energy\": o.solar_res[\"total_energy (mwh)\"] + o.wind_res[\"total_energy (mwh)\"],\n",
    "    \"total_footprint\": wind_data[\"footprint\"] + solar_data[\"footprint\"],\n",
    "    \"percentage land\": 100*(wind_data[\"footprint\"] + solar_data[\"footprint\"]) / state_areas[\"area (m2)\"].sum()\n",
    "}\n",
    "\n",
    "devices_df  = pd.DataFrame([solar_data,wind_data], index=[\"Solar\",\"Wind\"], )\n",
    "devices_df.columns = [\"N. Devices\", \"Possible Power (MW)\", \"N. States\", \"Spacing (m2)\", \"Footprint (m2)\"]\n",
    "\n",
    "total_df =  pd.DataFrame(sum_data, index=[0])\n",
    "total_df.columns = [\"Total Energy (MWh)\", \"Total Footprint (m2)\", \"% Land\"]\n",
    "sum_data"
   ]
  },
  {
   "cell_type": "code",
   "execution_count": 54,
   "metadata": {},
   "outputs": [
    {
     "data": {
      "text/html": [
       "<div>\n",
       "<style scoped>\n",
       "    .dataframe tbody tr th:only-of-type {\n",
       "        vertical-align: middle;\n",
       "    }\n",
       "\n",
       "    .dataframe tbody tr th {\n",
       "        vertical-align: top;\n",
       "    }\n",
       "\n",
       "    .dataframe thead th {\n",
       "        text-align: right;\n",
       "    }\n",
       "</style>\n",
       "<table border=\"1\" class=\"dataframe\">\n",
       "  <thead>\n",
       "    <tr style=\"text-align: right;\">\n",
       "      <th></th>\n",
       "      <th>N. Devices</th>\n",
       "      <th>Possible Power (MWh)</th>\n",
       "      <th>N. States</th>\n",
       "      <th>Spacing (m2)</th>\n",
       "      <th>Footprint (m2)</th>\n",
       "    </tr>\n",
       "  </thead>\n",
       "  <tbody>\n",
       "    <tr>\n",
       "      <th>Solar</th>\n",
       "      <td>2.193651e+09</td>\n",
       "      <td>2.253846e+12</td>\n",
       "      <td>4</td>\n",
       "      <td>3.290476e+09</td>\n",
       "      <td>3.290476e+09</td>\n",
       "    </tr>\n",
       "    <tr>\n",
       "      <th>Wind</th>\n",
       "      <td>1.437500e+04</td>\n",
       "      <td>5.333035e+10</td>\n",
       "      <td>4</td>\n",
       "      <td>2.693342e+09</td>\n",
       "      <td>7.187500e+04</td>\n",
       "    </tr>\n",
       "  </tbody>\n",
       "</table>\n",
       "</div>"
      ],
      "text/plain": [
       "         N. Devices  Possible Power (MWh)  N. States  Spacing (m2)  \\\n",
       "Solar  2.193651e+09          2.253846e+12          4  3.290476e+09   \n",
       "Wind   1.437500e+04          5.333035e+10          4  2.693342e+09   \n",
       "\n",
       "       Footprint (m2)  \n",
       "Solar    3.290476e+09  \n",
       "Wind     7.187500e+04  "
      ]
     },
     "execution_count": 54,
     "metadata": {},
     "output_type": "execute_result"
    }
   ],
   "source": [
    "devices_df  = pd.DataFrame([solar_data,wind_data], index=[\"Solar\",\"Wind\"], )\n",
    "devices_df.columns = [\"N. Devices\", \"Possible Power (MW)\", \"N. States\", \"Spacing (m2)\", \"Footprint (m2)\"]\n",
    "\n",
    "total_df =  pd.DataFrame(sum_data, index=[0])\n",
    "total_df.columns = [\"Total Energy (MWh)\", \"Total Footprint (m2)\", \"% Land\"]\n",
    "devices_df"
   ]
  },
  {
   "cell_type": "code",
   "execution_count": 58,
   "metadata": {},
   "outputs": [
    {
     "data": {
      "text/html": [
       "<div>\n",
       "<style scoped>\n",
       "    .dataframe tbody tr th:only-of-type {\n",
       "        vertical-align: middle;\n",
       "    }\n",
       "\n",
       "    .dataframe tbody tr th {\n",
       "        vertical-align: top;\n",
       "    }\n",
       "\n",
       "    .dataframe thead th {\n",
       "        text-align: right;\n",
       "    }\n",
       "</style>\n",
       "<table border=\"1\" class=\"dataframe\">\n",
       "  <thead>\n",
       "    <tr style=\"text-align: right;\">\n",
       "      <th></th>\n",
       "      <th>Total Energy (MWh)</th>\n",
       "      <th>Total Footprint (m2)</th>\n",
       "      <th>% Land</th>\n",
       "    </tr>\n",
       "  </thead>\n",
       "  <tbody>\n",
       "    <tr>\n",
       "      <th>0</th>\n",
       "      <td>1.984787e+10</td>\n",
       "      <td>3.290548e+09</td>\n",
       "      <td>0.360929</td>\n",
       "    </tr>\n",
       "  </tbody>\n",
       "</table>\n",
       "</div>"
      ],
      "text/plain": [
       "   Total Energy (MWh)  Total Footprint (m2)    % Land\n",
       "0        1.984787e+10          3.290548e+09  0.360929"
      ]
     },
     "execution_count": 58,
     "metadata": {},
     "output_type": "execute_result"
    }
   ],
   "source": [
    "total_df =  pd.DataFrame(sum_data, index=[0])\n",
    "total_df.columns = [\"Total Energy (MWh)\", \"Total Footprint (m2)\", \"% Land\"]\n",
    "total_df"
   ]
  },
  {
   "cell_type": "code",
   "execution_count": null,
   "metadata": {},
   "outputs": [],
   "source": []
  },
  {
   "cell_type": "code",
   "execution_count": null,
   "metadata": {},
   "outputs": [],
   "source": []
  },
  {
   "cell_type": "code",
   "execution_count": 15,
   "metadata": {},
   "outputs": [
    {
     "data": {
      "text/plain": [
       "{'num_turbines': 14375.0,\n",
       " 'installed_power': 53330348500.0,\n",
       " 'num_states': 4,\n",
       " 'spacing': 2693341552.4287834,\n",
       " 'footprint': 71875.0}"
      ]
     },
     "execution_count": 15,
     "metadata": {},
     "output_type": "execute_result"
    }
   ],
   "source": [
    "wind_data"
   ]
  },
  {
   "attachments": {},
   "cell_type": "markdown",
   "metadata": {},
   "source": [
    "## do optimization"
   ]
  },
  {
   "cell_type": "code",
   "execution_count": null,
   "metadata": {},
   "outputs": [
    {
     "name": "stderr",
     "output_type": "stream",
     "text": [
      "/Users/julietnwagwuume-ezeoke/_ClassCode/classenv/lib/python3.9/site-packages/scipy/optimize/_hessian_update_strategy.py:182: UserWarning: delta_grad == 0.0. Check if the approximated function is linear. If the function is linear better results can be obtained by defining the Hessian as zero instead of using quasi-Newton approximations.\n",
      "  warn('delta_grad == 0.0. Check if the approximated '\n"
     ]
    },
    {
     "name": "stdout",
     "output_type": "stream",
     "text": [
      "The maximum number of function evaluations is exceeded.\n",
      "Number of iterations: 300, function evaluations: 1670, CG iterations: 290, optimality: 1.53e-05, constraint violation: 4.39e+00, execution time:  9.9 s.\n"
     ]
    }
   ],
   "source": [
    "# o = optimize_energy()\n",
    "# x0 = [0.02, 0.02, 4, 4]\n",
    "\n",
    "# nlc  = NonlinearConstraint(fun=o.meet_energy, lb=0, ub=1e3, jac='2-point', hess=BFGS())\n",
    "# res = minimize(fun=o.min_devices, x0=x0, constraints=nlc, method='trust-constr', options={'disp': True, 'maxiter': 300})\n",
    "\n",
    "# changes => np.inf + constraints that none of the xs can be < 0 "
   ]
  },
  {
   "cell_type": "code",
   "execution_count": null,
   "metadata": {},
   "outputs": [
    {
     "data": {
      "text/plain": [
       "-4.385694205760956"
      ]
     },
     "execution_count": 59,
     "metadata": {},
     "output_type": "execute_result"
    }
   ],
   "source": [
    "o.dif"
   ]
  },
  {
   "cell_type": "code",
   "execution_count": null,
   "metadata": {},
   "outputs": [
    {
     "data": {
      "text/plain": [
       "array([1.63255237e-04, 2.00000000e-02, 4.00000000e+00, 4.00000000e+00])"
      ]
     },
     "execution_count": 61,
     "metadata": {},
     "output_type": "execute_result"
    }
   ],
   "source": [
    "res.x"
   ]
  },
  {
   "cell_type": "code",
   "execution_count": null,
   "metadata": {},
   "outputs": [
    {
     "name": "stderr",
     "output_type": "stream",
     "text": [
      "/Users/julietnwagwuume-ezeoke/_ClassCode/classenv/lib/python3.9/site-packages/scipy/optimize/_hessian_update_strategy.py:182: UserWarning: delta_grad == 0.0. Check if the approximated function is linear. If the function is linear better results can be obtained by defining the Hessian as zero instead of using quasi-Newton approximations.\n",
      "  warn('delta_grad == 0.0. Check if the approximated '\n"
     ]
    },
    {
     "name": "stdout",
     "output_type": "stream",
     "text": [
      "`xtol` termination condition is satisfied.\n",
      "Number of iterations: 284, function evaluations: 2610, CG iterations: 316, optimality: 1.22e-04, constraint violation: 3.32e+00, execution time: 1.6e+01 s.\n"
     ]
    }
   ],
   "source": [
    "o = optimize_energy()\n",
    "x0 = [0.1, 0.1, 30, 30]\n",
    "\n",
    "nlc  = NonlinearConstraint(fun=o.meet_energy, lb=0, ub=1e3, jac='2-point', hess=BFGS())\n",
    "res = minimize(fun=o.min_devices, x0=x0, constraints=nlc, method='trust-constr', options={'disp': True, 'maxiter': 300})"
   ]
  },
  {
   "cell_type": "code",
   "execution_count": null,
   "metadata": {},
   "outputs": [
    {
     "data": {
      "text/plain": [
       "array([-6.92195248e-04,  1.00000000e-01,  3.00000000e+01,  3.00000000e+01])"
      ]
     },
     "execution_count": 63,
     "metadata": {},
     "output_type": "execute_result"
    }
   ],
   "source": [
    "res.x"
   ]
  },
  {
   "cell_type": "code",
   "execution_count": null,
   "metadata": {},
   "outputs": [
    {
     "data": {
      "text/plain": [
       "-3.319736957550049"
      ]
     },
     "execution_count": 65,
     "metadata": {},
     "output_type": "execute_result"
    }
   ],
   "source": [
    "o.dif"
   ]
  },
  {
   "cell_type": "code",
   "execution_count": null,
   "metadata": {},
   "outputs": [
    {
     "name": "stderr",
     "output_type": "stream",
     "text": [
      "/Users/julietnwagwuume-ezeoke/_ClassCode/classenv/lib/python3.9/site-packages/scipy/optimize/_hessian_update_strategy.py:182: UserWarning: delta_grad == 0.0. Check if the approximated function is linear. If the function is linear better results can be obtained by defining the Hessian as zero instead of using quasi-Newton approximations.\n",
      "  warn('delta_grad == 0.0. Check if the approximated '\n"
     ]
    },
    {
     "name": "stdout",
     "output_type": "stream",
     "text": [
      "`xtol` termination condition is satisfied.\n",
      "Number of iterations: 19, function evaluations: 70, CG iterations: 18, optimality: 0.00e+00, constraint violation: 7.03e+00, execution time: 0.45 s.\n"
     ]
    }
   ],
   "source": [
    "o = optimize_energy()\n",
    "x0 = [0.3, 0.4, 10, 30]\n",
    "\n",
    "nlc  = NonlinearConstraint(fun=o.meet_energy, lb=0, ub=0, jac='2-point', hess=BFGS())\n",
    "res = minimize(fun=o.min_devices, x0=x0, constraints=nlc, method='trust-constr', options={'disp': True, 'maxiter': 300})"
   ]
  },
  {
   "cell_type": "code",
   "execution_count": null,
   "metadata": {},
   "outputs": [
    {
     "data": {
      "text/plain": [
       "array([-1.00493545e-02,  1.33735405e+00,  1.00000000e+01,  3.00000000e+01])"
      ]
     },
     "execution_count": 67,
     "metadata": {},
     "output_type": "execute_result"
    }
   ],
   "source": [
    "res.x"
   ]
  },
  {
   "attachments": {},
   "cell_type": "markdown",
   "metadata": {},
   "source": [
    "- things to minimize potentially\n",
    "  - total land used \n",
    "  - number of turbines + number of panels  ~ cost \n",
    "- start by definining seperate function \n",
    "\n",
    "- [mnimize where output has contraints](https://stackoverflow.com/questions/64169852/optimizing-input-where-output-has-constraints-in-python)\n",
    "- [use a class for constants](https://stackoverflow.com/questions/64205381/can-i-send-arguments-to-a-constraint-function-using-scipy-optimize-nonlinearcons)"
   ]
  },
  {
   "attachments": {},
   "cell_type": "markdown",
   "metadata": {},
   "source": [
    "- wind \n",
    "    - num turbines\n",
    "    - installed power \n",
    "    - total energy to produced\n",
    "    - number of states \n",
    "    - spacing => land area \n",
    "    - footprint \n",
    "    - total land area \n",
    "- solar\n",
    "    - num panels \n",
    "    - installed power \n",
    "    - total energy to produced\n",
    "    - number of states \n",
    "    - spacing => land area \n",
    "    - footprint \n",
    "    - total land area \n",
    "- sum energy \n",
    "- sum land \n",
    "- land percent (footprint)"
   ]
  },
  {
   "cell_type": "code",
   "execution_count": null,
   "metadata": {},
   "outputs": [
    {
     "data": {
      "text/plain": [
       "-10.796165466308594"
      ]
     },
     "execution_count": 68,
     "metadata": {},
     "output_type": "execute_result"
    }
   ],
   "source": [
    "o.dif"
   ]
  },
  {
   "cell_type": "code",
   "execution_count": null,
   "metadata": {},
   "outputs": [
    {
     "data": {
      "text/plain": [
       "-5623709918.0"
      ]
     },
     "execution_count": 69,
     "metadata": {},
     "output_type": "execute_result"
    }
   ],
   "source": [
    "o.num_devices"
   ]
  },
  {
   "cell_type": "code",
   "execution_count": null,
   "metadata": {},
   "outputs": [],
   "source": [
    "# things to minimize potentially \n",
    "    "
   ]
  }
 ],
 "metadata": {
  "kernelspec": {
   "display_name": "classenv",
   "language": "python",
   "name": "python3"
  },
  "language_info": {
   "codemirror_mode": {
    "name": "ipython",
    "version": 3
   },
   "file_extension": ".py",
   "mimetype": "text/x-python",
   "name": "python",
   "nbconvert_exporter": "python",
   "pygments_lexer": "ipython3",
   "version": "3.9.15"
  },
  "orig_nbformat": 4
 },
 "nbformat": 4,
 "nbformat_minor": 2
}
