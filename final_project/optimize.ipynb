{
 "cells": [
  {
   "cell_type": "code",
   "execution_count": 16,
   "metadata": {},
   "outputs": [],
   "source": [
    "import helpers as h\n",
    "\n",
    "import numpy as np\n",
    "import pandas as pd\n",
    "from scipy.optimize import minimize, NonlinearConstraint\n",
    "\n",
    "from icecream import ic"
   ]
  },
  {
   "cell_type": "code",
   "execution_count": 2,
   "metadata": {},
   "outputs": [
    {
     "name": "stdout",
     "output_type": "stream",
     "text": [
      "Optimization terminated successfully.\n",
      "         Current function value: 0.000000\n",
      "         Iterations: 339\n",
      "         Function evaluations: 571\n"
     ]
    }
   ],
   "source": [
    "# example \n",
    "def rosen(x):\n",
    "    \"\"\"The Rosenbrock function\"\"\"\n",
    "    return sum(100.0*(x[1:]-x[:-1]**2.0)**2.0 + (1-x[:-1])**2.0)\n",
    "\n",
    "x0 = np.array([1.3, 0.7, 0.8, 1.9, 1.2])\n",
    "\n",
    "res = minimize(rosen, x0, method='nelder-mead',\n",
    "               options={'xatol': 1e-8, 'disp': True})"
   ]
  },
  {
   "cell_type": "code",
   "execution_count": 3,
   "metadata": {},
   "outputs": [],
   "source": [
    "# constants \n",
    "# states_path = \"data/states/nga_admbnda_adm1_osgof_20161215.shp\"\n",
    "# states = gpd.read_file(states_path)\n",
    "\n",
    "data_path_names = [\"wind_speed\", \"temperature\", \"solar_flux\"]\n",
    "\n",
    "data_averages = {}\n",
    "for name in data_path_names:\n",
    "    data_averages[name] = pd.read_csv(f\"clean_data/{name}.csv\", index_col=0)\n",
    "\n",
    "avg_vals = {n: i[\"value\"] for n, i in data_averages.items()}"
   ]
  },
  {
   "cell_type": "code",
   "execution_count": 4,
   "metadata": {},
   "outputs": [],
   "source": [
    "state_areas = pd.read_csv(f\"clean_data/state_areas.csv\")"
   ]
  },
  {
   "cell_type": "code",
   "execution_count": 5,
   "metadata": {},
   "outputs": [],
   "source": [
    "def get_constants():\n",
    "    data_path_names = [\"wind_speed\", \"temperature\", \"solar_flux\"]\n",
    "\n",
    "    data_averages = {}\n",
    "    for name in data_path_names:\n",
    "        data_averages[name] = pd.read_csv(f\"clean_data/{name}.csv\", index_col=0)\n",
    "\n",
    "    avg_vals = {n: i[\"value\"] for n, i in data_averages.items()}\n",
    "\n",
    "    state_areas = pd.read_csv(f\"clean_data/state_areas.csv\")\n",
    "\n",
    "    F_cur=avg_vals[\"solar_flux\"]\n",
    "    T_a=avg_vals[\"temperature\"]\n",
    "    w=avg_vals[\"wind_speed\"]\n",
    "\n",
    "    return (F_cur, T_a, w, state_areas)\n",
    "\n",
    "    "
   ]
  },
  {
   "cell_type": "code",
   "execution_count": 6,
   "metadata": {},
   "outputs": [],
   "source": [
    "# F_cur, T_a, w, state_areas = get_constants()\n"
   ]
  },
  {
   "cell_type": "code",
   "execution_count": null,
   "metadata": {},
   "outputs": [],
   "source": []
  },
  {
   "cell_type": "code",
   "execution_count": 7,
   "metadata": {},
   "outputs": [],
   "source": [
    "def do_calc(x, constants):\n",
    "    \"\"\" \n",
    "    - pl_solar, pl_wind ~ percent of land \n",
    "    - ns_solar, ns_wind ~ number of states \n",
    "    \"\"\"\n",
    "\n",
    "    pl_solar, pl_wind, ns_solar, ns_wind = x\n",
    "    # ic(pl_solar, pl_wind, ns_solar, ns_wind )\n",
    "    \n",
    "\n",
    "    # constant values \n",
    "    F_cur, T_a, w, state_areas = constants[0]\n",
    "    \n",
    "    # solar capacity for each state \n",
    "    P_ac = h.calculate_power_panel(F_cur, T_a, w)\n",
    "\n",
    "    # return P_ac\n",
    "\n",
    "    # wind capacity for each state \n",
    "    P_m, P_t, CF, P_t_after_losses, P_r = h.calculate_power_turbine(V_m=w)\n",
    "\n",
    "    # panel distribution \n",
    "    solar_res = h.calc_num_panels(pl_solar, \n",
    "        ns_wind, \n",
    "        state_areas, \n",
    "        P_ac)\n",
    "\n",
    "    # turbine distribution \n",
    "    wind_res = h.calc_num_turbines(pl_wind, \n",
    "        ns_wind, \n",
    "        state_areas, \n",
    "        P_t_after_losses, \n",
    "        P_r)\n",
    "\n",
    "    return solar_res, wind_res"
   ]
  },
  {
   "cell_type": "code",
   "execution_count": 8,
   "metadata": {},
   "outputs": [
    {
     "data": {
      "text/plain": [
       "4"
      ]
     },
     "execution_count": 8,
     "metadata": {},
     "output_type": "execute_result"
    }
   ],
   "source": [
    "int(4.0)"
   ]
  },
  {
   "cell_type": "code",
   "execution_count": 35,
   "metadata": {},
   "outputs": [],
   "source": [
    "class optimize_energy():\n",
    "    def __init__(self):\n",
    "        c = get_constants()\n",
    "        self.F_cur = c[0]\n",
    "        self.T_a = c[1]\n",
    "        self.w = c[2] \n",
    "        self.state_areas = c[3]\n",
    "\n",
    "    def do_calc(self, x):\n",
    "        \"\"\" \n",
    "        - pl_solar, pl_wind ~ percent of land \n",
    "        - ns_solar, ns_wind ~ number of states \n",
    "        \"\"\"\n",
    "        pl_solar, pl_wind, ns_solar, ns_wind = x\n",
    "\n",
    "        # capacities for each state \n",
    "        P_ac = h.calculate_power_panel(self.F_cur, self.T_a, self.w)\n",
    "        P_m, P_t, CF, P_t_after_losses, P_r = h.calculate_power_turbine(V_m=self.w)\n",
    "\n",
    "        # distributions\n",
    "        solar_res = h.calc_num_panels(pl_solar, \n",
    "            ns_wind, \n",
    "            self.state_areas, \n",
    "            P_ac)\n",
    "        wind_res = h.calc_num_turbines(pl_wind, \n",
    "            ns_wind, \n",
    "            self.state_areas, \n",
    "            P_t_after_losses, \n",
    "            P_r)\n",
    "\n",
    "        return solar_res, wind_res\n",
    "\n",
    "    def min_devices(self, x):\n",
    "        solar_res, wind_res = self.do_calc(x)\n",
    "        num_devices = solar_res[\"n_panels\"].sum() + wind_res[\"n_turbines\"].sum()\n",
    "\n",
    "        return num_devices\n",
    "\n",
    "    def meet_energy(self, x):\n",
    "        solar_res, wind_res = self.do_calc(x)\n",
    "        self.total_energy = solar_res[\"total_energy (mwh)\"] + wind_res[\"total_energy (mwh)\"]\n",
    "        self.energy_need = 26_5337_353 # 27 million MWh \n",
    "        self.dif = total_energy - energy_need # > 0 \n",
    "\n",
    "        return dif \n",
    "    "
   ]
  },
  {
   "cell_type": "code",
   "execution_count": 33,
   "metadata": {},
   "outputs": [],
   "source": [
    "o = optimize_energy()"
   ]
  },
  {
   "cell_type": "code",
   "execution_count": 30,
   "metadata": {},
   "outputs": [
    {
     "ename": "TypeError",
     "evalue": "meet_energy() takes 1 positional argument but 2 were given",
     "output_type": "error",
     "traceback": [
      "\u001b[0;31m---------------------------------------------------------------------------\u001b[0m",
      "\u001b[0;31mTypeError\u001b[0m                                 Traceback (most recent call last)",
      "Cell \u001b[0;32mIn[30], line 3\u001b[0m\n\u001b[1;32m      1\u001b[0m x0 \u001b[39m=\u001b[39m [\u001b[39m0.02\u001b[39m, \u001b[39m0.02\u001b[39m, \u001b[39m4\u001b[39m, \u001b[39m4\u001b[39m]\n\u001b[0;32m----> 3\u001b[0m o\u001b[39m.\u001b[39;49mmeet_energy(x0)\n",
      "\u001b[0;31mTypeError\u001b[0m: meet_energy() takes 1 positional argument but 2 were given"
     ]
    }
   ],
   "source": [
    "x0 = [0.02, 0.02, 4, 4]\n",
    "\n",
    "o.meet_energy(x0)"
   ]
  },
  {
   "cell_type": "code",
   "execution_count": 36,
   "metadata": {},
   "outputs": [
    {
     "name": "stderr",
     "output_type": "stream",
     "text": [
      "/Users/julietnwagwuume-ezeoke/_ClassCode/classenv/lib/python3.9/site-packages/scipy/optimize/_minimize.py:565: RuntimeWarning: Method nelder-mead cannot handle constraints.\n",
      "  warn('Method %s cannot handle constraints.' % method,\n",
      "/var/folders/7r/39t1cgb13d57zk26c__2z50m0000gn/T/ipykernel_11559/3144562946.py:6: RuntimeWarning: Maximum number of iterations has been exceeded.\n",
      "  res = minimize(fun=o.min_devices, x0=x0, method='nelder-mead', constraints=nlc,\n"
     ]
    }
   ],
   "source": [
    "# constants = get_constants()\n",
    "o = optimize_energy()\n",
    "x0 = [0.02, 0.02, 4, 4]\n",
    "\n",
    "nlc  = NonlinearConstraint(fun=o.meet_energy, lb=0, ub=1e3)\n",
    "res = minimize(fun=o.min_devices, x0=x0, method='nelder-mead', constraints=nlc,\n",
    "               options={'maxiter': 10, 'disp': True})"
   ]
  },
  {
   "cell_type": "code",
   "execution_count": 18,
   "metadata": {},
   "outputs": [],
   "source": [
    "def min_devices(x, constants):\n",
    "    solar_res, wind_res = do_calc(x, constants)\n",
    "    num_devices = solar_res[\"n_panels\"].sum() + wind_res[\"n_turbines\"].sum()\n",
    "\n",
    "    return num_devices\n",
    "\n",
    "def meet_energy(x,):\n",
    "    constants = get_constants()\n",
    "    solar_res, wind_res = do_calc(x, constants)\n",
    "    total_energy = solar_res[\"total_energy (mwh)\"] + wind_res[\"total_energy (mwh)\"]\n",
    "    energy_need = 26_5337_353 # 27 million MWh \n",
    "    dif = total_energy - energy_need # > 0 \n",
    "\n",
    "    return dif \n"
   ]
  },
  {
   "cell_type": "code",
   "execution_count": 10,
   "metadata": {},
   "outputs": [],
   "source": [
    "constants = get_constants()\n",
    "x0 = [0.02, 0.02, 4, 4]\n",
    "a = do_calc(x0, [constants])\n",
    "# a.sort_values(ascending=False)[0:3]"
   ]
  },
  {
   "cell_type": "code",
   "execution_count": 37,
   "metadata": {},
   "outputs": [
    {
     "name": "stdout",
     "output_type": "stream",
     "text": [
      "[0.01193164 0.02189868 5.13540039 3.49594727]\n"
     ]
    },
    {
     "ename": "TypeError",
     "evalue": "meet_energy() takes 1 positional argument but 2 were given",
     "output_type": "error",
     "traceback": [
      "\u001b[0;31m---------------------------------------------------------------------------\u001b[0m",
      "\u001b[0;31mTypeError\u001b[0m                                 Traceback (most recent call last)",
      "Cell \u001b[0;32mIn[37], line 2\u001b[0m\n\u001b[1;32m      1\u001b[0m \u001b[39mprint\u001b[39m(res\u001b[39m.\u001b[39mx)\n\u001b[0;32m----> 2\u001b[0m meet_energy(res\u001b[39m.\u001b[39;49mx, [constants])\n",
      "\u001b[0;31mTypeError\u001b[0m: meet_energy() takes 1 positional argument but 2 were given"
     ]
    }
   ],
   "source": [
    "print(res.x)\n",
    "meet_energy(res.x)"
   ]
  },
  {
   "cell_type": "code",
   "execution_count": 12,
   "metadata": {},
   "outputs": [
    {
     "data": {
      "text/plain": [
       "array([0.01193164, 0.02189868, 5.13540039, 3.49594727])"
      ]
     },
     "execution_count": 12,
     "metadata": {},
     "output_type": "execute_result"
    }
   ],
   "source": []
  },
  {
   "cell_type": "code",
   "execution_count": null,
   "metadata": {},
   "outputs": [],
   "source": []
  },
  {
   "attachments": {},
   "cell_type": "markdown",
   "metadata": {},
   "source": [
    "- things to minimize potentially\n",
    "  - total land used \n",
    "  - number of turbines + number of panels  ~ cost \n",
    "- start by definining seperate function \n",
    "\n",
    "- [mnimize where output has contraints](https://stackoverflow.com/questions/64169852/optimizing-input-where-output-has-constraints-in-python)\n",
    "- \n",
    "- [use a class for constants](https://stackoverflow.com/questions/64205381/can-i-send-arguments-to-a-constraint-function-using-scipy-optimize-nonlinearcons)"
   ]
  },
  {
   "cell_type": "code",
   "execution_count": null,
   "metadata": {},
   "outputs": [],
   "source": []
  },
  {
   "cell_type": "code",
   "execution_count": null,
   "metadata": {},
   "outputs": [],
   "source": [
    "# things to minimize potentially \n",
    "    "
   ]
  }
 ],
 "metadata": {
  "kernelspec": {
   "display_name": "classenv",
   "language": "python",
   "name": "python3"
  },
  "language_info": {
   "codemirror_mode": {
    "name": "ipython",
    "version": 3
   },
   "file_extension": ".py",
   "mimetype": "text/x-python",
   "name": "python",
   "nbconvert_exporter": "python",
   "pygments_lexer": "ipython3",
   "version": "3.9.15"
  },
  "orig_nbformat": 4
 },
 "nbformat": 4,
 "nbformat_minor": 2
}
