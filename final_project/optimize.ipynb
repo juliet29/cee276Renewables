{
 "cells": [
  {
   "cell_type": "code",
   "execution_count": 1,
   "metadata": {},
   "outputs": [],
   "source": [
    "import helpers as h\n",
    "\n",
    "import numpy as np\n",
    "import pandas as pd\n",
    "from scipy.optimize import minimize\n",
    "\n",
    "from icecream import ic"
   ]
  },
  {
   "cell_type": "code",
   "execution_count": 2,
   "metadata": {},
   "outputs": [
    {
     "name": "stdout",
     "output_type": "stream",
     "text": [
      "Optimization terminated successfully.\n",
      "         Current function value: 0.000000\n",
      "         Iterations: 339\n",
      "         Function evaluations: 571\n"
     ]
    }
   ],
   "source": [
    "# example \n",
    "def rosen(x):\n",
    "    \"\"\"The Rosenbrock function\"\"\"\n",
    "    return sum(100.0*(x[1:]-x[:-1]**2.0)**2.0 + (1-x[:-1])**2.0)\n",
    "\n",
    "x0 = np.array([1.3, 0.7, 0.8, 1.9, 1.2])\n",
    "\n",
    "res = minimize(rosen, x0, method='nelder-mead',\n",
    "               options={'xatol': 1e-8, 'disp': True})"
   ]
  },
  {
   "cell_type": "code",
   "execution_count": 3,
   "metadata": {},
   "outputs": [],
   "source": [
    "# constants \n",
    "# states_path = \"data/states/nga_admbnda_adm1_osgof_20161215.shp\"\n",
    "# states = gpd.read_file(states_path)\n",
    "\n",
    "data_path_names = [\"wind_speed\", \"temperature\", \"solar_flux\"]\n",
    "\n",
    "data_averages = {}\n",
    "for name in data_path_names:\n",
    "    data_averages[name] = pd.read_csv(f\"clean_data/{name}.csv\", index_col=0)\n",
    "\n",
    "avg_vals = {n: i[\"value\"] for n, i in data_averages.items()}"
   ]
  },
  {
   "cell_type": "code",
   "execution_count": 4,
   "metadata": {},
   "outputs": [],
   "source": [
    "state_areas = pd.read_csv(f\"clean_data/state_areas.csv\")"
   ]
  },
  {
   "cell_type": "code",
   "execution_count": 5,
   "metadata": {},
   "outputs": [],
   "source": [
    "def get_constants():\n",
    "    data_path_names = [\"wind_speed\", \"temperature\", \"solar_flux\"]\n",
    "\n",
    "    data_averages = {}\n",
    "    for name in data_path_names:\n",
    "        data_averages[name] = pd.read_csv(f\"clean_data/{name}.csv\", index_col=0)\n",
    "\n",
    "    avg_vals = {n: i[\"value\"] for n, i in data_averages.items()}\n",
    "\n",
    "    state_areas = pd.read_csv(f\"clean_data/state_areas.csv\")\n",
    "\n",
    "    F_cur=avg_vals[\"solar_flux\"]\n",
    "    T_a=avg_vals[\"temperature\"]\n",
    "    w=avg_vals[\"wind_speed\"]\n",
    "\n",
    "    return (F_cur, T_a, w, state_areas)\n",
    "\n",
    "    "
   ]
  },
  {
   "cell_type": "code",
   "execution_count": 6,
   "metadata": {},
   "outputs": [],
   "source": [
    "# F_cur, T_a, w, state_areas = get_constants()\n"
   ]
  },
  {
   "cell_type": "code",
   "execution_count": 7,
   "metadata": {},
   "outputs": [],
   "source": [
    "def do_calc(x, constants):\n",
    "    \"\"\" \n",
    "    - pl_solar, pl_wind ~ percent of land \n",
    "    - ns_solar, ns_wind ~ number of states \n",
    "    \"\"\"\n",
    "\n",
    "    pl_solar, pl_wind, ns_solar, ns_wind = x\n",
    "    # ic(pl_solar, pl_wind, ns_solar, ns_wind )\n",
    "    \n",
    "\n",
    "    # constant values \n",
    "    F_cur, T_a, w, state_areas = constants[0]\n",
    "    \n",
    "    # solar capacity for each state \n",
    "    P_ac = h.calculate_power_panel(F_cur, T_a, w)\n",
    "\n",
    "    # return P_ac\n",
    "\n",
    "    # wind capacity for each state \n",
    "    P_m, P_t, CF, P_t_after_losses, P_r = h.calculate_power_turbine(V_m=w)\n",
    "\n",
    "    # panel distribution \n",
    "    solar_res = h.calc_num_panels(pl_solar, \n",
    "        ns_wind, \n",
    "        state_areas, \n",
    "        P_ac)\n",
    "\n",
    "    # turbine distribution \n",
    "    wind_res = h.calc_num_turbines(pl_wind, \n",
    "        ns_wind, \n",
    "        state_areas, \n",
    "        P_t_after_losses, \n",
    "        P_r)\n",
    "\n",
    "    return solar_res, wind_res"
   ]
  },
  {
   "cell_type": "code",
   "execution_count": 8,
   "metadata": {},
   "outputs": [
    {
     "data": {
      "text/plain": [
       "4"
      ]
     },
     "execution_count": 8,
     "metadata": {},
     "output_type": "execute_result"
    }
   ],
   "source": [
    "int(4.0)"
   ]
  },
  {
   "cell_type": "code",
   "execution_count": 9,
   "metadata": {},
   "outputs": [],
   "source": [
    "def min_devices(x, constants):\n",
    "    solar_res, wind_res = do_calc(x, constants)\n",
    "    num_devices = solar_res[\"n_panels\"].sum() + wind_res[\"n_turbines\"].sum()\n",
    "\n",
    "    return num_devices\n",
    "\n",
    "def meet_energy(x, constants):\n",
    "    solar_res, wind_res = do_calc(x, constants)\n",
    "    total_energy = solar_res[\"total_energy (mwh)\"] + wind_res[\"total_energy (mwh)\"]\n",
    "    energy_need = 26_5337_353 # 27 million MWh \n",
    "    dif = total_energy - energy_need # > 0 \n",
    "\n",
    "    return dif \n"
   ]
  },
  {
   "cell_type": "code",
   "execution_count": 10,
   "metadata": {},
   "outputs": [],
   "source": [
    "constants = get_constants()\n",
    "x0 = [0.02, 0.02, 4, 4]\n",
    "a = do_calc(x0, [constants])\n",
    "# a.sort_values(ascending=False)[0:3]"
   ]
  },
  {
   "cell_type": "code",
   "execution_count": 11,
   "metadata": {},
   "outputs": [
    {
     "name": "stderr",
     "output_type": "stream",
     "text": [
      "/var/folders/7r/39t1cgb13d57zk26c__2z50m0000gn/T/ipykernel_11559/3427481618.py:3: RuntimeWarning: Maximum number of iterations has been exceeded.\n",
      "  res = minimize(fun=min_devices, args=[constants], x0=x0, method='nelder-mead',\n"
     ]
    }
   ],
   "source": [
    "constants = get_constants()\n",
    "x0 = [0.02, 0.02, 4, 4]\n",
    "res = minimize(fun=min_devices, args=[constants], x0=x0, method='nelder-mead',\n",
    "               options={'maxiter': 10, 'disp': True})"
   ]
  },
  {
   "cell_type": "code",
   "execution_count": 14,
   "metadata": {},
   "outputs": [
    {
     "data": {
      "text/plain": [
       "9961980063.339096"
      ]
     },
     "execution_count": 14,
     "metadata": {},
     "output_type": "execute_result"
    }
   ],
   "source": [
    "meet_energy(res.x, [constants])"
   ]
  },
  {
   "cell_type": "code",
   "execution_count": 12,
   "metadata": {},
   "outputs": [
    {
     "data": {
      "text/plain": [
       "array([0.01193164, 0.02189868, 5.13540039, 3.49594727])"
      ]
     },
     "execution_count": 12,
     "metadata": {},
     "output_type": "execute_result"
    }
   ],
   "source": []
  },
  {
   "cell_type": "code",
   "execution_count": null,
   "metadata": {},
   "outputs": [],
   "source": []
  },
  {
   "attachments": {},
   "cell_type": "markdown",
   "metadata": {},
   "source": [
    "- things to minimize potentially\n",
    "  - total land used \n",
    "  - number of turbines + number of panels  ~ cost \n",
    "- start by definining seperate function \n",
    "\n",
    "[mnimize where output has contraints](https://stackoverflow.com/questions/64169852/optimizing-input-where-output-has-constraints-in-python)"
   ]
  },
  {
   "cell_type": "code",
   "execution_count": null,
   "metadata": {},
   "outputs": [],
   "source": []
  },
  {
   "cell_type": "code",
   "execution_count": null,
   "metadata": {},
   "outputs": [],
   "source": [
    "# things to minimize potentially \n",
    "    "
   ]
  }
 ],
 "metadata": {
  "kernelspec": {
   "display_name": "classenv",
   "language": "python",
   "name": "python3"
  },
  "language_info": {
   "codemirror_mode": {
    "name": "ipython",
    "version": 3
   },
   "file_extension": ".py",
   "mimetype": "text/x-python",
   "name": "python",
   "nbconvert_exporter": "python",
   "pygments_lexer": "ipython3",
   "version": "3.9.15"
  },
  "orig_nbformat": 4
 },
 "nbformat": 4,
 "nbformat_minor": 2
}
