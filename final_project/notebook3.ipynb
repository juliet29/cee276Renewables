{
 "cells": [
  {
   "cell_type": "code",
   "execution_count": 15,
   "metadata": {},
   "outputs": [],
   "source": [
    "import numpy as np\n",
    "# import units as u\n",
    "import numpy as np\n",
    "import pandas as pd\n",
    "\n",
    "import plotly.graph_objects as go\n",
    "from plotly.subplots import make_subplots\n",
    "from matplotlib import pyplot as plt\n",
    "\n",
    "import rasterio\n",
    "from rasterio.plot import show_hist, show\n",
    "import geopandas as gpd\n",
    "import rasterstats\n",
    "from shapely.geometry import shape\n",
    "\n",
    "import plotly.graph_objects as go\n",
    "from plotly.subplots import make_subplots\n",
    "from matplotlib import pyplot as plt\n",
    "\n",
    "from icecream import ic"
   ]
  },
  {
   "cell_type": "code",
   "execution_count": 5,
   "metadata": {},
   "outputs": [],
   "source": [
    "def print_nice(float):\n",
    "    print(f\"{float:,.0f}\")\n",
    "    return "
   ]
  },
  {
   "cell_type": "code",
   "execution_count": 39,
   "metadata": {},
   "outputs": [],
   "source": [
    "mtoe_to_mwh = 11.63 # mwh = 1 mtoe \n",
    "hours_per_year = 8760.0\n",
    "mw_to_mwh = hours_per_year\n",
    "kwh_to_mwh = 1/1000\n",
    "\n",
    "iea_energy_arr = [\n",
    "    (\"bioenergy\", 114),\n",
    "    (\"gas\", 15),\n",
    "    (\"oil\", 26),\n",
    "    (\"primary_energy_supply\", 158.75)\n",
    "] # Mtoe\n",
    "\n",
    "kpmg_arr = [\n",
    "    (\"distribution\", 4_094),\n",
    "    (\"gen_capacaity\", 8_000)\n",
    "] # MW \n",
    "\n",
    "world_data_arr = [\n",
    "    (\"energy_consumption\", 24.61e9),\n",
    "    (\"gen_capacity\", 29e9)\n",
    "] # kwh\n",
    "\n",
    "\n",
    "\n",
    "iea_energy = pd.DataFrame(iea_energy_arr, columns=[\"Source\", \"Value (mtoe)\"])\n",
    "iea_energy[\"Value (mwh)\"] = iea_energy[\"Value (mtoe)\"]*mtoe_to_mwh\n",
    "\n",
    "kpmg = pd.DataFrame(kpmg_arr, columns=[\"Source\", \"Value (mw)\"])\n",
    "world_data = pd.DataFrame(world_data_arr, columns=[\"Source\", \"Value (kwh)\"])\n",
    "\n",
    "\n",
    "kpmg[\"Value (mwh)\"] = kpmg[\"Value (mw)\"]*mw_to_mwh\n",
    "world_data[\"Value (mwh)\"] = world_data[\"Value (kwh)\"]*kwh_to_mwh\n",
    "\n"
   ]
  },
  {
   "cell_type": "code",
   "execution_count": 8,
   "metadata": {},
   "outputs": [],
   "source": [
    "# https://www.eia.gov/international/analysis/country/NGA\n",
    "twh_to_mwh = 1e6\n",
    "quad_btu_to_mwh = 293_071_070.17222"
   ]
  },
  {
   "cell_type": "code",
   "execution_count": 6,
   "metadata": {},
   "outputs": [
    {
     "name": "stdout",
     "output_type": "stream",
     "text": [
      "556,835,033\n"
     ]
    }
   ],
   "source": [
    "print_nice(1.9 * quad_btu_to_mwh) # energy consumption "
   ]
  },
  {
   "cell_type": "code",
   "execution_count": 9,
   "metadata": {},
   "outputs": [
    {
     "name": "stdout",
     "output_type": "stream",
     "text": [
      "31,500,000\n"
     ]
    }
   ],
   "source": [
    "print_nice(31.5 * twh_to_mwh) # electricity feberayion "
   ]
  },
  {
   "cell_type": "code",
   "execution_count": 40,
   "metadata": {},
   "outputs": [],
   "source": [
    "pd.set_option('display.float_format', lambda x: f'{x:,.0f}')"
   ]
  },
  {
   "cell_type": "code",
   "execution_count": 41,
   "metadata": {},
   "outputs": [
    {
     "data": {
      "text/html": [
       "<div>\n",
       "<style scoped>\n",
       "    .dataframe tbody tr th:only-of-type {\n",
       "        vertical-align: middle;\n",
       "    }\n",
       "\n",
       "    .dataframe tbody tr th {\n",
       "        vertical-align: top;\n",
       "    }\n",
       "\n",
       "    .dataframe thead th {\n",
       "        text-align: right;\n",
       "    }\n",
       "</style>\n",
       "<table border=\"1\" class=\"dataframe\">\n",
       "  <thead>\n",
       "    <tr style=\"text-align: right;\">\n",
       "      <th></th>\n",
       "      <th>Source</th>\n",
       "      <th>Value (mtoe)</th>\n",
       "      <th>Value (mwh)</th>\n",
       "    </tr>\n",
       "  </thead>\n",
       "  <tbody>\n",
       "    <tr>\n",
       "      <th>0</th>\n",
       "      <td>bioenergy</td>\n",
       "      <td>114</td>\n",
       "      <td>1,326</td>\n",
       "    </tr>\n",
       "    <tr>\n",
       "      <th>1</th>\n",
       "      <td>gas</td>\n",
       "      <td>15</td>\n",
       "      <td>174</td>\n",
       "    </tr>\n",
       "    <tr>\n",
       "      <th>2</th>\n",
       "      <td>oil</td>\n",
       "      <td>26</td>\n",
       "      <td>302</td>\n",
       "    </tr>\n",
       "    <tr>\n",
       "      <th>3</th>\n",
       "      <td>primary_energy_supply</td>\n",
       "      <td>159</td>\n",
       "      <td>1,846</td>\n",
       "    </tr>\n",
       "  </tbody>\n",
       "</table>\n",
       "</div>"
      ],
      "text/plain": [
       "                  Source  Value (mtoe)  Value (mwh)\n",
       "0              bioenergy           114        1,326\n",
       "1                    gas            15          174\n",
       "2                    oil            26          302\n",
       "3  primary_energy_supply           159        1,846"
      ]
     },
     "execution_count": 41,
     "metadata": {},
     "output_type": "execute_result"
    }
   ],
   "source": [
    "iea_energy #is this energy supply or consumption??? "
   ]
  },
  {
   "cell_type": "code",
   "execution_count": 32,
   "metadata": {},
   "outputs": [
    {
     "data": {
      "text/html": [
       "<div>\n",
       "<style scoped>\n",
       "    .dataframe tbody tr th:only-of-type {\n",
       "        vertical-align: middle;\n",
       "    }\n",
       "\n",
       "    .dataframe tbody tr th {\n",
       "        vertical-align: top;\n",
       "    }\n",
       "\n",
       "    .dataframe thead th {\n",
       "        text-align: right;\n",
       "    }\n",
       "</style>\n",
       "<table border=\"1\" class=\"dataframe\">\n",
       "  <thead>\n",
       "    <tr style=\"text-align: right;\">\n",
       "      <th></th>\n",
       "      <th>Source</th>\n",
       "      <th>Value (mw)</th>\n",
       "      <th>Value (mwh)</th>\n",
       "    </tr>\n",
       "  </thead>\n",
       "  <tbody>\n",
       "    <tr>\n",
       "      <th>0</th>\n",
       "      <td>distribution</td>\n",
       "      <td>4094</td>\n",
       "      <td>35,863,440</td>\n",
       "    </tr>\n",
       "    <tr>\n",
       "      <th>1</th>\n",
       "      <td>gen_capacaity</td>\n",
       "      <td>8000</td>\n",
       "      <td>70,080,000</td>\n",
       "    </tr>\n",
       "  </tbody>\n",
       "</table>\n",
       "</div>"
      ],
      "text/plain": [
       "          Source  Value (mw)  Value (mwh)\n",
       "0   distribution        4094   35,863,440\n",
       "1  gen_capacaity        8000   70,080,000"
      ]
     },
     "execution_count": 32,
     "metadata": {},
     "output_type": "execute_result"
    }
   ],
   "source": [
    "kpmg"
   ]
  },
  {
   "cell_type": "code",
   "execution_count": 33,
   "metadata": {},
   "outputs": [
    {
     "data": {
      "text/html": [
       "<div>\n",
       "<style scoped>\n",
       "    .dataframe tbody tr th:only-of-type {\n",
       "        vertical-align: middle;\n",
       "    }\n",
       "\n",
       "    .dataframe tbody tr th {\n",
       "        vertical-align: top;\n",
       "    }\n",
       "\n",
       "    .dataframe thead th {\n",
       "        text-align: right;\n",
       "    }\n",
       "</style>\n",
       "<table border=\"1\" class=\"dataframe\">\n",
       "  <thead>\n",
       "    <tr style=\"text-align: right;\">\n",
       "      <th></th>\n",
       "      <th>Source</th>\n",
       "      <th>Value (kwh)</th>\n",
       "      <th>Value (mwh)</th>\n",
       "    </tr>\n",
       "  </thead>\n",
       "  <tbody>\n",
       "    <tr>\n",
       "      <th>0</th>\n",
       "      <td>energy_consumption</td>\n",
       "      <td>24,610,000,000</td>\n",
       "      <td>24,610,000</td>\n",
       "    </tr>\n",
       "    <tr>\n",
       "      <th>1</th>\n",
       "      <td>gen_capacity</td>\n",
       "      <td>29,000,000,000</td>\n",
       "      <td>29,000,000</td>\n",
       "    </tr>\n",
       "  </tbody>\n",
       "</table>\n",
       "</div>"
      ],
      "text/plain": [
       "               Source    Value (kwh)  Value (mwh)\n",
       "0  energy_consumption 24,610,000,000   24,610,000\n",
       "1        gen_capacity 29,000,000,000   29,000,000"
      ]
     },
     "execution_count": 33,
     "metadata": {},
     "output_type": "execute_result"
    }
   ],
   "source": [
    "world_data"
   ]
  },
  {
   "cell_type": "code",
   "execution_count": 42,
   "metadata": {},
   "outputs": [
    {
     "name": "stdout",
     "output_type": "stream",
     "text": [
      "27,560,000\n"
     ]
    }
   ],
   "source": [
    "# https://www.iea.org/countries/nigeria\n",
    "twh_to_mwh = 1e6\n",
    "iea_consumption = 27.56 # twh \n",
    "iea_consumption_mwh =  iea_consumption *  twh_to_mwh\n",
    "print(f\"{iea_consumption_mwh:,.0f}\")\n",
    "\n",
    "# supports the data from world data, so use this..."
   ]
  },
  {
   "cell_type": "code",
   "execution_count": null,
   "metadata": {},
   "outputs": [],
   "source": [
    "electricity consumption = 27.6 twh\n"
   ]
  },
  {
   "cell_type": "code",
   "execution_count": null,
   "metadata": {},
   "outputs": [],
   "source": []
  },
  {
   "cell_type": "code",
   "execution_count": 11,
   "metadata": {},
   "outputs": [],
   "source": [
    "# https://www.iea.org/countries/nigeria = enegry consumption => total final consumption by source \n",
    "biofuels = 4.6e6 #tj \n",
    "oil_products = 811_000\n",
    "natural_gas = 158_000 # tj \n",
    "electricity = 100_000 #tj\n",
    "\n",
    "tj_to_mwh = 277.779"
   ]
  },
  {
   "cell_type": "code",
   "execution_count": 17,
   "metadata": {},
   "outputs": [
    {
     "name": "stdout",
     "output_type": "stream",
     "text": [
      "1,277,783,400\n",
      "225,278,769\n",
      "43,889,082\n",
      "27,777,900\n"
     ]
    },
    {
     "data": {
      "text/plain": [
       "[None, None, None, None]"
      ]
     },
     "execution_count": 17,
     "metadata": {},
     "output_type": "execute_result"
    }
   ],
   "source": [
    "c = [biofuels, oil_products, natural_gas, electricity]\n",
    "c_mwh = [i*tj_to_mwh for i in c]\n",
    "[print_nice(i*tj_to_mwh) for i in c]"
   ]
  },
  {
   "cell_type": "code",
   "execution_count": 19,
   "metadata": {},
   "outputs": [
    {
     "name": "stdout",
     "output_type": "stream",
     "text": [
      "296,945,751\n"
     ]
    }
   ],
   "source": [
    "print_nice(np.array(c_mwh[1:]).sum())"
   ]
  },
  {
   "cell_type": "code",
   "execution_count": 18,
   "metadata": {},
   "outputs": [
    {
     "name": "stdout",
     "output_type": "stream",
     "text": [
      "1,574,729,151\n"
     ]
    }
   ],
   "source": [
    "print_nice(np.array(c_mwh).sum())"
   ]
  },
  {
   "cell_type": "code",
   "execution_count": 46,
   "metadata": {},
   "outputs": [
    {
     "name": "stdout",
     "output_type": "stream",
     "text": [
      "50,109,091\n"
     ]
    }
   ],
   "source": [
    "# percentage with elect \n",
    "perc_elect = 55\n",
    "elect_demand = (100/55)*iea_consumption_mwh\n",
    "print_nice(elect_demand) # mwh "
   ]
  },
  {
   "cell_type": "code",
   "execution_count": 47,
   "metadata": {},
   "outputs": [],
   "source": [
    "# hydropower => https://www.hydropower.org/country-profiles/nigeria\n",
    "hydro_installed_capacity = 2_110 * mw_to_mwh \n",
    "hydro_generation = 6.10 * twh_to_mwh\n"
   ]
  },
  {
   "cell_type": "code",
   "execution_count": 48,
   "metadata": {},
   "outputs": [
    {
     "name": "stdout",
     "output_type": "stream",
     "text": [
      "18,483,600\n",
      "6,100,000\n"
     ]
    }
   ],
   "source": [
    "print_nice(hydro_installed_capacity)\n",
    "print_nice(hydro_generation)"
   ]
  }
 ],
 "metadata": {
  "kernelspec": {
   "display_name": "classenv",
   "language": "python",
   "name": "python3"
  },
  "language_info": {
   "codemirror_mode": {
    "name": "ipython",
    "version": 3
   },
   "file_extension": ".py",
   "mimetype": "text/x-python",
   "name": "python",
   "nbconvert_exporter": "python",
   "pygments_lexer": "ipython3",
   "version": "3.9.15"
  },
  "orig_nbformat": 4
 },
 "nbformat": 4,
 "nbformat_minor": 2
}
