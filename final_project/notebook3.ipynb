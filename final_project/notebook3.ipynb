{
 "cells": [
  {
   "cell_type": "code",
   "execution_count": 1,
   "metadata": {},
   "outputs": [],
   "source": [
    "import numpy as np\n",
    "# import units as u\n",
    "import numpy as np\n",
    "import pandas as pd\n",
    "\n",
    "import rasterio\n",
    "from rasterio.plot import show_hist, show\n",
    "import geopandas as gpd\n",
    "import rasterstats\n",
    "from shapely.geometry import shape\n",
    "\n",
    "import plotly.graph_objects as go\n",
    "from plotly.subplots import make_subplots\n",
    "from matplotlib import pyplot as plt\n",
    "\n",
    "from icecream import ic"
   ]
  },
  {
   "cell_type": "code",
   "execution_count": 36,
   "metadata": {},
   "outputs": [],
   "source": []
  },
  {
   "cell_type": "code",
   "execution_count": 17,
   "metadata": {},
   "outputs": [
    {
     "data": {
      "text/html": [
       "<div>\n",
       "<style scoped>\n",
       "    .dataframe tbody tr th:only-of-type {\n",
       "        vertical-align: middle;\n",
       "    }\n",
       "\n",
       "    .dataframe tbody tr th {\n",
       "        vertical-align: top;\n",
       "    }\n",
       "\n",
       "    .dataframe thead th {\n",
       "        text-align: right;\n",
       "    }\n",
       "</style>\n",
       "<table border=\"1\" class=\"dataframe\">\n",
       "  <thead>\n",
       "    <tr style=\"text-align: right;\">\n",
       "      <th></th>\n",
       "      <th>Source</th>\n",
       "      <th>Value (mtoe)</th>\n",
       "    </tr>\n",
       "  </thead>\n",
       "  <tbody>\n",
       "    <tr>\n",
       "      <th>0</th>\n",
       "      <td>bioenergy</td>\n",
       "      <td>114</td>\n",
       "    </tr>\n",
       "    <tr>\n",
       "      <th>1</th>\n",
       "      <td>gas</td>\n",
       "      <td>15</td>\n",
       "    </tr>\n",
       "    <tr>\n",
       "      <th>2</th>\n",
       "      <td>oil</td>\n",
       "      <td>26</td>\n",
       "    </tr>\n",
       "  </tbody>\n",
       "</table>\n",
       "</div>"
      ],
      "text/plain": [
       "      Source  Value (mtoe)\n",
       "0  bioenergy           114\n",
       "1        gas            15\n",
       "2        oil            26"
      ]
     },
     "execution_count": 17,
     "metadata": {},
     "output_type": "execute_result"
    }
   ],
   "source": [
    "\n",
    "iea_energy"
   ]
  },
  {
   "cell_type": "code",
   "execution_count": 18,
   "metadata": {},
   "outputs": [],
   "source": [
    "mtoe_to_mwh = 11.63 # mwh = 1 mtoe \n",
    "iea_energy[\"Value (mwh)\"] = iea_energy[\"Value (mtoe)\"]*mtoe_to_mwh"
   ]
  },
  {
   "cell_type": "code",
   "execution_count": 19,
   "metadata": {},
   "outputs": [
    {
     "data": {
      "text/html": [
       "<div>\n",
       "<style scoped>\n",
       "    .dataframe tbody tr th:only-of-type {\n",
       "        vertical-align: middle;\n",
       "    }\n",
       "\n",
       "    .dataframe tbody tr th {\n",
       "        vertical-align: top;\n",
       "    }\n",
       "\n",
       "    .dataframe thead th {\n",
       "        text-align: right;\n",
       "    }\n",
       "</style>\n",
       "<table border=\"1\" class=\"dataframe\">\n",
       "  <thead>\n",
       "    <tr style=\"text-align: right;\">\n",
       "      <th></th>\n",
       "      <th>Source</th>\n",
       "      <th>Value (mtoe)</th>\n",
       "      <th>Value (mwh)</th>\n",
       "    </tr>\n",
       "  </thead>\n",
       "  <tbody>\n",
       "    <tr>\n",
       "      <th>0</th>\n",
       "      <td>bioenergy</td>\n",
       "      <td>114</td>\n",
       "      <td>1325.82</td>\n",
       "    </tr>\n",
       "    <tr>\n",
       "      <th>1</th>\n",
       "      <td>gas</td>\n",
       "      <td>15</td>\n",
       "      <td>174.45</td>\n",
       "    </tr>\n",
       "    <tr>\n",
       "      <th>2</th>\n",
       "      <td>oil</td>\n",
       "      <td>26</td>\n",
       "      <td>302.38</td>\n",
       "    </tr>\n",
       "  </tbody>\n",
       "</table>\n",
       "</div>"
      ],
      "text/plain": [
       "      Source  Value (mtoe)  Value (mwh)\n",
       "0  bioenergy           114      1325.82\n",
       "1        gas            15       174.45\n",
       "2        oil            26       302.38"
      ]
     },
     "execution_count": 19,
     "metadata": {},
     "output_type": "execute_result"
    }
   ],
   "source": []
  },
  {
   "cell_type": "code",
   "execution_count": 39,
   "metadata": {},
   "outputs": [],
   "source": [
    "mtoe_to_mwh = 11.63 # mwh = 1 mtoe \n",
    "hours_per_year = 8760.0\n",
    "mw_to_mwh = hours_per_year\n",
    "kwh_to_mwh = 1/1000\n",
    "\n",
    "iea_energy_arr = [\n",
    "    (\"bioenergy\", 114),\n",
    "    (\"gas\", 15),\n",
    "    (\"oil\", 26),\n",
    "    (\"primary_energy_supply\", 158.75)\n",
    "] # Mtoe\n",
    "\n",
    "kpmg_arr = [\n",
    "    (\"distribution\", 4_094),\n",
    "    (\"gen_capacaity\", 8_000)\n",
    "] # MW \n",
    "\n",
    "world_data_arr = [\n",
    "    (\"energy_consumption\", 24.61e9),\n",
    "    (\"gen_capacity\", 29e9)\n",
    "] # kwh\n",
    "\n",
    "\n",
    "\n",
    "iea_energy = pd.DataFrame(iea_energy_arr, columns=[\"Source\", \"Value (mtoe)\"])\n",
    "iea_energy[\"Value (mwh)\"] = iea_energy[\"Value (mtoe)\"]*mtoe_to_mwh\n",
    "\n",
    "kpmg = pd.DataFrame(kpmg_arr, columns=[\"Source\", \"Value (mw)\"])\n",
    "world_data = pd.DataFrame(world_data_arr, columns=[\"Source\", \"Value (kwh)\"])\n",
    "\n",
    "\n",
    "kpmg[\"Value (mwh)\"] = kpmg[\"Value (mw)\"]*mw_to_mwh\n",
    "world_data[\"Value (mwh)\"] = world_data[\"Value (kwh)\"]*kwh_to_mwh\n",
    "\n"
   ]
  },
  {
   "cell_type": "code",
   "execution_count": 40,
   "metadata": {},
   "outputs": [],
   "source": [
    "pd.set_option('display.float_format', lambda x: f'{x:,.0f}')"
   ]
  },
  {
   "cell_type": "code",
   "execution_count": 41,
   "metadata": {},
   "outputs": [
    {
     "data": {
      "text/html": [
       "<div>\n",
       "<style scoped>\n",
       "    .dataframe tbody tr th:only-of-type {\n",
       "        vertical-align: middle;\n",
       "    }\n",
       "\n",
       "    .dataframe tbody tr th {\n",
       "        vertical-align: top;\n",
       "    }\n",
       "\n",
       "    .dataframe thead th {\n",
       "        text-align: right;\n",
       "    }\n",
       "</style>\n",
       "<table border=\"1\" class=\"dataframe\">\n",
       "  <thead>\n",
       "    <tr style=\"text-align: right;\">\n",
       "      <th></th>\n",
       "      <th>Source</th>\n",
       "      <th>Value (mtoe)</th>\n",
       "      <th>Value (mwh)</th>\n",
       "    </tr>\n",
       "  </thead>\n",
       "  <tbody>\n",
       "    <tr>\n",
       "      <th>0</th>\n",
       "      <td>bioenergy</td>\n",
       "      <td>114</td>\n",
       "      <td>1,326</td>\n",
       "    </tr>\n",
       "    <tr>\n",
       "      <th>1</th>\n",
       "      <td>gas</td>\n",
       "      <td>15</td>\n",
       "      <td>174</td>\n",
       "    </tr>\n",
       "    <tr>\n",
       "      <th>2</th>\n",
       "      <td>oil</td>\n",
       "      <td>26</td>\n",
       "      <td>302</td>\n",
       "    </tr>\n",
       "    <tr>\n",
       "      <th>3</th>\n",
       "      <td>primary_energy_supply</td>\n",
       "      <td>159</td>\n",
       "      <td>1,846</td>\n",
       "    </tr>\n",
       "  </tbody>\n",
       "</table>\n",
       "</div>"
      ],
      "text/plain": [
       "                  Source  Value (mtoe)  Value (mwh)\n",
       "0              bioenergy           114        1,326\n",
       "1                    gas            15          174\n",
       "2                    oil            26          302\n",
       "3  primary_energy_supply           159        1,846"
      ]
     },
     "execution_count": 41,
     "metadata": {},
     "output_type": "execute_result"
    }
   ],
   "source": [
    "iea_energy"
   ]
  },
  {
   "cell_type": "code",
   "execution_count": 32,
   "metadata": {},
   "outputs": [
    {
     "data": {
      "text/html": [
       "<div>\n",
       "<style scoped>\n",
       "    .dataframe tbody tr th:only-of-type {\n",
       "        vertical-align: middle;\n",
       "    }\n",
       "\n",
       "    .dataframe tbody tr th {\n",
       "        vertical-align: top;\n",
       "    }\n",
       "\n",
       "    .dataframe thead th {\n",
       "        text-align: right;\n",
       "    }\n",
       "</style>\n",
       "<table border=\"1\" class=\"dataframe\">\n",
       "  <thead>\n",
       "    <tr style=\"text-align: right;\">\n",
       "      <th></th>\n",
       "      <th>Source</th>\n",
       "      <th>Value (mw)</th>\n",
       "      <th>Value (mwh)</th>\n",
       "    </tr>\n",
       "  </thead>\n",
       "  <tbody>\n",
       "    <tr>\n",
       "      <th>0</th>\n",
       "      <td>distribution</td>\n",
       "      <td>4094</td>\n",
       "      <td>35,863,440</td>\n",
       "    </tr>\n",
       "    <tr>\n",
       "      <th>1</th>\n",
       "      <td>gen_capacaity</td>\n",
       "      <td>8000</td>\n",
       "      <td>70,080,000</td>\n",
       "    </tr>\n",
       "  </tbody>\n",
       "</table>\n",
       "</div>"
      ],
      "text/plain": [
       "          Source  Value (mw)  Value (mwh)\n",
       "0   distribution        4094   35,863,440\n",
       "1  gen_capacaity        8000   70,080,000"
      ]
     },
     "execution_count": 32,
     "metadata": {},
     "output_type": "execute_result"
    }
   ],
   "source": [
    "kpmg"
   ]
  },
  {
   "cell_type": "code",
   "execution_count": 33,
   "metadata": {},
   "outputs": [
    {
     "data": {
      "text/html": [
       "<div>\n",
       "<style scoped>\n",
       "    .dataframe tbody tr th:only-of-type {\n",
       "        vertical-align: middle;\n",
       "    }\n",
       "\n",
       "    .dataframe tbody tr th {\n",
       "        vertical-align: top;\n",
       "    }\n",
       "\n",
       "    .dataframe thead th {\n",
       "        text-align: right;\n",
       "    }\n",
       "</style>\n",
       "<table border=\"1\" class=\"dataframe\">\n",
       "  <thead>\n",
       "    <tr style=\"text-align: right;\">\n",
       "      <th></th>\n",
       "      <th>Source</th>\n",
       "      <th>Value (kwh)</th>\n",
       "      <th>Value (mwh)</th>\n",
       "    </tr>\n",
       "  </thead>\n",
       "  <tbody>\n",
       "    <tr>\n",
       "      <th>0</th>\n",
       "      <td>energy_consumption</td>\n",
       "      <td>24,610,000,000</td>\n",
       "      <td>24,610,000</td>\n",
       "    </tr>\n",
       "    <tr>\n",
       "      <th>1</th>\n",
       "      <td>gen_capacity</td>\n",
       "      <td>29,000,000,000</td>\n",
       "      <td>29,000,000</td>\n",
       "    </tr>\n",
       "  </tbody>\n",
       "</table>\n",
       "</div>"
      ],
      "text/plain": [
       "               Source    Value (kwh)  Value (mwh)\n",
       "0  energy_consumption 24,610,000,000   24,610,000\n",
       "1        gen_capacity 29,000,000,000   29,000,000"
      ]
     },
     "execution_count": 33,
     "metadata": {},
     "output_type": "execute_result"
    }
   ],
   "source": [
    "world_data"
   ]
  },
  {
   "cell_type": "code",
   "execution_count": 45,
   "metadata": {},
   "outputs": [],
   "source": [
    "def print_nice(float):\n",
    "    print(f\"{float:,.0f}\")\n",
    "    return "
   ]
  },
  {
   "cell_type": "code",
   "execution_count": 42,
   "metadata": {},
   "outputs": [
    {
     "name": "stdout",
     "output_type": "stream",
     "text": [
      "27,560,000\n"
     ]
    }
   ],
   "source": [
    "# https://www.iea.org/countries/nigeria\n",
    "twh_to_mwh = 1e6\n",
    "iea_consumption = 27.56 # twh \n",
    "iea_consumption_mwh =  iea_consumption *  twh_to_mwh\n",
    "print(f\"{iea_consumption_mwh:,.0f}\")\n",
    "\n",
    "# supports the data from world data, so use this..."
   ]
  },
  {
   "cell_type": "code",
   "execution_count": 46,
   "metadata": {},
   "outputs": [
    {
     "name": "stdout",
     "output_type": "stream",
     "text": [
      "50,109,091\n"
     ]
    }
   ],
   "source": [
    "# percentage with elect \n",
    "perc_elect = 55\n",
    "elect_demand = (100/55)*iea_consumption_mwh\n",
    "print_nice(elect_demand) # mwh "
   ]
  }
 ],
 "metadata": {
  "kernelspec": {
   "display_name": "classenv",
   "language": "python",
   "name": "python3"
  },
  "language_info": {
   "codemirror_mode": {
    "name": "ipython",
    "version": 3
   },
   "file_extension": ".py",
   "mimetype": "text/x-python",
   "name": "python",
   "nbconvert_exporter": "python",
   "pygments_lexer": "ipython3",
   "version": "3.9.15"
  },
  "orig_nbformat": 4
 },
 "nbformat": 4,
 "nbformat_minor": 2
}
