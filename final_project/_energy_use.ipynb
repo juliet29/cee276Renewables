{
  "cells": [
    {
      "cell_type": "markdown",
      "metadata": {},
      "source": [
        "# Background\n",
        "\n",
        "This study focuses primarily on evaluatig the possibility of using solar and wind turbine energy. I began by calculating the renewable resources that would be available in each state. I used data from (**) to determine the average wind speed, temperature, and solar flux (direct normal irradiation **), available in each of the 36 Nigerian states. The aim was to identify which states had the greatest potential for producing renewable energy. After identifying these states, I calculated the amount of energy that could be generated from solar and wind farms in these locations, as well as the number of panels/turbines that would be needed, and the amount of space that would be taken up. I structured my calculations in such that I could evaluate how land used and items needed would change with different configurations. \n"
      ],
      "id": "369a3bee"
    },
    {
      "cell_type": "code",
      "metadata": {},
      "source": [
        "import numpy as np\n",
        "# import units as u\n",
        "import numpy as np\n",
        "import pandas as pd\n",
        "\n",
        "import rasterio\n",
        "from rasterio.plot import show_hist, show\n",
        "import geopandas as gpd\n",
        "import rasterstats\n",
        "from shapely.geometry import shape\n",
        "\n",
        "import plotly.graph_objects as go\n",
        "from plotly.subplots import make_subplots\n",
        "from matplotlib import pyplot as plt"
      ],
      "id": "8d816cc8",
      "execution_count": null,
      "outputs": []
    },
    {
      "cell_type": "markdown",
      "metadata": {},
      "source": [
        "## Calculate Current Energy Demand \n",
        "TODO: use data from sources \n",
        "\n",
        "\n",
        "\n",
        "## Calculate Available Renewable Resource \n",
        "\n",
        "Using satellite data from .., I am able to see the renewable resouce availability at relatively high resolutions of about 250 m2. In theory, this allows me to pinpoint the exact locations where solar and wind turbines might be located. However, given the high amounts of data, and the discrpancy in labelling between the inputs this would be computationally intesnive, and is left for another study. Instead, I use the state administrative boundaries as a unifying region with which to evaluate all the data I am bringing in. In particular, I use:\n",
        "    - Wind Speed (m/s): Used to to calculate the power in the wind that is available to wind turbines \n",
        "    - Wind Speed at Surface (TODO)\n",
        "    - Temperature (ºC): Average temperatures the panels will be exposed to \n",
        "    - Solar Flux: Available energy for solar panels * should do this with global horizantal? \n"
      ],
      "id": "f21e0cc7"
    },
    {
      "cell_type": "code",
      "metadata": {},
      "source": [
        "# TODO: 2x4 subplots for resources in each states (wind, surface_wind, flux, temperature, )\n"
      ],
      "id": "9991c3f4",
      "execution_count": null,
      "outputs": []
    },
    {
      "cell_type": "markdown",
      "metadata": {},
      "source": [
        "<!-- TODO: commentary on how different the data is, and how much of a simpliciation are making  => maybe even plot distributions of the data... for states vs raw data => if means are lower, we are underestimating the available power... -->\n",
        "\n",
        "\n",
        "# Calculate Solar Contribution \n",
        "\n",
        "To calculate the contribution from solar panels, I calculated the cell temperature, T_c, that each solar panel in a given state would be exposed to using @eq-5.7 from the textbook (TOOD all refernced equation numbers in text...). \n",
        "$$ \n",
        "C_{temp} = 1 - b_{ref} * \\max\\{ \\min \\{T_c - T_{ref}, T_{th} \\}, 0 \\} \n",
        "$$ {#5.7}\n",
        "\n",
        "\n",
        "I then computed C_temp, the correction for the cell temperature `Eq. 5.8`, using a temperature coefficient of b_ref = 0.00... The AC power, P_ac, from each cell was given by `Eq 5.7`.  I used a standard derating factor, solar panel efficiency, and area (TODO: make table). All of these calculations were carried out in the `calculate_power_panel()` function, which, by passing in the solar flux, ambient temperature and wind speed values averaged over the area of each state, enabled me to calculate the average AC power output of a single panel in each state.\n",
        "\n",
        "In another function, `calc_num_panels()`, I calculated the potential power output of solar panels. This function takes in `p_land`, or percentage of land, and `num_states` or number of states as inputs. I determine which states have the highest average power ouput for a single solar panel, and I decide to place panels in these states, up to `num_states`. Within each state, I calculate the percentage of land that will be available for solar panels using `p_land`. I then use the area of the input panels to determine how many panels can be placed in this available area. I multiply the resulting number of panels by the potential power output of a single panel in the state to get the average power ouput. To get the average total energy, I multiply the power by 8760 hours in a year. \n",
        "\n",
        "quarto preview final_project/_energy_use.qmd --to html --no-browser --no-watch-inputs"
      ],
      "id": "c2e999e9"
    }
  ],
  "metadata": {
    "kernelspec": {
      "name": "python3910jvsc74a57bd02e1112880b8b77c737d87a21cd97a438f2a350819192e38379716d1f1fc02bad",
      "language": "python",
      "display_name": "Python 3.9.10 ('env261': venv)"
    }
  },
  "nbformat": 4,
  "nbformat_minor": 5
}