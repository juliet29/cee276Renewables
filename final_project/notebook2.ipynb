{
 "cells": [
  {
   "cell_type": "code",
   "execution_count": 24,
   "metadata": {},
   "outputs": [],
   "source": [
    "import numpy as np\n",
    "# import units as u\n",
    "import numpy as np\n",
    "import pandas as pd\n",
    "\n",
    "import rasterio\n",
    "from rasterio.plot import show_hist, show\n",
    "import geopandas as gpd\n",
    "import rasterstats\n",
    "from shapely.geometry import shape\n",
    "\n",
    "import plotly.graph_objects as go\n",
    "from plotly.subplots import make_subplots\n",
    "from matplotlib import pyplot as plt\n",
    "\n",
    "from icecream import ic"
   ]
  },
  {
   "cell_type": "code",
   "execution_count": null,
   "metadata": {},
   "outputs": [],
   "source": [
    "def print_nice(float):\n",
    "    return print(f\"{float:,.0f}\")"
   ]
  },
  {
   "attachments": {},
   "cell_type": "markdown",
   "metadata": {},
   "source": [
    "## calculate areas of states\n",
    "- will take the average of everything on a state by state basis"
   ]
  },
  {
   "cell_type": "code",
   "execution_count": 2,
   "metadata": {},
   "outputs": [],
   "source": [
    "# shape file definining administrative borders \n",
    "states_path = \"data/states/nga_admbnda_adm1_osgof_20161215.shp\"\n",
    "states = gpd.read_file(states_path)"
   ]
  },
  {
   "cell_type": "code",
   "execution_count": 25,
   "metadata": {},
   "outputs": [
    {
     "data": {
      "text/html": [
       "<div>\n",
       "<style scoped>\n",
       "    .dataframe tbody tr th:only-of-type {\n",
       "        vertical-align: middle;\n",
       "    }\n",
       "\n",
       "    .dataframe tbody tr th {\n",
       "        vertical-align: top;\n",
       "    }\n",
       "\n",
       "    .dataframe thead th {\n",
       "        text-align: right;\n",
       "    }\n",
       "</style>\n",
       "<table border=\"1\" class=\"dataframe\">\n",
       "  <thead>\n",
       "    <tr style=\"text-align: right;\">\n",
       "      <th></th>\n",
       "      <th>state</th>\n",
       "      <th>area (m2)</th>\n",
       "    </tr>\n",
       "  </thead>\n",
       "  <tbody>\n",
       "    <tr>\n",
       "      <th>0</th>\n",
       "      <td>Abia</td>\n",
       "      <td>4.858882e+09</td>\n",
       "    </tr>\n",
       "    <tr>\n",
       "      <th>1</th>\n",
       "      <td>Adamawa</td>\n",
       "      <td>3.792499e+10</td>\n",
       "    </tr>\n",
       "    <tr>\n",
       "      <th>2</th>\n",
       "      <td>Akwa Ibom</td>\n",
       "      <td>6.736774e+09</td>\n",
       "    </tr>\n",
       "    <tr>\n",
       "      <th>3</th>\n",
       "      <td>Anambra</td>\n",
       "      <td>4.807933e+09</td>\n",
       "    </tr>\n",
       "    <tr>\n",
       "      <th>4</th>\n",
       "      <td>Bauchi</td>\n",
       "      <td>4.849640e+10</td>\n",
       "    </tr>\n",
       "  </tbody>\n",
       "</table>\n",
       "</div>"
      ],
      "text/plain": [
       "       state     area (m2)\n",
       "0       Abia  4.858882e+09\n",
       "1    Adamawa  3.792499e+10\n",
       "2  Akwa Ibom  6.736774e+09\n",
       "3    Anambra  4.807933e+09\n",
       "4     Bauchi  4.849640e+10"
      ]
     },
     "execution_count": 25,
     "metadata": {},
     "output_type": "execute_result"
    }
   ],
   "source": [
    "states_m = states.to_crs('epsg:32632')\n",
    "state_areas = pd.DataFrame(states_m.apply(lambda x: (x.admin1Name, shape(x[\"geometry\"]).area ), axis=1).to_list(), columns=[\"state\", \"area (m2)\"])\n",
    "state_areas.head()\n",
    "\n",
    "# TODO => save this in csv or pickle file..\n",
    "\n",
    "# state_areas[\"area (m2)\"].sum()/ 1e6 # ~ 923,768 km2"
   ]
  },
  {
   "attachments": {},
   "cell_type": "markdown",
   "metadata": {},
   "source": [
    "## calculate renewable resource "
   ]
  },
  {
   "cell_type": "code",
   "execution_count": 6,
   "metadata": {},
   "outputs": [],
   "source": [
    "# raster data sources => wind, temperature, solar flux \n",
    "\n",
    "data_paths = {\n",
    "    \"wind_speed\": \"data/Nigeria_MeanWindSpeed/NGA_wind-speed_100m.tif\",\n",
    "    \"temperature\": \"data/Nigeria_AvgDailyTotals_GlobalSolarAtlas_GEOTIFF/TEMP.tif\",\n",
    "    \"solar_flux\": \"data/Nigeria_AvgDailyTotals_GlobalSolarAtlas_GEOTIFF/DNI.tif\",\n",
    "}"
   ]
  },
  {
   "cell_type": "code",
   "execution_count": 8,
   "metadata": {},
   "outputs": [],
   "source": [
    "def get_state_means(data_path, states=states):\n",
    "    # read raster files..\n",
    "    data = rasterio.open(data_path)\n",
    "    data_array = data.read()[0]\n",
    "    affine = data.transform\n",
    "\n",
    "    # calculate zonal statistics\n",
    "    averaged_data = rasterstats.zonal_stats(states, data_array, affine=affine, stats = [\"mean\"], geojson_out=True)\n",
    "\n",
    "    state_wind_average = []\n",
    "    for item in averaged_data:\n",
    "        state_wind_average.append((item[\"properties\"][\"admin1Name\"],\n",
    "        item[\"properties\"][\"mean\"]))\n",
    "\n",
    "    df = pd.DataFrame(state_wind_average, columns=[\"state\", \"value\"])\n",
    "    return df\n"
   ]
  },
  {
   "cell_type": "code",
   "execution_count": 11,
   "metadata": {},
   "outputs": [],
   "source": [
    "data_averages = {}\n",
    "for name, path in data_paths.items():\n",
    "    data_averages[name] = get_state_means(path, states=states)\n",
    "\n",
    "# TODO => save this in csv or pickle file..\n",
    "# TODO => need different wind speeds => need speeds at ground level for solar, and at 100 - 150 m for turbines "
   ]
  },
  {
   "cell_type": "code",
   "execution_count": 19,
   "metadata": {},
   "outputs": [],
   "source": [
    "avg_vals = {n: i[\"value\"] for n, i in data_averages.items()}"
   ]
  },
  {
   "attachments": {},
   "cell_type": "markdown",
   "metadata": {},
   "source": [
    "## calculate solar resource"
   ]
  },
  {
   "cell_type": "code",
   "execution_count": 13,
   "metadata": {},
   "outputs": [],
   "source": [
    "def calculate_power_panel(F_cur, T_a, w):\n",
    "    \"\"\"\n",
    "    F_cur = _ # W/m^2 current solar flux normal to the panel \n",
    "    T_a = _ # K / ºC, air temperature the panel is exposed to \n",
    "    w = _ # m/s, wind speed panel is exposed to \n",
    "    => all of these are arrays \n",
    "\n",
    "    return power potential of a single panel in the area defined by the characteristics above\n",
    "    \n",
    "    \"\"\"\n",
    "\n",
    "    # values that change based on design! \n",
    "    D_f = 0.864 # derating factor, product of correction factors for additional processes affecting solar output, Table 5.2 \n",
    "    E_panel = 0.18 # solar panel efficiency obtained under standard test conditions -- Ex 5.2\n",
    "    A_panel = 1.5 # m^2, surface area of the pane -- Ex 5.2\n",
    "    \n",
    "    # 5.9, cell temperature, empirical so units do not eqate \n",
    "    T_c = T_a + 0.32 * (F_cur/(8.91 + 2*w))\n",
    "\n",
    "    b_ref = 0.0025 # / K, temperature coefficient \n",
    "    T_th = 55 # K, threshold temeprature \n",
    "    T_ref = 298.15 # K, reference temperature \n",
    "    # 5.8, correction for cell temperature \n",
    "    C_temp = 1 - b_ref * np.maximum( np.minimum(T_c - T_ref, T_th ), 0 )\n",
    "\n",
    "    # 5.7 actual AC power output from a solar panel at a given time \n",
    "    # P_ac = p_mpp_stc * C_temp * D_f / F_1000 # W based on panel rating\n",
    "    P_ac = F_cur * A_panel * E_panel * C_temp * D_f # W, based on real conditions \n",
    "\n",
    "    return P_ac\n",
    "\n",
    "\n",
    "def calc_power_potential(A_spacing, single_panel_potential):\n",
    "    \"\"\"\n",
    "    given the area of a state, and the power potential of a panel in that state, calculate the power potential of the state if the entire area of the state is covered in solar panels \n",
    "    \"\"\"\n",
    "    A_panel = 1.5 # m2\n",
    "    n_panels = A_spacing / A_panel \n",
    "    farm_potential = np.multiply(single_panel_potential,n_panels)\n",
    "    return farm_potential\n",
    "\n",
    "    \n",
    "\n",
    "def calc_num_panels(p_land, num_states, state_energy, state_areas):\n",
    "    # calc energy available if use x percent land of top y most producing states \n",
    "    state_energy_sort = state_energy.sort_values(ascending=False)\n",
    "    state_energy_lim = state_energy_sort[0:num_states]\n",
    "\n",
    "    total_energy = state_energy_lim.apply(lambda x: x*p_land).sum()\n",
    "\n",
    "    # calc amount of land used to produce this energy \n",
    "    land_used = state_areas.iloc[state_energy_lim.index][\"area (m2)\"].apply(lambda x: x*p_land).sum()\n",
    "\n",
    "    # calc number of solar panels on this land, assuming standard panels \n",
    "    A_panel = 1.5 # m2\n",
    "    n_panels = land_used/A_panel \n",
    "\n",
    "    return {\n",
    "        \"total_energy (mwh)\": total_energy,\n",
    "        \"land_used (m2)\": land_used,\n",
    "        \"n_panels\": n_panels\n",
    "    }\n"
   ]
  },
  {
   "cell_type": "code",
   "execution_count": 28,
   "metadata": {},
   "outputs": [],
   "source": [
    "power_potential_panel  = calculate_power_panel(F_cur=avg_vals[\"solar_flux\"], T_a=avg_vals[\"temperature\"], w=avg_vals[\"wind_speed\"])"
   ]
  },
  {
   "cell_type": "code",
   "execution_count": 37,
   "metadata": {},
   "outputs": [],
   "source": [
    "# determine the areas of each state, and determine the power potential if covered with identical arrays of solar panels..\n",
    "\n",
    "power_potential_panel_farm = calc_power_potential(A_spacing=state_areas[\"area (m2)\"], single_panel_potential=power_potential_panel) # W "
   ]
  },
  {
   "cell_type": "code",
   "execution_count": 41,
   "metadata": {},
   "outputs": [],
   "source": [
    "pd.set_option('display.float_format', lambda x: f'{x:,.0f}')"
   ]
  },
  {
   "cell_type": "code",
   "execution_count": 105,
   "metadata": {},
   "outputs": [],
   "source": [
    "# convert power potentials to energy for a year \n",
    "w_to_mw = 1/1e6\n",
    "w_to_kw = 1/1e3\n",
    "hours_per_year = 8760.0\n",
    "mw_to_mwh = hours_per_year"
   ]
  },
  {
   "cell_type": "code",
   "execution_count": 75,
   "metadata": {},
   "outputs": [
    {
     "data": {
      "text/plain": [
       "0    14,664,504\n",
       "1   216,181,365\n",
       "dtype: float64"
      ]
     },
     "execution_count": 75,
     "metadata": {},
     "output_type": "execute_result"
    }
   ],
   "source": [
    "# convert power potentials to energy for a year \n",
    "power_potential_panel_farm_mwh = power_potential_panel_farm*w_to_mw*mw_to_mwh  # MW \n",
    "p3f = power_potential_panel_farm_mwh"
   ]
  },
  {
   "cell_type": "code",
   "execution_count": 76,
   "metadata": {},
   "outputs": [
    {
     "name": "stdout",
     "output_type": "stream",
     "text": [
      "31,857,895\n",
      "5,931,308,441\n",
      "3,954,205,627\n"
     ]
    },
    {
     "data": {
      "text/plain": [
       "{'total_energy (mwh)': None, 'land_used (m2)': None, 'n_panels': None}"
      ]
     },
     "execution_count": 76,
     "metadata": {},
     "output_type": "execute_result"
    }
   ],
   "source": [
    "test_1 = calc_num_panels(p_land=0.02, num_states=5, state_energy=p3f, state_areas=state_areas)\n",
    "\n",
    "{k: print_nice(v) for k,v in test_1.items() }\n",
    "\n",
    "# some consideration of the maximum power point is needed!"
   ]
  },
  {
   "attachments": {},
   "cell_type": "markdown",
   "metadata": {},
   "source": [
    "## calculate wind resource "
   ]
  },
  {
   "cell_type": "code",
   "execution_count": 166,
   "metadata": {},
   "outputs": [],
   "source": [
    "def calculate_power_potential_turbine(V_m):\n",
    "    \"\"\"\n",
    "    V_m : mean wind speed # m/s # mean wind speed, will get this from a data source for different areas.\n",
    "    \"\"\"\n",
    "\n",
    "    ## --- atmosphereic values # TODO get real values \n",
    "    rho = 1.23 # kg/m^3 # air density, should be a function of turbine height \n",
    "\n",
    "    ## ---  turbine details #TODO find realistic value \n",
    "    # source: https://www.energy.gov/eere/articles/wind-turbines-bigger-better\n",
    "    D_t = 127 # m \n",
    "\n",
    "\n",
    "    # 6.7, the swept area of a wind turbine \n",
    "    A_t = np.pi * D_t**2 / 4\n",
    "\n",
    "    # 6.11, assuming a Rayleigh distribution of wind speeds, the mean power available in the wind is P_m \n",
    "    # P_m = 1/2 * rho * A_t * np.sum(f(v) * v**3 )\n",
    "    P_m = (6/np.pi) * (0.5) * rho * A_t * V_m**3 # W\n",
    "\n",
    "    # choose turbines that are rated higher than the power available in the wind \n",
    "    # has to be in kilowatts for generalized capacity factor equation \n",
    "    P_r = np.ceil(P_m/ 500) * 500\n",
    "    \n",
    "\n",
    "    # 6.28, generalized capacity factor equation \n",
    "    CF = 0.087 * V_m - ((P_r * w_to_kw)/(D_t**2))\n",
    "\n",
    "    # 6.24, gross annual energy output and power output \n",
    "    H = 8760 # non leap year hours in  a day \n",
    "    P_t = P_r * CF \n",
    "    E_t = P_t * H \n",
    "\n",
    "    # account for losses \n",
    "    L_td = 16.1 # tranmission and distribution loss, Table 6.3\n",
    "    L_d = 1.6 # downtime losses, Section 6.6.6.2 ~ Faultstich et al 2011 \n",
    "    L_c = 0 # curtailment losses, assume storage is available \n",
    "    L_a = 0.2 # array losses, # Figure 6.25b, Jacobson and Archer TODO model array losses as function of density... \n",
    "    pL_td = 1 - L_td/100 \n",
    "    pL_d = 1 - L_td/100 \n",
    "    pL_c = 1 - L_c/100\n",
    "    pL_a = 1 - L_a/100 \n",
    "    L_t = (1 - (pL_td * pL_d * pL_c * pL_a )) # compound losses \n",
    "\n",
    "    P_t_after_losses = P_t * (1 - L_t)\n",
    "\n",
    "\n",
    "    return P_m, P_t, CF, P_t_after_losses, P_r\n",
    "\n",
    "def calc_wind_power_potential(A_spacing,  power_potential_turbine):\n",
    "    \"\"\"\n",
    "    given the area of a state, and the power potential of a panel in that state, calculate the power potential of the state if the entire area of the state is covered in wind turbines, at a comprable density  \n",
    "    \"\"\"\n",
    "    rho_i_compare = 6.64 # W/m2 Table 6.4, mean output power density of onshore europe turbines # TODO see Enevoldsen and Jacobson 2020 to see how array losses compared with density for L_a above \n",
    "    n =  (rho_i_compare/ power_potential_turbine) * A_spacing \n",
    "    P_t_farm = n * power_potential_turbine\n",
    "\n",
    "    # TODO can honestly skip this step, given that it will just be a constant function of the output from the previous function, redo solar in this way ...\n",
    "\n",
    "    return P_t_farm\n",
    "\n",
    "def calc_num_turbines(p_land, num_states, state_areas, P_t_after_losses, P_r):\n",
    "\n",
    "    # want to use land in states that are most productive\n",
    "    state_energy_sort = P_t_after_losses.sort_values(ascending=False)\n",
    "    state_energy_lim = state_energy_sort[0:num_states]\n",
    "\n",
    "    # land available to use is a percent of the total land in the state \n",
    "    land_avail = state_areas.iloc[state_energy_lim.index][\"area (m2)\"].apply(lambda x: x*p_land)\n",
    "\n",
    "    # determine the number of turbines that can fit on land using rated power \n",
    "    installed_power_density = 19.8 # mw/km2 => w/m2, # W/m2 Table 6.4, mean output power density of onshore europe turbines\n",
    "\n",
    "    n_turbines = np.round(installed_power_density / P_r * land_avail )\n",
    "\n",
    "    installed_power = n_turbines * P_r \n",
    "\n",
    "    true_power = n_turbines * P_t_after_losses\n",
    "\n",
    "    total_energy = true_power.sum()*w_to_mw*mw_to_mwh\n",
    "\n",
    "\n",
    "    return {\n",
    "        \"n_turbines\": n_turbines.dropna(),\n",
    "        \"installed_power\": installed_power.dropna(),\n",
    "        \"true_power\": true_power.dropna(),\n",
    "        \"capacity_factors\": true_power.dropna()/installed_power.dropna(),\n",
    "        \"total_energy (mwh)\": total_energy,\n",
    "        \n",
    "    }\n",
    "# mw_to_w = 1e6 \n",
    "# km2_to_m2 = 1e6 "
   ]
  },
  {
   "cell_type": "code",
   "execution_count": 153,
   "metadata": {},
   "outputs": [],
   "source": [
    "P_m, P_t, CF, P_t_after_losses, P_r   = calculate_power_potential_turbine(V_m=avg_vals[\"wind_speed\"])"
   ]
  },
  {
   "cell_type": "code",
   "execution_count": 160,
   "metadata": {},
   "outputs": [
    {
     "data": {
      "text/plain": [
       "7    9,667.000\n",
       "20   2,392.000\n",
       "33   3,426.000\n",
       "35   4,970.000\n",
       "36   3,587.000\n",
       "dtype: float64"
      ]
     },
     "execution_count": 160,
     "metadata": {},
     "output_type": "execute_result"
    }
   ],
   "source": [
    "test_1[\"n_turbines\"].dropna()"
   ]
  },
  {
   "cell_type": "code",
   "execution_count": 170,
   "metadata": {},
   "outputs": [
    {
     "name": "stdout",
     "output_type": "stream",
     "text": [
      "43,276,424\n"
     ]
    },
    {
     "data": {
      "text/plain": [
       "{'n_turbines': 20   2,392.000\n",
       " 33   3,426.000\n",
       " dtype: float64,\n",
       " 'installed_power': 20    9,485,476,000.000\n",
       " 33   12,775,554,000.000\n",
       " dtype: float64,\n",
       " 'true_power': 20   2,092,473,485.803\n",
       " 33   2,847,757,612.994\n",
       " dtype: float64,\n",
       " 'capacity_factors': 20   0.221\n",
       " 33   0.223\n",
       " dtype: float64,\n",
       " 'total_energy': 43276424.42545776}"
      ]
     },
     "execution_count": 170,
     "metadata": {},
     "output_type": "execute_result"
    }
   ],
   "source": [
    "test_1 = calc_num_turbines(p_land=0.02, num_states=2, state_areas=state_areas, P_t_after_losses=P_t_after_losses, P_r=P_r)\n",
    "print_nice(test_1[\"total_energy\"])\n",
    "test_1\n"
   ]
  },
  {
   "cell_type": "code",
   "execution_count": 168,
   "metadata": {},
   "outputs": [
    {
     "name": "stdout",
     "output_type": "stream",
     "text": [
      "161,456,597\n"
     ]
    }
   ],
   "source": []
  },
  {
   "cell_type": "code",
   "execution_count": 138,
   "metadata": {},
   "outputs": [],
   "source": [
    "state_wind_power = calc_wind_power_potential(state_areas[\"area (m2)\"], power_potential_turbine_after_losses)"
   ]
  },
  {
   "cell_type": "code",
   "execution_count": 146,
   "metadata": {},
   "outputs": [],
   "source": [
    "state_wind_energy = state_wind_power*w_to_mw*mw_to_mwh"
   ]
  },
  {
   "cell_type": "code",
   "execution_count": 150,
   "metadata": {},
   "outputs": [
    {
     "data": {
      "text/plain": [
       "{'total_energy (mwh)': 7    260,300,192.807\n",
       " 26   259,110,478.965\n",
       " 34   210,328,522.140\n",
       " 4    174,179,672.081\n",
       " 35   161,225,503.826\n",
       " dtype: float64,\n",
       " 'land_used (m2)': 7    1,449,494,335.710\n",
       " 26   1,442,869,356.080\n",
       " 34   1,171,224,647.174\n",
       " 4      969,928,010.251\n",
       " 35     897,792,091.693\n",
       " Name: area (m2), dtype: float64,\n",
       " 'n_turbines': 7    0.009\n",
       " 26   0.009\n",
       " 34   0.009\n",
       " 4    0.009\n",
       " 35   0.009\n",
       " dtype: float64,\n",
       " 'energy_density': 7    0.180\n",
       " 26   0.180\n",
       " 34   0.180\n",
       " 4    0.180\n",
       " 35   0.180\n",
       " dtype: float64}"
      ]
     },
     "execution_count": 150,
     "metadata": {},
     "output_type": "execute_result"
    }
   ],
   "source": [
    "\n",
    "\n",
    "# {k: print_nice(v) for k,v in test_1.items() }"
   ]
  },
  {
   "cell_type": "code",
   "execution_count": 136,
   "metadata": {},
   "outputs": [
    {
     "data": {
      "text/plain": [
       "0       99,607.088\n",
       "1      777,462.248\n",
       "2      138,103.871\n",
       "3       98,562.634\n",
       "4      994,176.211\n",
       "5      195,701.120\n",
       "6      644,975.684\n",
       "7    1,485,731.694\n",
       "8      429,268.661\n",
       "9      350,816.421\n",
       "10     129,897.866\n",
       "11     400,888.814\n",
       "12     118,351.334\n",
       "13     156,532.344\n",
       "14     151,456.974\n",
       "15     357,478.944\n",
       "16     104,046.954\n",
       "17     475,631.782\n",
       "18     905,009.791\n",
       "19     416,363.247\n",
       "20     491,137.434\n",
       "21     754,154.429\n",
       "22     592,980.520\n",
       "23     693,687.547\n",
       "24      75,879.675\n",
       "25     548,385.221\n",
       "26   1,478,941.090\n",
       "27     344,618.811\n",
       "28     310,210.119\n",
       "29     177,208.112\n",
       "30     570,409.097\n",
       "31     543,040.548\n",
       "32     208,870.479\n",
       "33     661,280.601\n",
       "34   1,200,505.263\n",
       "35     920,236.894\n",
       "36     688,020.163\n",
       "dtype: float64"
      ]
     },
     "execution_count": 136,
     "metadata": {},
     "output_type": "execute_result"
    }
   ],
   "source": [
    "state_wind_power*w_to_mw #*mw_to_mwh "
   ]
  },
  {
   "cell_type": "code",
   "execution_count": 127,
   "metadata": {},
   "outputs": [
    {
     "data": {
      "text/plain": [
       "0    225,153.117\n",
       "1    345,190.888\n",
       "2    156,049.028\n",
       "3    174,251.982\n",
       "4    404,306.157\n",
       "5    146,561.442\n",
       "6    373,315.902\n",
       "7    676,432.877\n",
       "8    158,920.752\n",
       "9    202,354.380\n",
       "10   275,316.906\n",
       "11   222,053.465\n",
       "12   338,978.063\n",
       "13   193,968.698\n",
       "14   130,647.527\n",
       "15   653,062.349\n",
       "16   169,316.693\n",
       "17   580,484.060\n",
       "18   581,666.294\n",
       "19   557,154.800\n",
       "20   874,779.885\n",
       "21   515,182.595\n",
       "22   181,358.715\n",
       "23   328,146.122\n",
       "24   235,251.607\n",
       "25   150,350.856\n",
       "26   265,422.917\n",
       "27   227,086.532\n",
       "28   180,006.853\n",
       "29   185,686.183\n",
       "30   310,362.538\n",
       "31   646,740.490\n",
       "32   146,948.323\n",
       "33   831,219.385\n",
       "34   215,945.116\n",
       "35   802,047.977\n",
       "36   826,772.300\n",
       "Name: value, dtype: float64"
      ]
     },
     "execution_count": 127,
     "metadata": {},
     "output_type": "execute_result"
    }
   ],
   "source": [
    "power_potential_turbine_after_losses"
   ]
  },
  {
   "cell_type": "code",
   "execution_count": 118,
   "metadata": {},
   "outputs": [
    {
     "data": {
      "text/plain": [
       "0    0.296\n",
       "1    0.314\n",
       "2    0.279\n",
       "3    0.284\n",
       "4    0.319\n",
       "5    0.275\n",
       "6    0.316\n",
       "7    0.324\n",
       "8    0.279\n",
       "9    0.291\n",
       "10   0.305\n",
       "11   0.295\n",
       "12   0.313\n",
       "13   0.289\n",
       "14   0.270\n",
       "15   0.325\n",
       "16   0.283\n",
       "17   0.325\n",
       "18   0.325\n",
       "19   0.325\n",
       "20   0.314\n",
       "21   0.324\n",
       "22   0.286\n",
       "23   0.312\n",
       "24   0.298\n",
       "25   0.277\n",
       "26   0.303\n",
       "27   0.296\n",
       "28   0.285\n",
       "29   0.287\n",
       "30   0.310\n",
       "31   0.325\n",
       "32   0.276\n",
       "33   0.317\n",
       "34   0.294\n",
       "35   0.319\n",
       "36   0.318\n",
       "Name: value, dtype: float64"
      ]
     },
     "execution_count": 118,
     "metadata": {},
     "output_type": "execute_result"
    }
   ],
   "source": [
    "pd.set_option('display.float_format', lambda x: f'{x:,.3f}')\n",
    "CF # all < 0.45  # C_p = 0.45 # section 6.6.5\n"
   ]
  },
  {
   "cell_type": "code",
   "execution_count": 112,
   "metadata": {},
   "outputs": [
    {
     "data": {
      "text/plain": [
       "0    1,082,438\n",
       "1    1,566,351\n",
       "2      797,166\n",
       "3      873,425\n",
       "4    1,805,229\n",
       "5      757,021\n",
       "6    1,679,660\n",
       "7    2,968,946\n",
       "8      809,367\n",
       "9      989,249\n",
       "10   1,285,069\n",
       "11   1,069,616\n",
       "12   1,541,320\n",
       "13     954,945\n",
       "14     689,343\n",
       "15   2,862,350\n",
       "16     852,801\n",
       "17   2,541,172\n",
       "18   2,546,427\n",
       "19   2,440,664\n",
       "20   3,965,391\n",
       "21   2,262,514\n",
       "22     902,850\n",
       "23   1,497,602\n",
       "24   1,123,469\n",
       "25     773,116\n",
       "26   1,245,417\n",
       "27   1,090,036\n",
       "28     897,054\n",
       "29     920,528\n",
       "30   1,426,061\n",
       "31   2,833,781\n",
       "32     758,955\n",
       "33   3,728,551\n",
       "34   1,044,940\n",
       "35   3,576,701\n",
       "36   3,705,086\n",
       "Name: value, dtype: float64"
      ]
     },
     "execution_count": 112,
     "metadata": {},
     "output_type": "execute_result"
    }
   ],
   "source": [
    "power_in_wind"
   ]
  },
  {
   "cell_type": "code",
   "execution_count": 113,
   "metadata": {},
   "outputs": [
    {
     "data": {
      "text/plain": [
       "0      320,497\n",
       "1      491,366\n",
       "2      222,130\n",
       "3      248,041\n",
       "4      575,514\n",
       "5      208,624\n",
       "6      531,401\n",
       "7      962,876\n",
       "8      226,217\n",
       "9      288,044\n",
       "10     391,903\n",
       "11     316,084\n",
       "12     482,522\n",
       "13     276,107\n",
       "14     185,972\n",
       "15     929,609\n",
       "16     241,016\n",
       "17     826,296\n",
       "18     827,979\n",
       "19     793,088\n",
       "20   1,245,215\n",
       "21     733,342\n",
       "22     258,157\n",
       "23     467,103\n",
       "24     334,871\n",
       "25     214,019\n",
       "26     377,819\n",
       "27     323,249\n",
       "28     256,233\n",
       "29     264,317\n",
       "30     441,789\n",
       "31     920,610\n",
       "32     209,175\n",
       "33   1,183,208\n",
       "34     307,389\n",
       "35   1,141,684\n",
       "36   1,176,878\n",
       "Name: value, dtype: float64"
      ]
     },
     "execution_count": 113,
     "metadata": {},
     "output_type": "execute_result"
    }
   ],
   "source": [
    "power_potential_turbine"
   ]
  },
  {
   "cell_type": "code",
   "execution_count": 90,
   "metadata": {},
   "outputs": [
    {
     "data": {
      "text/plain": [
       "192.0"
      ]
     },
     "execution_count": 90,
     "metadata": {},
     "output_type": "execute_result"
    }
   ],
   "source": [
    "np.ceil(192)"
   ]
  },
  {
   "cell_type": "code",
   "execution_count": 91,
   "metadata": {},
   "outputs": [
    {
     "data": {
      "text/plain": [
       "0    1,500\n",
       "1    2,000\n",
       "2    1,000\n",
       "3    1,000\n",
       "4    2,000\n",
       "5    1,000\n",
       "6    2,000\n",
       "7    3,000\n",
       "8    1,000\n",
       "9    1,000\n",
       "10   1,500\n",
       "11   1,500\n",
       "12   2,000\n",
       "13   1,000\n",
       "14   1,000\n",
       "15   3,000\n",
       "16   1,000\n",
       "17   3,000\n",
       "18   3,000\n",
       "19   2,500\n",
       "20   4,000\n",
       "21   2,500\n",
       "22   1,000\n",
       "23   1,500\n",
       "24   1,500\n",
       "25   1,000\n",
       "26   1,500\n",
       "27   1,500\n",
       "28   1,000\n",
       "29   1,000\n",
       "30   1,500\n",
       "31   3,000\n",
       "32   1,000\n",
       "33   4,000\n",
       "34   1,500\n",
       "35   4,000\n",
       "36   4,000\n",
       "Name: value, dtype: float64"
      ]
     },
     "execution_count": 91,
     "metadata": {},
     "output_type": "execute_result"
    }
   ],
   "source": [
    "np.ceil(power_potential_turbine * w_to_mw * 1000 / 500) * 500"
   ]
  }
 ],
 "metadata": {
  "kernelspec": {
   "display_name": "classenv",
   "language": "python",
   "name": "python3"
  },
  "language_info": {
   "codemirror_mode": {
    "name": "ipython",
    "version": 3
   },
   "file_extension": ".py",
   "mimetype": "text/x-python",
   "name": "python",
   "nbconvert_exporter": "python",
   "pygments_lexer": "ipython3",
   "version": "3.9.15"
  },
  "orig_nbformat": 4
 },
 "nbformat": 4,
 "nbformat_minor": 2
}
