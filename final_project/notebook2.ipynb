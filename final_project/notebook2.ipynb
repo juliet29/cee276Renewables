{
 "cells": [
  {
   "cell_type": "code",
   "execution_count": 24,
   "metadata": {},
   "outputs": [],
   "source": [
    "import numpy as np\n",
    "# import units as u\n",
    "import numpy as np\n",
    "import pandas as pd\n",
    "\n",
    "import rasterio\n",
    "from rasterio.plot import show_hist, show\n",
    "import geopandas as gpd\n",
    "import rasterstats\n",
    "from shapely.geometry import shape\n",
    "\n",
    "import plotly.graph_objects as go\n",
    "from plotly.subplots import make_subplots\n",
    "from matplotlib import pyplot as plt\n",
    "\n",
    "from icecream import ic"
   ]
  },
  {
   "cell_type": "code",
   "execution_count": 2,
   "metadata": {},
   "outputs": [],
   "source": [
    "# shape file definining administrative borders \n",
    "states_path = \"data/states/nga_admbnda_adm1_osgof_20161215.shp\"\n",
    "states = gpd.read_file(states_path)"
   ]
  },
  {
   "cell_type": "code",
   "execution_count": 25,
   "metadata": {},
   "outputs": [
    {
     "data": {
      "text/html": [
       "<div>\n",
       "<style scoped>\n",
       "    .dataframe tbody tr th:only-of-type {\n",
       "        vertical-align: middle;\n",
       "    }\n",
       "\n",
       "    .dataframe tbody tr th {\n",
       "        vertical-align: top;\n",
       "    }\n",
       "\n",
       "    .dataframe thead th {\n",
       "        text-align: right;\n",
       "    }\n",
       "</style>\n",
       "<table border=\"1\" class=\"dataframe\">\n",
       "  <thead>\n",
       "    <tr style=\"text-align: right;\">\n",
       "      <th></th>\n",
       "      <th>state</th>\n",
       "      <th>area (m2)</th>\n",
       "    </tr>\n",
       "  </thead>\n",
       "  <tbody>\n",
       "    <tr>\n",
       "      <th>0</th>\n",
       "      <td>Abia</td>\n",
       "      <td>4.858882e+09</td>\n",
       "    </tr>\n",
       "    <tr>\n",
       "      <th>1</th>\n",
       "      <td>Adamawa</td>\n",
       "      <td>3.792499e+10</td>\n",
       "    </tr>\n",
       "    <tr>\n",
       "      <th>2</th>\n",
       "      <td>Akwa Ibom</td>\n",
       "      <td>6.736774e+09</td>\n",
       "    </tr>\n",
       "    <tr>\n",
       "      <th>3</th>\n",
       "      <td>Anambra</td>\n",
       "      <td>4.807933e+09</td>\n",
       "    </tr>\n",
       "    <tr>\n",
       "      <th>4</th>\n",
       "      <td>Bauchi</td>\n",
       "      <td>4.849640e+10</td>\n",
       "    </tr>\n",
       "  </tbody>\n",
       "</table>\n",
       "</div>"
      ],
      "text/plain": [
       "       state     area (m2)\n",
       "0       Abia  4.858882e+09\n",
       "1    Adamawa  3.792499e+10\n",
       "2  Akwa Ibom  6.736774e+09\n",
       "3    Anambra  4.807933e+09\n",
       "4     Bauchi  4.849640e+10"
      ]
     },
     "execution_count": 25,
     "metadata": {},
     "output_type": "execute_result"
    }
   ],
   "source": [
    "states_m = states.to_crs('epsg:32632')\n",
    "state_areas = pd.DataFrame(states_m.apply(lambda x: (x.admin1Name, shape(x[\"geometry\"]).area ), axis=1).to_list(), columns=[\"state\", \"area (m2)\"])\n",
    "state_areas.head()\n",
    "\n",
    "# TODO => save this in csv or pickle file..\n",
    "\n",
    "# state_areas[\"area (m2)\"].sum()/ 1e6 # ~ 923,768 km2"
   ]
  },
  {
   "cell_type": "code",
   "execution_count": 6,
   "metadata": {},
   "outputs": [],
   "source": [
    "# raster data sources => wind, temperature, solar flux \n",
    "\n",
    "data_paths = {\n",
    "    \"wind_speed\": \"data/Nigeria_MeanWindSpeed/NGA_wind-speed_100m.tif\",\n",
    "    \"temperature\": \"data/Nigeria_AvgDailyTotals_GlobalSolarAtlas_GEOTIFF/TEMP.tif\",\n",
    "    \"solar_flux\": \"data/Nigeria_AvgDailyTotals_GlobalSolarAtlas_GEOTIFF/DNI.tif\",\n",
    "}"
   ]
  },
  {
   "cell_type": "code",
   "execution_count": 8,
   "metadata": {},
   "outputs": [],
   "source": [
    "def get_state_means(data_path, states=states):\n",
    "    # read raster files..\n",
    "    data = rasterio.open(data_path)\n",
    "    data_array = data.read()[0]\n",
    "    affine = data.transform\n",
    "\n",
    "    # calculate zonal statistics\n",
    "    averaged_data = rasterstats.zonal_stats(states, data_array, affine=affine, stats = [\"mean\"], geojson_out=True)\n",
    "\n",
    "    state_wind_average = []\n",
    "    for item in averaged_data:\n",
    "        state_wind_average.append((item[\"properties\"][\"admin1Name\"],\n",
    "        item[\"properties\"][\"mean\"]))\n",
    "\n",
    "    df = pd.DataFrame(state_wind_average, columns=[\"state\", \"value\"])\n",
    "    return df\n"
   ]
  },
  {
   "cell_type": "code",
   "execution_count": 11,
   "metadata": {},
   "outputs": [],
   "source": [
    "data_averages = {}\n",
    "for name, path in data_paths.items():\n",
    "    data_averages[name] = get_state_means(path, states=states)\n",
    "\n",
    "# TODO => save this in csv or pickle file.."
   ]
  },
  {
   "cell_type": "code",
   "execution_count": 19,
   "metadata": {},
   "outputs": [],
   "source": [
    "avg_vals = {n: i[\"value\"] for n, i in data_averages.items()}"
   ]
  },
  {
   "cell_type": "code",
   "execution_count": 13,
   "metadata": {},
   "outputs": [],
   "source": [
    "def calculate_power_panel(F_cur, T_a, w):\n",
    "    \"\"\"\n",
    "    F_cur = _ # W/m^2 current solar flux normal to the panel \n",
    "    T_a = _ # K / ºC, air temperature the panel is exposed to \n",
    "    w = _ # m/s, wind speed panel is exposed to \n",
    "    => all of these are arrays \n",
    "\n",
    "    return power potential of a single panel in the area defined by the characteristics above\n",
    "    \n",
    "    \"\"\"\n",
    "\n",
    "    # values that change based on design! \n",
    "    D_f = 0.864 # derating factor, product of correction factors for additional processes affecting solar output, Table 5.2 \n",
    "    E_panel = 0.18 # solar panel efficiency obtained under standard test conditions -- Ex 5.2\n",
    "    A_panel = 1.5 # m^2, surface area of the pane -- Ex 5.2\n",
    "    \n",
    "    # 5.9, cell temperature, empirical so units do not eqate \n",
    "    T_c = T_a + 0.32 * (F_cur/(8.91 + 2*w))\n",
    "\n",
    "    b_ref = 0.0025 # / K, temperature coefficient \n",
    "    T_th = 55 # K, threshold temeprature \n",
    "    T_ref = 298.15 # K, reference temperature \n",
    "    # 5.8, correction for cell temperature \n",
    "    C_temp = 1 - b_ref * np.maximum( np.minimum(T_c - T_ref, T_th ), 0 )\n",
    "\n",
    "    # 5.7 actual AC power output from a solar panel at a given time \n",
    "    # P_ac = p_mpp_stc * C_temp * D_f / F_1000\n",
    "    P_ac = F_cur * A_panel * E_panel * C_temp * D_f # units?? # should i be considering the rating of the panel as well? \n",
    "\n",
    "    return P_ac\n"
   ]
  },
  {
   "cell_type": "code",
   "execution_count": 28,
   "metadata": {},
   "outputs": [],
   "source": [
    "power_potential_panel  = calculate_power_panel(F_cur=avg_vals[\"solar_flux\"], T_a=avg_vals[\"temperature\"], w=avg_vals[\"wind_speed\"])"
   ]
  },
  {
   "cell_type": "code",
   "execution_count": null,
   "metadata": {},
   "outputs": [],
   "source": [
    "# determine the areas of each state, and determine the power potential if covered with identical arrays of solar panels.."
   ]
  },
  {
   "cell_type": "code",
   "execution_count": 36,
   "metadata": {},
   "outputs": [],
   "source": [
    "def calc_power_potential(A_spacing, single_panel_potential):\n",
    "    A_panel = 1.5 # m2\n",
    "    n_panels = A_spacing / A_panel \n",
    "    farm_potential = np.multiply(single_panel_potential,n_panels)\n",
    "    return farm_potential\n"
   ]
  },
  {
   "cell_type": "code",
   "execution_count": 30,
   "metadata": {},
   "outputs": [
    {
     "data": {
      "text/plain": [
       "array([1, 1])"
      ]
     },
     "execution_count": 30,
     "metadata": {},
     "output_type": "execute_result"
    }
   ],
   "source": [
    "np.multiply([1,1], [1,1])"
   ]
  },
  {
   "cell_type": "code",
   "execution_count": 37,
   "metadata": {},
   "outputs": [],
   "source": [
    "power_potential_panel_farm = calc_power_potential(A_spacing=state_areas[\"area (m2)\"], single_panel_potential=power_potential_panel)"
   ]
  },
  {
   "cell_type": "code",
   "execution_count": 38,
   "metadata": {},
   "outputs": [
    {
     "data": {
      "text/plain": [
       "0     1.674030e+09\n",
       "1     2.467824e+10\n",
       "2     2.150261e+09\n",
       "3     1.756312e+09\n",
       "4     3.202387e+10\n",
       "5     3.027399e+09\n",
       "6     1.403391e+10\n",
       "7     5.004597e+10\n",
       "8     7.738524e+09\n",
       "9     5.784258e+09\n",
       "10    2.450236e+09\n",
       "11    7.057417e+09\n",
       "12    2.351553e+09\n",
       "13    2.894707e+09\n",
       "14    3.430001e+09\n",
       "15    1.138463e+10\n",
       "16    1.754544e+09\n",
       "17    1.556858e+10\n",
       "18    2.612702e+10\n",
       "19    1.344372e+10\n",
       "20    1.620028e+10\n",
       "21    2.219001e+10\n",
       "22    1.234157e+10\n",
       "23    1.569353e+10\n",
       "24    1.373153e+09\n",
       "25    1.278543e+10\n",
       "26    3.663305e+10\n",
       "27    5.751923e+09\n",
       "28    5.402241e+09\n",
       "29    3.098395e+09\n",
       "30    1.088379e+10\n",
       "31    1.586237e+10\n",
       "32    3.316598e+09\n",
       "33    2.115899e+10\n",
       "34    3.225694e+10\n",
       "35    3.087748e+10\n",
       "36    2.132024e+10\n",
       "dtype: float64"
      ]
     },
     "execution_count": 38,
     "metadata": {},
     "output_type": "execute_result"
    }
   ],
   "source": [
    "power_potential_panel_farm "
   ]
  }
 ],
 "metadata": {
  "kernelspec": {
   "display_name": "classenv",
   "language": "python",
   "name": "python3"
  },
  "language_info": {
   "codemirror_mode": {
    "name": "ipython",
    "version": 3
   },
   "file_extension": ".py",
   "mimetype": "text/x-python",
   "name": "python",
   "nbconvert_exporter": "python",
   "pygments_lexer": "ipython3",
   "version": "3.9.15"
  },
  "orig_nbformat": 4
 },
 "nbformat": 4,
 "nbformat_minor": 2
}
