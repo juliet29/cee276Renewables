{
 "cells": [
  {
   "cell_type": "code",
   "execution_count": 24,
   "metadata": {},
   "outputs": [],
   "source": [
    "import numpy as np\n",
    "# import units as u\n",
    "import numpy as np\n",
    "import pandas as pd\n",
    "\n",
    "import rasterio\n",
    "from rasterio.plot import show_hist, show\n",
    "import geopandas as gpd\n",
    "import rasterstats\n",
    "from shapely.geometry import shape\n",
    "\n",
    "import plotly.graph_objects as go\n",
    "from plotly.subplots import make_subplots\n",
    "from matplotlib import pyplot as plt\n",
    "\n",
    "from icecream import ic"
   ]
  },
  {
   "cell_type": "code",
   "execution_count": 2,
   "metadata": {},
   "outputs": [],
   "source": [
    "# shape file definining administrative borders \n",
    "states_path = \"data/states/nga_admbnda_adm1_osgof_20161215.shp\"\n",
    "states = gpd.read_file(states_path)"
   ]
  },
  {
   "cell_type": "code",
   "execution_count": 25,
   "metadata": {},
   "outputs": [
    {
     "data": {
      "text/html": [
       "<div>\n",
       "<style scoped>\n",
       "    .dataframe tbody tr th:only-of-type {\n",
       "        vertical-align: middle;\n",
       "    }\n",
       "\n",
       "    .dataframe tbody tr th {\n",
       "        vertical-align: top;\n",
       "    }\n",
       "\n",
       "    .dataframe thead th {\n",
       "        text-align: right;\n",
       "    }\n",
       "</style>\n",
       "<table border=\"1\" class=\"dataframe\">\n",
       "  <thead>\n",
       "    <tr style=\"text-align: right;\">\n",
       "      <th></th>\n",
       "      <th>state</th>\n",
       "      <th>area (m2)</th>\n",
       "    </tr>\n",
       "  </thead>\n",
       "  <tbody>\n",
       "    <tr>\n",
       "      <th>0</th>\n",
       "      <td>Abia</td>\n",
       "      <td>4.858882e+09</td>\n",
       "    </tr>\n",
       "    <tr>\n",
       "      <th>1</th>\n",
       "      <td>Adamawa</td>\n",
       "      <td>3.792499e+10</td>\n",
       "    </tr>\n",
       "    <tr>\n",
       "      <th>2</th>\n",
       "      <td>Akwa Ibom</td>\n",
       "      <td>6.736774e+09</td>\n",
       "    </tr>\n",
       "    <tr>\n",
       "      <th>3</th>\n",
       "      <td>Anambra</td>\n",
       "      <td>4.807933e+09</td>\n",
       "    </tr>\n",
       "    <tr>\n",
       "      <th>4</th>\n",
       "      <td>Bauchi</td>\n",
       "      <td>4.849640e+10</td>\n",
       "    </tr>\n",
       "  </tbody>\n",
       "</table>\n",
       "</div>"
      ],
      "text/plain": [
       "       state     area (m2)\n",
       "0       Abia  4.858882e+09\n",
       "1    Adamawa  3.792499e+10\n",
       "2  Akwa Ibom  6.736774e+09\n",
       "3    Anambra  4.807933e+09\n",
       "4     Bauchi  4.849640e+10"
      ]
     },
     "execution_count": 25,
     "metadata": {},
     "output_type": "execute_result"
    }
   ],
   "source": [
    "states_m = states.to_crs('epsg:32632')\n",
    "state_areas = pd.DataFrame(states_m.apply(lambda x: (x.admin1Name, shape(x[\"geometry\"]).area ), axis=1).to_list(), columns=[\"state\", \"area (m2)\"])\n",
    "state_areas.head()\n",
    "\n",
    "# TODO => save this in csv or pickle file..\n",
    "\n",
    "# state_areas[\"area (m2)\"].sum()/ 1e6 # ~ 923,768 km2"
   ]
  },
  {
   "cell_type": "code",
   "execution_count": 6,
   "metadata": {},
   "outputs": [],
   "source": [
    "# raster data sources => wind, temperature, solar flux \n",
    "\n",
    "data_paths = {\n",
    "    \"wind_speed\": \"data/Nigeria_MeanWindSpeed/NGA_wind-speed_100m.tif\",\n",
    "    \"temperature\": \"data/Nigeria_AvgDailyTotals_GlobalSolarAtlas_GEOTIFF/TEMP.tif\",\n",
    "    \"solar_flux\": \"data/Nigeria_AvgDailyTotals_GlobalSolarAtlas_GEOTIFF/DNI.tif\",\n",
    "}"
   ]
  },
  {
   "cell_type": "code",
   "execution_count": 8,
   "metadata": {},
   "outputs": [],
   "source": [
    "def get_state_means(data_path, states=states):\n",
    "    # read raster files..\n",
    "    data = rasterio.open(data_path)\n",
    "    data_array = data.read()[0]\n",
    "    affine = data.transform\n",
    "\n",
    "    # calculate zonal statistics\n",
    "    averaged_data = rasterstats.zonal_stats(states, data_array, affine=affine, stats = [\"mean\"], geojson_out=True)\n",
    "\n",
    "    state_wind_average = []\n",
    "    for item in averaged_data:\n",
    "        state_wind_average.append((item[\"properties\"][\"admin1Name\"],\n",
    "        item[\"properties\"][\"mean\"]))\n",
    "\n",
    "    df = pd.DataFrame(state_wind_average, columns=[\"state\", \"value\"])\n",
    "    return df\n"
   ]
  },
  {
   "cell_type": "code",
   "execution_count": 11,
   "metadata": {},
   "outputs": [],
   "source": [
    "data_averages = {}\n",
    "for name, path in data_paths.items():\n",
    "    data_averages[name] = get_state_means(path, states=states)\n",
    "\n",
    "# TODO => save this in csv or pickle file.."
   ]
  },
  {
   "cell_type": "code",
   "execution_count": 19,
   "metadata": {},
   "outputs": [],
   "source": [
    "avg_vals = {n: i[\"value\"] for n, i in data_averages.items()}"
   ]
  },
  {
   "cell_type": "code",
   "execution_count": 13,
   "metadata": {},
   "outputs": [],
   "source": [
    "def calculate_power_panel(F_cur, T_a, w):\n",
    "    \"\"\"\n",
    "    F_cur = _ # W/m^2 current solar flux normal to the panel \n",
    "    T_a = _ # K / ºC, air temperature the panel is exposed to \n",
    "    w = _ # m/s, wind speed panel is exposed to \n",
    "    => all of these are arrays \n",
    "\n",
    "    return power potential of a single panel in the area defined by the characteristics above\n",
    "    \n",
    "    \"\"\"\n",
    "\n",
    "    # values that change based on design! \n",
    "    D_f = 0.864 # derating factor, product of correction factors for additional processes affecting solar output, Table 5.2 \n",
    "    E_panel = 0.18 # solar panel efficiency obtained under standard test conditions -- Ex 5.2\n",
    "    A_panel = 1.5 # m^2, surface area of the pane -- Ex 5.2\n",
    "    \n",
    "    # 5.9, cell temperature, empirical so units do not eqate \n",
    "    T_c = T_a + 0.32 * (F_cur/(8.91 + 2*w))\n",
    "\n",
    "    b_ref = 0.0025 # / K, temperature coefficient \n",
    "    T_th = 55 # K, threshold temeprature \n",
    "    T_ref = 298.15 # K, reference temperature \n",
    "    # 5.8, correction for cell temperature \n",
    "    C_temp = 1 - b_ref * np.maximum( np.minimum(T_c - T_ref, T_th ), 0 )\n",
    "\n",
    "    # 5.7 actual AC power output from a solar panel at a given time \n",
    "    # P_ac = p_mpp_stc * C_temp * D_f / F_1000 # W based on panel rating\n",
    "    P_ac = F_cur * A_panel * E_panel * C_temp * D_f # W, based on real conditions \n",
    "\n",
    "    return P_ac\n"
   ]
  },
  {
   "cell_type": "code",
   "execution_count": 28,
   "metadata": {},
   "outputs": [],
   "source": [
    "power_potential_panel  = calculate_power_panel(F_cur=avg_vals[\"solar_flux\"], T_a=avg_vals[\"temperature\"], w=avg_vals[\"wind_speed\"])"
   ]
  },
  {
   "cell_type": "code",
   "execution_count": null,
   "metadata": {},
   "outputs": [],
   "source": [
    "# determine the areas of each state, and determine the power potential if covered with identical arrays of solar panels.."
   ]
  },
  {
   "cell_type": "code",
   "execution_count": 36,
   "metadata": {},
   "outputs": [],
   "source": [
    "def calc_power_potential(A_spacing, single_panel_potential):\n",
    "    A_panel = 1.5 # m2\n",
    "    n_panels = A_spacing / A_panel \n",
    "    farm_potential = np.multiply(single_panel_potential,n_panels)\n",
    "    return farm_potential\n"
   ]
  },
  {
   "cell_type": "code",
   "execution_count": 37,
   "metadata": {},
   "outputs": [],
   "source": [
    "power_potential_panel_farm = calc_power_potential(A_spacing=state_areas[\"area (m2)\"], single_panel_potential=power_potential_panel) # W "
   ]
  },
  {
   "cell_type": "code",
   "execution_count": 41,
   "metadata": {},
   "outputs": [],
   "source": [
    "pd.set_option('display.float_format', lambda x: f'{x:,.0f}')"
   ]
  },
  {
   "cell_type": "code",
   "execution_count": 72,
   "metadata": {},
   "outputs": [],
   "source": [
    "def print_nice(float):\n",
    "    return print(f\"{float:,.0f}\")"
   ]
  },
  {
   "cell_type": "code",
   "execution_count": 44,
   "metadata": {},
   "outputs": [
    {
     "data": {
      "text/plain": [
       "0     14,664,504\n",
       "1    216,181,365\n",
       "2     18,836,287\n",
       "3     15,385,295\n",
       "4    280,529,102\n",
       "5     26,520,016\n",
       "6    122,937,080\n",
       "7    438,402,680\n",
       "8     67,789,466\n",
       "9     50,670,104\n",
       "10    21,464,071\n",
       "11    61,822,971\n",
       "12    20,599,605\n",
       "13    25,357,629\n",
       "14    30,046,811\n",
       "15    99,729,362\n",
       "16    15,369,809\n",
       "17   136,380,803\n",
       "18   228,872,721\n",
       "19   117,766,965\n",
       "20   141,914,461\n",
       "21   194,384,528\n",
       "22   108,112,180\n",
       "23   137,475,311\n",
       "24    12,028,823\n",
       "25   112,000,397\n",
       "26   320,905,478\n",
       "27    50,386,845\n",
       "28    47,323,629\n",
       "29    27,141,943\n",
       "30    95,342,015\n",
       "31   138,954,359\n",
       "32    29,053,395\n",
       "33   185,352,742\n",
       "34   282,570,754\n",
       "35   270,486,722\n",
       "36   186,765,332\n",
       "dtype: float64"
      ]
     },
     "execution_count": 44,
     "metadata": {},
     "output_type": "execute_result"
    }
   ],
   "source": [
    "w_to_mw = 1/1e6\n",
    "hours_per_year = 8760.0\n",
    "mw_to_mwh = hours_per_year\n",
    "power_potential_panel_farm_mwh = power_potential_panel_farm*w_to_mw*mw_to_mwh  # MW \n",
    "p3f = power_potential_panel_farm_mwh\n",
    "p3f"
   ]
  },
  {
   "cell_type": "code",
   "execution_count": 50,
   "metadata": {},
   "outputs": [],
   "source": [
    "p3f_sort = p3f.sort_values(ascending=False)"
   ]
  },
  {
   "cell_type": "code",
   "execution_count": 55,
   "metadata": {},
   "outputs": [
    {
     "data": {
      "text/plain": [
       "15928947.365634173"
      ]
     },
     "execution_count": 55,
     "metadata": {},
     "output_type": "execute_result"
    }
   ],
   "source": [
    "p3f_sort[0:5].apply(lambda x: x*0.01).sum() # mwh energy produced "
   ]
  },
  {
   "cell_type": "code",
   "execution_count": 62,
   "metadata": {},
   "outputs": [
    {
     "data": {
      "text/plain": [
       "2965654220.4539"
      ]
     },
     "execution_count": 62,
     "metadata": {},
     "output_type": "execute_result"
    }
   ],
   "source": [
    "state_areas.iloc[p3f_sort[0:5].index][\"area (m2)\"].apply(lambda x: x*0.01).sum()\n"
   ]
  },
  {
   "cell_type": "code",
   "execution_count": 63,
   "metadata": {},
   "outputs": [],
   "source": [
    "def calc_num_panels(p_land, num_states, state_energy, state_areas):\n",
    "    # calc energy available if use x percent land of top y most producing states \n",
    "    state_energy_sort = state_energy.sort_values(ascending=False)\n",
    "    state_energy_lim = state_energy_sort[0:num_states]\n",
    "\n",
    "    total_energy = state_energy_lim.apply(lambda x: x*p_land).sum()\n",
    "\n",
    "    # calc amount of land used to produce this energy \n",
    "    land_used = state_areas.iloc[state_energy_lim.index][\"area (m2)\"].apply(lambda x: x*p_land).sum()\n",
    "\n",
    "    # calc number of solar panels on this land, assuming standard panels \n",
    "    A_panel = 1.5 # m2\n",
    "    n_panels = land_used/A_panel \n",
    "\n",
    "    return {\n",
    "        \"total_energy (mwh)\": total_energy,\n",
    "        \"land_used (m2)\": land_used,\n",
    "        \"n_panels\": n_panels\n",
    "    }\n",
    "\n",
    "\n",
    "    \n",
    "\n",
    "    "
   ]
  },
  {
   "cell_type": "code",
   "execution_count": 73,
   "metadata": {},
   "outputs": [],
   "source": [
    "test_1 = calc_num_panels(p_land=0.02, num_states=5, state_energy=p3f, state_areas=state_areas)"
   ]
  },
  {
   "cell_type": "code",
   "execution_count": 74,
   "metadata": {},
   "outputs": [
    {
     "name": "stdout",
     "output_type": "stream",
     "text": [
      "31,857,895\n",
      "5,931,308,441\n",
      "3,954,205,627\n"
     ]
    },
    {
     "data": {
      "text/plain": [
       "{'total_energy (mwh)': None, 'land_used (m2)': None, 'n_panels': None}"
      ]
     },
     "execution_count": 74,
     "metadata": {},
     "output_type": "execute_result"
    }
   ],
   "source": [
    "{k: print_nice(v) for k,v in test_1.items() }"
   ]
  },
  {
   "cell_type": "code",
   "execution_count": 47,
   "metadata": {},
   "outputs": [
    {
     "name": "stdout",
     "output_type": "stream",
     "text": [
      "3,209,055\n"
     ]
    }
   ],
   "source": [
    "print_nice(p3f[26]*0.01)\n"
   ]
  }
 ],
 "metadata": {
  "kernelspec": {
   "display_name": "classenv",
   "language": "python",
   "name": "python3"
  },
  "language_info": {
   "codemirror_mode": {
    "name": "ipython",
    "version": 3
   },
   "file_extension": ".py",
   "mimetype": "text/x-python",
   "name": "python",
   "nbconvert_exporter": "python",
   "pygments_lexer": "ipython3",
   "version": "3.9.15"
  },
  "orig_nbformat": 4
 },
 "nbformat": 4,
 "nbformat_minor": 2
}
