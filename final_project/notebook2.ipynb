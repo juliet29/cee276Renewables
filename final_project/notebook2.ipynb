{
 "cells": [
  {
   "cell_type": "code",
   "execution_count": 5,
   "metadata": {},
   "outputs": [],
   "source": [
    "import numpy as np\n",
    "# import units as u\n",
    "import numpy as np\n",
    "import pandas as pd\n",
    "\n",
    "import rasterio\n",
    "from rasterio.plot import show_hist, show\n",
    "import geopandas as gpd\n",
    "import rasterstats\n",
    "from shapely.geometry import shape\n",
    "\n",
    "import plotly.graph_objects as go\n",
    "from plotly.subplots import make_subplots\n",
    "from matplotlib import pyplot as plt\n",
    "\n",
    "from icecream import ic"
   ]
  },
  {
   "cell_type": "code",
   "execution_count": 6,
   "metadata": {},
   "outputs": [],
   "source": [
    "def print_nice(float):\n",
    "    return print(f\"{float:,.0f}\")\n",
    "\n",
    "# conversions \n",
    "w_to_mw = 1/1e6\n",
    "w_to_kw = 1/1e3\n",
    "hours_per_year = 8760.0\n",
    "w_to_wh = hours_per_year\n",
    "\n",
    "kw_to_w = 1/w_to_kw\n",
    "wh_to_w = 1/w_to_wh"
   ]
  },
  {
   "attachments": {},
   "cell_type": "markdown",
   "metadata": {},
   "source": [
    "## calculate areas of states\n",
    "- will take the average of everything on a state by state basis"
   ]
  },
  {
   "cell_type": "code",
   "execution_count": 7,
   "metadata": {},
   "outputs": [],
   "source": [
    "# shape file definining administrative borders \n",
    "states_path = \"data/states/nga_admbnda_adm1_osgof_20161215.shp\"\n",
    "states = gpd.read_file(states_path)"
   ]
  },
  {
   "cell_type": "code",
   "execution_count": 8,
   "metadata": {},
   "outputs": [
    {
     "data": {
      "text/html": [
       "<div>\n",
       "<style scoped>\n",
       "    .dataframe tbody tr th:only-of-type {\n",
       "        vertical-align: middle;\n",
       "    }\n",
       "\n",
       "    .dataframe tbody tr th {\n",
       "        vertical-align: top;\n",
       "    }\n",
       "\n",
       "    .dataframe thead th {\n",
       "        text-align: right;\n",
       "    }\n",
       "</style>\n",
       "<table border=\"1\" class=\"dataframe\">\n",
       "  <thead>\n",
       "    <tr style=\"text-align: right;\">\n",
       "      <th></th>\n",
       "      <th>state</th>\n",
       "      <th>area (m2)</th>\n",
       "    </tr>\n",
       "  </thead>\n",
       "  <tbody>\n",
       "    <tr>\n",
       "      <th>0</th>\n",
       "      <td>Abia</td>\n",
       "      <td>4.858882e+09</td>\n",
       "    </tr>\n",
       "    <tr>\n",
       "      <th>1</th>\n",
       "      <td>Adamawa</td>\n",
       "      <td>3.792499e+10</td>\n",
       "    </tr>\n",
       "    <tr>\n",
       "      <th>2</th>\n",
       "      <td>Akwa Ibom</td>\n",
       "      <td>6.736774e+09</td>\n",
       "    </tr>\n",
       "    <tr>\n",
       "      <th>3</th>\n",
       "      <td>Anambra</td>\n",
       "      <td>4.807933e+09</td>\n",
       "    </tr>\n",
       "    <tr>\n",
       "      <th>4</th>\n",
       "      <td>Bauchi</td>\n",
       "      <td>4.849640e+10</td>\n",
       "    </tr>\n",
       "  </tbody>\n",
       "</table>\n",
       "</div>"
      ],
      "text/plain": [
       "       state     area (m2)\n",
       "0       Abia  4.858882e+09\n",
       "1    Adamawa  3.792499e+10\n",
       "2  Akwa Ibom  6.736774e+09\n",
       "3    Anambra  4.807933e+09\n",
       "4     Bauchi  4.849640e+10"
      ]
     },
     "execution_count": 8,
     "metadata": {},
     "output_type": "execute_result"
    }
   ],
   "source": [
    "states_m = states.to_crs('epsg:32632')\n",
    "state_areas = pd.DataFrame(states_m.apply(lambda x: (x.admin1Name, shape(x[\"geometry\"]).area ), axis=1).to_list(), columns=[\"state\", \"area (m2)\"])\n",
    "state_areas.head()\n",
    "\n",
    "# TODO => save this in csv or pickle file..\n",
    "\n",
    "# state_areas[\"area (m2)\"].sum()/ 1e6 # ~ 923,768 km2"
   ]
  },
  {
   "cell_type": "code",
   "execution_count": 9,
   "metadata": {},
   "outputs": [],
   "source": [
    "# state_areas.to_csv(f\"clean_data/state_areas.csv\")"
   ]
  },
  {
   "cell_type": "code",
   "execution_count": 12,
   "metadata": {},
   "outputs": [],
   "source": [
    "# pd.read_csv(\"clean_data/state_areas.csv\", index_col=0)c"
   ]
  },
  {
   "attachments": {},
   "cell_type": "markdown",
   "metadata": {},
   "source": [
    "## calculate renewable resource "
   ]
  },
  {
   "cell_type": "code",
   "execution_count": 14,
   "metadata": {},
   "outputs": [],
   "source": [
    "# raster data sources => wind, temperature, solar flux \n",
    "\n",
    "data_paths = {\n",
    "    \"wind_speed\": \"data/Nigeria_MeanWindSpeed/NGA_wind-speed_100m.tif\", # m/s\n",
    "    \"temperature\": \"data/Nigeria_AvgDailyTotals_GlobalSolarAtlas_GEOTIFF/TEMP.tif\", # ºC\n",
    "    \"solar_flux\": \"data/Nigeria_AvgDailyTotals_GlobalSolarAtlas_GEOTIFF/DNI.tif\", #kwh/m2\n",
    "}\n"
   ]
  },
  {
   "cell_type": "code",
   "execution_count": 15,
   "metadata": {},
   "outputs": [],
   "source": [
    "def get_state_means(data_path, states=states):\n",
    "    # read raster files..\n",
    "    data = rasterio.open(data_path)\n",
    "    data_array = data.read()[0]\n",
    "    affine = data.transform\n",
    "\n",
    "    # calculate zonal statistics\n",
    "    averaged_data = rasterstats.zonal_stats(states, data_array, affine=affine, stats = [\"mean\"], geojson_out=True)\n",
    "\n",
    "    state_wind_average = []\n",
    "    for item in averaged_data:\n",
    "        state_wind_average.append((item[\"properties\"][\"admin1Name\"],\n",
    "        item[\"properties\"][\"mean\"]))\n",
    "\n",
    "    df = pd.DataFrame(state_wind_average, columns=[\"state\", \"value\"])\n",
    "    return df\n"
   ]
  },
  {
   "cell_type": "code",
   "execution_count": 16,
   "metadata": {},
   "outputs": [],
   "source": [
    "# don't need to run the function, just use saved dat \n",
    "# data_averages = {}\n",
    "# for name, path in data_paths.items():\n",
    "#     data_averages[name] = get_state_means(path, states=states)\n",
    "\n",
    "data_averages = {}\n",
    "for name, path in data_paths.items():\n",
    "    data_averages[name] = pd.read_csv(f\"clean_data/{name}.csv\", index_col=0)\n",
    "\n",
    "# remove names of states, just create lists \n",
    "avg_vals = {n: i[\"value\"] for n, i in data_averages.items()}\n",
    "\n",
    "# TODO => need different wind speeds => need speeds at ground level for solar, and at 100 - 150 m for turbines "
   ]
  },
  {
   "attachments": {},
   "cell_type": "markdown",
   "metadata": {},
   "source": [
    "## calculate solar resource"
   ]
  },
  {
   "cell_type": "code",
   "execution_count": 183,
   "metadata": {},
   "outputs": [],
   "source": [
    "def calculate_power_panel(F_cur, T_a, w):\n",
    "    \"\"\"\n",
    "    F_cur = _ # W/m^2 current solar flux normal to the panel \n",
    "    T_a = _ # K / ºC, air temperature the panel is exposed to \n",
    "    w = _ # m/s, wind speed panel is exposed to \n",
    "    => all of these are arrays \n",
    "\n",
    "    return power potential of a single panel in the area defined by the characteristics above\n",
    "    \n",
    "    \"\"\"\n",
    "    F_cur = F_cur  * kw_to_w # TODO comes in with kwh/m2 strange, just converting to \"wh\", not sure of the timing ...\n",
    "    # values that change based on design! \n",
    "    D_f = 0.864 # derating factor, product of correction factors for additional processes affecting solar output, Table 5.2 \n",
    "    E_panel = 0.18 # solar panel efficiency obtained under standard test conditions -- Ex 5.2\n",
    "    A_panel = 1.5 # m^2, surface area of the pane -- Ex 5.2\n",
    "    \n",
    "    # 5.9, cell temperature, empirical so units do not eqate \n",
    "    T_c = T_a + 0.32 * (F_cur/(8.91 + 2*w))\n",
    "\n",
    "    b_ref = 0.0025 # / K, temperature coefficient \n",
    "    T_th = 55 # K, threshold temeprature \n",
    "    T_ref = 298.15 # K, reference temperature \n",
    "    # 5.8, correction for cell temperature \n",
    "    C_temp = 1 - b_ref * np.maximum( np.minimum(T_c - T_ref, T_th ), 0 )\n",
    "\n",
    "    # 5.7 actual AC power output from a solar panel at a given time \n",
    "    # P_ac = p_mpp_stc * C_temp * D_f / F_1000 # W based on panel rating\n",
    "    P_ac = F_cur * A_panel * E_panel * C_temp * D_f # W, based on real conditions \n",
    "\n",
    "    # panels arent rated, unclear? given volts etc...\n",
    "\n",
    "\n",
    "    return P_ac\n",
    "\n",
    "\n",
    "def calc_num_panels(p_land, num_states, state_areas, P_ac):\n",
    "\n",
    "    # want to use land in states that are most productive\n",
    "    state_energy_sort = P_t_after_losses.sort_values(ascending=False)\n",
    "    state_energy_lim = state_energy_sort[0:num_states]\n",
    "\n",
    "    # land available to use is a percent of the total land in the state \n",
    "    land_avail = state_areas.iloc[state_energy_lim.index][\"area (m2)\"].apply(lambda x: x*p_land)\n",
    "\n",
    "    # calc number of solar panels on this land, assuming standard panels \n",
    "    A_panel = 1.5 # m2\n",
    "    n_panels = np.round(land_avail/A_panel)\n",
    "\n",
    "    # installed_power = P_mpp * n_panels TODO: think this should be some function of the array layout...\n",
    "\n",
    "    true_power = n_panels * P_ac\n",
    "\n",
    "    total_energy = true_power.sum()*w_to_mw*mw_to_mwh\n",
    "\n",
    "    return {\n",
    "        \"n_panels\": n_panels.dropna(),\n",
    "        # \"installed_power\": installed_power.dropna(),\n",
    "        \"true_power\": true_power.dropna(),\n",
    "        # \"capacity_factors\": true_power.dropna()/installed_power.dropna(),\n",
    "        \"total_energy (mwh)\": total_energy,\n",
    "        \n",
    "    }\n"
   ]
  },
  {
   "cell_type": "code",
   "execution_count": 28,
   "metadata": {},
   "outputs": [],
   "source": [
    "power_potential_panel  = calculate_power_panel(F_cur=avg_vals[\"solar_flux\"], T_a=avg_vals[\"temperature\"], w=avg_vals[\"wind_speed\"])"
   ]
  },
  {
   "cell_type": "code",
   "execution_count": 186,
   "metadata": {},
   "outputs": [
    {
     "name": "stdout",
     "output_type": "stream",
     "text": [
      "6,545,344\n"
     ]
    },
    {
     "data": {
      "text/plain": [
       "{'n_panels': 20   319,438,981.000\n",
       " 33   430,101,204.000\n",
       " Name: area (m2), dtype: float64,\n",
       " 'true_power': 20   324,005,618.448\n",
       " 33   423,179,775.714\n",
       " dtype: float64,\n",
       " 'total_energy (mwh)': 6545344.052853821}"
      ]
     },
     "execution_count": 186,
     "metadata": {},
     "output_type": "execute_result"
    }
   ],
   "source": [
    "res = calc_num_panels(p_land=0.02, num_states=2, state_areas=state_areas, P_ac=power_potential_panel)\n",
    "print_nice(res[\"total_energy (mwh)\"])\n",
    "res"
   ]
  },
  {
   "attachments": {},
   "cell_type": "markdown",
   "metadata": {},
   "source": [
    "## calculate wind resource "
   ]
  },
  {
   "cell_type": "code",
   "execution_count": 188,
   "metadata": {},
   "outputs": [],
   "source": [
    "def calculate_power_potential_turbine(V_m):\n",
    "    \"\"\"\n",
    "    V_m : mean wind speed # m/s # mean wind speed, will get this from a data source for different areas.\n",
    "    \"\"\"\n",
    "\n",
    "    ## --- atmosphereic values # TODO get real values \n",
    "    rho = 1.23 # kg/m^3 # air density, should be a function of turbine height \n",
    "\n",
    "    ## ---  turbine details #TODO find realistic value \n",
    "    # source: https://www.energy.gov/eere/articles/wind-turbines-bigger-better\n",
    "    D_t = 127 # m \n",
    "\n",
    "\n",
    "    # 6.7, the swept area of a wind turbine \n",
    "    A_t = np.pi * D_t**2 / 4\n",
    "\n",
    "    # 6.11, assuming a Rayleigh distribution of wind speeds, the mean power available in the wind is P_m \n",
    "    # P_m = 1/2 * rho * A_t * np.sum(f(v) * v**3 )\n",
    "    P_m = (6/np.pi) * (0.5) * rho * A_t * V_m**3 # W\n",
    "\n",
    "    # choose turbines that are rated higher than the power available in the wind \n",
    "    # has to be in kilowatts for generalized capacity factor equation \n",
    "    P_r = np.ceil(P_m/ 500) * 500\n",
    "    \n",
    "\n",
    "    # 6.28, generalized capacity factor equation \n",
    "    CF = 0.087 * V_m - ((P_r * w_to_kw)/(D_t**2))\n",
    "\n",
    "    # 6.24, gross annual energy output and power output \n",
    "    H = 8760 # non leap year hours in  a day \n",
    "    P_t = P_r * CF \n",
    "    E_t = P_t * H \n",
    "\n",
    "    # account for losses \n",
    "    L_td = 16.1 # tranmission and distribution loss, Table 6.3\n",
    "    L_d = 1.6 # downtime losses, Section 6.6.6.2 ~ Faultstich et al 2011 \n",
    "    L_c = 0 # curtailment losses, assume storage is available \n",
    "    L_a = 0.2 # array losses, # Figure 6.25b, Jacobson and Archer TODO model array losses as function of density... \n",
    "    pL_td = 1 - L_td/100 \n",
    "    pL_d = 1 - L_td/100 \n",
    "    pL_c = 1 - L_c/100\n",
    "    pL_a = 1 - L_a/100 \n",
    "    L_t = (1 - (pL_td * pL_d * pL_c * pL_a )) # compound losses \n",
    "\n",
    "    P_t_after_losses = P_t * (1 - L_t)\n",
    "\n",
    "\n",
    "    return P_m, P_t, CF, P_t_after_losses, P_r\n",
    "\n",
    "\n",
    "def calc_num_turbines(p_land, num_states, state_areas, P_t_after_losses, P_r):\n",
    "\n",
    "    # want to use land in states that are most productive\n",
    "    state_energy_sort = P_t_after_losses.sort_values(ascending=False)\n",
    "    state_energy_lim = state_energy_sort[0:num_states]\n",
    "\n",
    "    # land available to use is a percent of the total land in the state \n",
    "    land_avail = state_areas.iloc[state_energy_lim.index][\"area (m2)\"].apply(lambda x: x*p_land)\n",
    "\n",
    "    # determine the number of turbines that can fit on land using rated power \n",
    "    installed_power_density = 19.8 # mw/km2 => w/m2, # W/m2 Table 6.4, mean output power density of onshore europe turbines\n",
    "    # TODO see Enevoldsen and Jacobson 2020 to see how array losses compared with density for L_a above \n",
    "\n",
    "    n_turbines = np.round(installed_power_density / P_r * land_avail )\n",
    "\n",
    "    installed_power = n_turbines * P_r \n",
    "\n",
    "    true_power = n_turbines * P_t_after_losses\n",
    "\n",
    "    total_energy = true_power.sum()*w_to_mw*w_to_wh\n",
    "\n",
    "\n",
    "    return {\n",
    "        \"n_turbines\": n_turbines.dropna(),\n",
    "        \"installed_power\": installed_power.dropna(),\n",
    "        \"true_power\": true_power.dropna(),\n",
    "        \"capacity_factors\": true_power.dropna()/installed_power.dropna(),\n",
    "        \"total_energy (mwh)\": total_energy,\n",
    "        \n",
    "    }\n",
    " "
   ]
  },
  {
   "cell_type": "code",
   "execution_count": 153,
   "metadata": {},
   "outputs": [],
   "source": [
    "pd.set_option('display.float_format', lambda x: f'{x:,.3f}')\n",
    "P_m, P_t, CF, P_t_after_losses, P_r   = calculate_power_potential_turbine(V_m=avg_vals[\"wind_speed\"])"
   ]
  },
  {
   "cell_type": "code",
   "execution_count": 189,
   "metadata": {},
   "outputs": [
    {
     "name": "stdout",
     "output_type": "stream",
     "text": [
      "43,276,424\n"
     ]
    },
    {
     "data": {
      "text/plain": [
       "{'n_turbines': 20   2,392.000\n",
       " 33   3,426.000\n",
       " dtype: float64,\n",
       " 'installed_power': 20    9,485,476,000.000\n",
       " 33   12,775,554,000.000\n",
       " dtype: float64,\n",
       " 'true_power': 20   2,092,473,485.803\n",
       " 33   2,847,757,612.994\n",
       " dtype: float64,\n",
       " 'capacity_factors': 20   0.221\n",
       " 33   0.223\n",
       " dtype: float64,\n",
       " 'total_energy (mwh)': 43276424.42545776}"
      ]
     },
     "execution_count": 189,
     "metadata": {},
     "output_type": "execute_result"
    }
   ],
   "source": [
    "res = calc_num_turbines(p_land=0.02, num_states=2, state_areas=state_areas, P_t_after_losses=P_t_after_losses, P_r=P_r)\n",
    "print_nice(res[\"total_energy (mwh)\"])\n",
    "res\n"
   ]
  }
 ],
 "metadata": {
  "kernelspec": {
   "display_name": "classenv",
   "language": "python",
   "name": "python3"
  },
  "language_info": {
   "codemirror_mode": {
    "name": "ipython",
    "version": 3
   },
   "file_extension": ".py",
   "mimetype": "text/x-python",
   "name": "python",
   "nbconvert_exporter": "python",
   "pygments_lexer": "ipython3",
   "version": "3.9.15"
  },
  "orig_nbformat": 4
 },
 "nbformat": 4,
 "nbformat_minor": 2
}
