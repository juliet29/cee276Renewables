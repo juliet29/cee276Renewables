{
 "cells": [
  {
   "cell_type": "code",
   "execution_count": 5,
   "metadata": {},
   "outputs": [],
   "source": [
    "from pint import UnitRegistry\n",
    "import numpy as np\n",
    "import units as u"
   ]
  },
  {
   "cell_type": "code",
   "execution_count": null,
   "metadata": {},
   "outputs": [],
   "source": []
  },
  {
   "attachments": {},
   "cell_type": "markdown",
   "metadata": {},
   "source": [
    "## units"
   ]
  },
  {
   "cell_type": "code",
   "execution_count": 144,
   "metadata": {},
   "outputs": [],
   "source": [
    "u = UnitRegistry()\n",
    "u.default_format = '.3f'\n",
    "u.define('USD = currency')\n",
    "USD = u.USD\n",
    "kg = u.kilogram\n",
    "m = u.meter \n",
    "s = u.second\n",
    "newton = u.newton\n",
    "kwh = u.kilowatt*u.hour\n",
    "day = u.day\n",
    "hour = u.hour\n",
    "mj = u.megajoule\n",
    "j = u.joule\n"
   ]
  },
  {
   "attachments": {},
   "cell_type": "markdown",
   "metadata": {},
   "source": [
    "## 1.10 global warming potential"
   ]
  },
  {
   "cell_type": "code",
   "execution_count": null,
   "metadata": {},
   "outputs": [],
   "source": []
  },
  {
   "attachments": {},
   "cell_type": "markdown",
   "metadata": {},
   "source": [
    "## 2.3 pumped hydropower storage"
   ]
  },
  {
   "cell_type": "code",
   "execution_count": 102,
   "metadata": {},
   "outputs": [],
   "source": [
    "specific_density = 9807 * newton / (m**3)\n",
    "area = 3000 * m**2\n",
    "depth = 3 * m\n",
    "dH = 30 * m\n",
    "peff = 0.9\n",
    "tpeff = 0.85\n",
    "time = (3*day).to(hour)"
   ]
  },
  {
   "cell_type": "code",
   "execution_count": 103,
   "metadata": {},
   "outputs": [
    {
     "name": "stdout",
     "output_type": "stream",
     "text": [
      "2025635850.000 meter * newton \n",
      " 562.677 hour * kilowatt\n"
     ]
    }
   ],
   "source": [
    "energy = specific_density*area*depth*dH*peff*tpeff\n",
    "energy_kwh = energy.to(kwh)\n",
    "print(energy, \"\\n\", energy_kwh)"
   ]
  },
  {
   "cell_type": "code",
   "execution_count": 104,
   "metadata": {},
   "outputs": [
    {
     "data": {
      "text/html": [
       "7.814953125000001 kilowatt"
      ],
      "text/latex": [
       "$7.814953125000001\\ \\mathrm{kilowatt}$"
      ],
      "text/plain": [
       "7.814953125000001 <Unit('kilowatt')>"
      ]
     },
     "execution_count": 104,
     "metadata": {},
     "output_type": "execute_result"
    }
   ],
   "source": [
    "power = energy_kwh/time\n",
    "power"
   ]
  },
  {
   "attachments": {},
   "cell_type": "markdown",
   "metadata": {},
   "source": [
    "## 2.5 jet fuel vs hydrogen "
   ]
  },
  {
   "cell_type": "code",
   "execution_count": 105,
   "metadata": {},
   "outputs": [],
   "source": [
    "class EnergySource:\n",
    "    def __init__(self, lhv, eff, density):\n",
    "        self.lhv = lhv * mj / kg # lower heating value \n",
    "        self.eff = eff\n",
    "        self.density = density * kg / m**3\n",
    "\n",
    "    def __str__(self):\n",
    "        return f\"{self.lhv}, {self.eff}, {self.density}\""
   ]
  },
  {
   "cell_type": "code",
   "execution_count": 106,
   "metadata": {},
   "outputs": [],
   "source": [
    "jet_fuel = EnergySource(42.8, 0.25, 810.53)\n",
    "hydrogen = EnergySource(119.96, 0.55, 70.9)"
   ]
  },
  {
   "cell_type": "code",
   "execution_count": 107,
   "metadata": {},
   "outputs": [
    {
     "data": {
      "text/html": [
       "1.853990437723802 dimensionless"
      ],
      "text/latex": [
       "$1.853990437723802\\ dimensionless$"
      ],
      "text/plain": [
       "1.853990437723802 <Unit('dimensionless')>"
      ]
     },
     "execution_count": 107,
     "metadata": {},
     "output_type": "execute_result"
    }
   ],
   "source": [
    "volume_ratio = (jet_fuel.lhv * jet_fuel.eff * jet_fuel.density ) / (hydrogen.lhv * hydrogen.eff * hydrogen.density )\n",
    "volume_ratio"
   ]
  },
  {
   "cell_type": "code",
   "execution_count": 108,
   "metadata": {},
   "outputs": [
    {
     "data": {
      "text/html": [
       "0.162175270544727 dimensionless"
      ],
      "text/latex": [
       "$0.162175270544727\\ dimensionless$"
      ],
      "text/plain": [
       "0.162175270544727 <Unit('dimensionless')>"
      ]
     },
     "execution_count": 108,
     "metadata": {},
     "output_type": "execute_result"
    }
   ],
   "source": [
    "mass_ratio = (jet_fuel.lhv * jet_fuel.eff ) / (hydrogen.lhv * hydrogen.eff )\n",
    "mass_ratio"
   ]
  },
  {
   "attachments": {},
   "cell_type": "markdown",
   "metadata": {},
   "source": [
    "## 2.8 elecric vehicle "
   ]
  },
  {
   "cell_type": "code",
   "execution_count": 122,
   "metadata": {},
   "outputs": [],
   "source": [
    "vehicle_li_need = 10.5 * kg \n",
    "n_vehicles = 100e6\n",
    "vehicle_li_energy = 6.67 * kwh/kg"
   ]
  },
  {
   "cell_type": "code",
   "execution_count": 123,
   "metadata": {},
   "outputs": [
    {
     "data": {
      "text/html": [
       "7003500000.0 hour kilowatt"
      ],
      "text/latex": [
       "$7003500000.0\\ \\mathrm{hour} \\cdot \\mathrm{kilowatt}$"
      ],
      "text/plain": [
       "7003500000.0 <Unit('hour * kilowatt')>"
      ]
     },
     "execution_count": 123,
     "metadata": {},
     "output_type": "execute_result"
    }
   ],
   "source": [
    "all_vehicle_energy = vehicle_li_energy * vehicle_li_need * n_vehicles\n",
    "all_vehicle_energy"
   ]
  },
  {
   "attachments": {},
   "cell_type": "markdown",
   "metadata": {},
   "source": [
    "## 2.9 grid electric payment"
   ]
  },
  {
   "cell_type": "code",
   "execution_count": 148,
   "metadata": {},
   "outputs": [
    {
     "data": {
      "text/html": [
       "24 hour kilowatt"
      ],
      "text/latex": [
       "$24\\ \\mathrm{hour} \\cdot \\mathrm{kilowatt}$"
      ],
      "text/plain": [
       "24 <Unit('hour * kilowatt')>"
      ]
     },
     "execution_count": 148,
     "metadata": {},
     "output_type": "execute_result"
    }
   ],
   "source": [
    "energy_used = (10 * u.kilowatt) * (3 * hour)\n",
    "battery_storage = 6 * kwh\n",
    "excess_energy = energy_used - battery_storage\n",
    "excess_energy\n"
   ]
  },
  {
   "cell_type": "code",
   "execution_count": 149,
   "metadata": {},
   "outputs": [
    {
     "data": {
      "text/html": [
       "4.800000000000001 USD"
      ],
      "text/latex": [
       "$4.800000000000001\\ \\mathrm{USD}$"
      ],
      "text/plain": [
       "4.800000000000001 <Unit('USD')>"
      ]
     },
     "execution_count": 149,
     "metadata": {},
     "output_type": "execute_result"
    }
   ],
   "source": [
    "# fee payable \n",
    "utility_rate = 0.2 * USD / kwh\n",
    "utility_payment = utility_rate * excess_energy\n",
    "utility_payment"
   ]
  },
  {
   "attachments": {},
   "cell_type": "markdown",
   "metadata": {},
   "source": [
    "## 2.10 solar vs grid payment"
   ]
  },
  {
   "cell_type": "code",
   "execution_count": null,
   "metadata": {},
   "outputs": [],
   "source": []
  },
  {
   "attachments": {},
   "cell_type": "markdown",
   "metadata": {},
   "source": [
    "## 2.11 water pit "
   ]
  },
  {
   "cell_type": "code",
   "execution_count": 109,
   "metadata": {},
   "outputs": [
    {
     "data": {
      "text/html": [
       "150000000.0 kilogram"
      ],
      "text/latex": [
       "$150000000.0\\ \\mathrm{kilogram}$"
      ],
      "text/plain": [
       "150000000.0 <Unit('kilogram')>"
      ]
     },
     "execution_count": 109,
     "metadata": {},
     "output_type": "execute_result"
    }
   ],
   "source": [
    "# m = rho * v \n",
    "density = 1000 * kg / m**3\n",
    "volume = 150000 * m**3\n",
    "mass = density * volume\n",
    "mass"
   ]
  },
  {
   "cell_type": "code",
   "execution_count": 110,
   "metadata": {},
   "outputs": [
    {
     "data": {
      "text/plain": [
       "(15 <Unit('degree_Celsius')>, 288.15 <Unit('kelvin')>)"
      ]
     },
     "execution_count": 110,
     "metadata": {},
     "output_type": "execute_result"
    }
   ],
   "source": [
    "# convert temperature \n",
    "Q_ = u.Quantity\n",
    "natural_temp = Q_(15, u.degC)\n",
    "natural_temp_K = natural_temp.to(\"kelvin\")\n",
    "natural_temp, natural_temp_K"
   ]
  },
  {
   "cell_type": "code",
   "execution_count": 111,
   "metadata": {},
   "outputs": [
    {
     "data": {
      "text/plain": [
       "(10 <Unit('gigawatt * hour')>, 36000000000000.0 <Unit('joule')>)"
      ]
     },
     "execution_count": 111,
     "metadata": {},
     "output_type": "execute_result"
    }
   ],
   "source": [
    "# comvert energy \n",
    "energy = 10 * u.gigawatt * hour \n",
    "energy_joules = energy.to(j)\n",
    "energy, energy_joules"
   ]
  },
  {
   "cell_type": "code",
   "execution_count": 120,
   "metadata": {},
   "outputs": [
    {
     "data": {
      "text/plain": [
       "(345.4839703774486 <Unit('kelvin')>,\n",
       " 72.33397037744862 <Unit('degree_Celsius')>)"
      ]
     },
     "execution_count": 120,
     "metadata": {},
     "output_type": "execute_result"
    }
   ],
   "source": [
    "# energy = mass * specific heat capacity * (T2 - T1)\n",
    "# T2 = energy/(mass* specific heat capacity) + T1\n",
    "c = 4186 * j / (kg * u.degreeK )\n",
    "\n",
    "raised_temp_K = energy_joules/(mass*c) + natural_temp_K\n",
    "raised_temp = raised_temp_K.to(\"degC\")\n",
    "raised_temp_K, raised_temp"
   ]
  },
  {
   "cell_type": "markdown",
   "metadata": {},
   "source": []
  },
  {
   "cell_type": "code",
   "execution_count": null,
   "metadata": {},
   "outputs": [],
   "source": []
  },
  {
   "cell_type": "code",
   "execution_count": null,
   "metadata": {},
   "outputs": [],
   "source": []
  }
 ],
 "metadata": {
  "kernelspec": {
   "display_name": "classenv",
   "language": "python",
   "name": "python3"
  },
  "language_info": {
   "codemirror_mode": {
    "name": "ipython",
    "version": 3
   },
   "file_extension": ".py",
   "mimetype": "text/x-python",
   "name": "python",
   "nbconvert_exporter": "python",
   "pygments_lexer": "ipython3",
   "version": "3.9.15"
  },
  "orig_nbformat": 4
 },
 "nbformat": 4,
 "nbformat_minor": 2
}
